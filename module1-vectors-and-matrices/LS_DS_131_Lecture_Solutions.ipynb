{
 "cells": [
  {
   "cell_type": "markdown",
   "metadata": {
    "colab_type": "text",
    "id": "iovQcSbqJl0_"
   },
   "source": [
    "**Objectives**\n",
    "- Student should be able to Explain why we care about linear algebra in the scope of data science\n",
    "- Student should be able to Conceptualize and utilize vectors and matrices through matrix operations and properties such as: square matrix, identity matrix, transpose and inverse"
   ]
  },
  {
   "cell_type": "markdown",
   "metadata": {
    "colab_type": "text",
    "id": "M8hglzzK9A-4"
   },
   "source": [
    "**Linear Algebra - organize and execute big calculations/operations really fast**\n",
    "\n",
    "So why linear algebra? Because the mathematical principles behinds **vectors** and **matrices** (lists and 2D lists) will help us lay the foundation for most algorithms used in machine learning.\n",
    "\n",
    "**Matrix Multiplication:**\n",
    "\n",
    "<img src=\"https://2000thingswpf.files.wordpress.com/2013/04/794-002.png?w=630\" width=\"400\">\n"
   ]
  },
  {
   "cell_type": "markdown",
   "metadata": {
    "colab_type": "text",
    "id": "Egs4F1Wgcb3J"
   },
   "source": [
    "- Deep Learning: Convolutional Neural Networks, (Image Recognition)\n",
    "\n",
    "\n",
    "\n",
    "\"Convolving\" is the process of passing a filter/kernel (small matrix) over the pixels of an image, multiplying them together, and using the result to create a new matrix. The resulting matrix will be a new image that has been modified by the filter to emphasize certain qualities of an image. This is entirely a linear algebra-based process. A convolutional neural network learns the filters that help it best identify certain aspects of images and thereby classify immages more accurately. \n",
    "\n",
    "<img src=\"https://icecreamlabs.com/wp-content/uploads/2018/08/33-con.gif\">"
   ]
  },
  {
   "cell_type": "markdown",
   "metadata": {
    "colab_type": "text",
    "id": "YceHUblDSHOF"
   },
   "source": [
    "# Linear Algebra Overview"
   ]
  },
  {
   "cell_type": "markdown",
   "metadata": {},
   "source": [
    "## Part 0: Linear Algebra with Numpy\n",
    "\n",
    "[Helpful NumPy Linear Algebra Functions](https://docs.scipy.org/doc/numpy-1.15.1/reference/routines.linalg.html)"
   ]
  },
  {
   "cell_type": "code",
   "execution_count": 2,
   "metadata": {},
   "outputs": [],
   "source": [
    "import math\n",
    "import matplotlib.pyplot as plt\n",
    "import numpy as np"
   ]
  },
  {
   "cell_type": "code",
   "execution_count": 3,
   "metadata": {},
   "outputs": [],
   "source": [
    "# python lists\n",
    "a = [1,2,3]\n",
    "b = [4,5,6]"
   ]
  },
  {
   "cell_type": "code",
   "execution_count": 4,
   "metadata": {},
   "outputs": [
    {
     "data": {
      "text/plain": [
       "[1, 2, 3, 4, 5, 6]"
      ]
     },
     "execution_count": 4,
     "metadata": {},
     "output_type": "execute_result"
    }
   ],
   "source": [
    "# list concatenation (appending one to the end of the other)\n",
    "a+b"
   ]
  },
  {
   "cell_type": "code",
   "execution_count": 5,
   "metadata": {},
   "outputs": [
    {
     "name": "stdout",
     "output_type": "stream",
     "text": [
      "[1 2 3]\n",
      "[4 5 6]\n"
     ]
    }
   ],
   "source": [
    "# turn these lists into numpy arrays\n",
    "np_a = np.array(a)\n",
    "np_b = np.array(b)\n",
    "# linear algebra is built on arrays.\n",
    "print(np_a)\n",
    "print(np_b)"
   ]
  },
  {
   "cell_type": "markdown",
   "metadata": {
    "colab_type": "text",
    "id": "ke1ffJRNMOnv"
   },
   "source": [
    "## Part 1. Scalars"
   ]
  },
  {
   "cell_type": "markdown",
   "metadata": {
    "colab_type": "text",
    "id": "ODzKTJLGTnBz"
   },
   "source": [
    "A single number. Variables representing scalars are typically written in lower case.\n",
    "\n",
    "Scalars can be whole numbers or decimals.\n",
    "\n",
    "\\begin{align}\n",
    "a = 2\n",
    "\\qquad\n",
    "b = 4.815162342\n",
    "\\end{align}\n",
    "\n",
    "They can be positive, negative, 0 or any other real number.\n",
    "\n",
    "\\begin{align}\n",
    "c = -6.022\\mathrm{e}{+23}\n",
    "\\qquad\n",
    "d = \\pi\n",
    "\\end{align}"
   ]
  },
  {
   "cell_type": "code",
   "execution_count": 6,
   "metadata": {
    "colab": {
     "base_uri": "https://localhost:8080/",
     "height": 363
    },
    "colab_type": "code",
    "id": "SIyzbJFxamu1",
    "outputId": "bc411f5f-de0e-4c05-e179-d8c5b59d47e2"
   },
   "outputs": [
    {
     "name": "stdout",
     "output_type": "stream",
     "text": [
      "2\n",
      "64\n",
      "3.141592653589793\n",
      "3.0\n",
      "2.718281828459045\n",
      "20.085536923187668\n"
     ]
    }
   ],
   "source": [
    "# scalars are just numbers.\n",
    "a = 2\n",
    "b = 4**3\n",
    "c = math.pi\n",
    "d = np.sqrt(9)\n",
    "e = math.e # where e is Euler's number (approximately 2.718)\n",
    "f = np.exp(3) \n",
    "\n",
    "for letter in [a, b, c, d, e, f]:\n",
    "    print(letter)"
   ]
  },
  {
   "cell_type": "code",
   "execution_count": 7,
   "metadata": {},
   "outputs": [],
   "source": [
    "# Why is it called a 'scalar'?\n",
    "# It's called a scalar because we can \"scale\" a vector or a matrix by this number. More on that later."
   ]
  },
  {
   "cell_type": "markdown",
   "metadata": {
    "colab_type": "text",
    "id": "d3tU-l96SNa3"
   },
   "source": [
    "## Part 2. Vectors"
   ]
  },
  {
   "cell_type": "markdown",
   "metadata": {
    "colab_type": "text",
    "id": "TRhtzFMwTz0Z"
   },
   "source": [
    "**Definition**  \n",
    "A vector of dimension *n* is an **ordered** collection of *n* elements, which are called **components** (Note, the components of a vector are **not** referred to as \"scalars\"). Vector notation variables are commonly written as a bold-faced lowercase letters or italicized non-bold-faced lowercase characters with an arrow (→) above the letters:\n",
    "\n",
    "Written: $\\vec{v}$ \n",
    "\n",
    "Examples:\n",
    "\n",
    "\\begin{align}\n",
    "   \\vec{a} = \n",
    "   \\begin{bmatrix}\n",
    "           1\\\\\n",
    "           2\n",
    "    \\end{bmatrix}\n",
    "    \\qquad\n",
    "    \\vec{b} =\n",
    "    \\begin{bmatrix}\n",
    "          -1\\\\\n",
    "           0\\\\\n",
    "           2\n",
    "    \\end{bmatrix}\n",
    "    \\qquad\n",
    "    \\vec{c} =\n",
    "    \\begin{bmatrix}\n",
    "           4.5\n",
    "    \\end{bmatrix}\n",
    "    \\qquad\n",
    "    \\vec{d} =\n",
    "    \\begin{bmatrix}\n",
    "           Pl\\\\\n",
    "           a\\\\\n",
    "           b\\\\\n",
    "           \\frac{2}{3}\n",
    "    \\end{bmatrix}\n",
    "\\end{align}\n",
    "\n",
    "The above vectors have dimensions 2, 3, 1, and 4 respectively."
   ]
  },
  {
   "cell_type": "markdown",
   "metadata": {},
   "source": [
    "### 2.1 Vector arithmetic"
   ]
  },
  {
   "cell_type": "code",
   "execution_count": 8,
   "metadata": {},
   "outputs": [
    {
     "data": {
      "text/plain": [
       "[1, 2, 3, 4, 5, 6]"
      ]
     },
     "execution_count": 8,
     "metadata": {},
     "output_type": "execute_result"
    }
   ],
   "source": [
    "# you can add python lists(concatenation) but this is not arithmetic.\n",
    "# No arithmetic operations are supported by lists.\n",
    "[1,2,3]+[4,5,6]"
   ]
  },
  {
   "cell_type": "code",
   "execution_count": 9,
   "metadata": {},
   "outputs": [],
   "source": [
    "# Doing arithmetic operations element-wise is supported by NumPy. \n",
    "# This is called \"array broadcasting\""
   ]
  },
  {
   "cell_type": "code",
   "execution_count": 10,
   "metadata": {},
   "outputs": [
    {
     "data": {
      "text/plain": [
       "array([5, 7, 9])"
      ]
     },
     "execution_count": 10,
     "metadata": {},
     "output_type": "execute_result"
    }
   ],
   "source": [
    "# addition\n",
    "np.array([1,2,3]) + np.array([4,5,6])"
   ]
  },
  {
   "cell_type": "code",
   "execution_count": 11,
   "metadata": {},
   "outputs": [
    {
     "data": {
      "text/plain": [
       "array([-3, -3, -3])"
      ]
     },
     "execution_count": 11,
     "metadata": {},
     "output_type": "execute_result"
    }
   ],
   "source": [
    "# subtraction\n",
    "np.array([1,2,3]) - np.array([4,5,6])"
   ]
  },
  {
   "cell_type": "code",
   "execution_count": 12,
   "metadata": {},
   "outputs": [
    {
     "data": {
      "text/plain": [
       "array([ 4, 10, 18])"
      ]
     },
     "execution_count": 12,
     "metadata": {},
     "output_type": "execute_result"
    }
   ],
   "source": [
    "# multiplication\n",
    "np.array([1,2,3]) * np.array([4,5,6])"
   ]
  },
  {
   "cell_type": "code",
   "execution_count": 13,
   "metadata": {},
   "outputs": [
    {
     "data": {
      "text/plain": [
       "array([0.25, 0.4 , 0.5 ])"
      ]
     },
     "execution_count": 13,
     "metadata": {},
     "output_type": "execute_result"
    }
   ],
   "source": [
    "# division\n",
    "np.array([1,2,3]) / np.array([4,5,6])"
   ]
  },
  {
   "cell_type": "code",
   "execution_count": 14,
   "metadata": {},
   "outputs": [
    {
     "data": {
      "text/plain": [
       "array([ 4,  8, 12])"
      ]
     },
     "execution_count": 14,
     "metadata": {},
     "output_type": "execute_result"
    }
   ],
   "source": [
    "# scale a vector by a factor of 4.\n",
    "np.array([1,2,3])*4"
   ]
  },
  {
   "cell_type": "markdown",
   "metadata": {},
   "source": [
    "### 2.2 Vector examples"
   ]
  },
  {
   "cell_type": "code",
   "execution_count": 15,
   "metadata": {
    "colab": {
     "base_uri": "https://localhost:8080/",
     "height": 363
    },
    "colab_type": "code",
    "id": "GzxZcC8fdf5s",
    "outputId": "4c294194-a9eb-4284-8e88-cf30d5cd681d"
   },
   "outputs": [],
   "source": [
    "# Vector Examples \n",
    "yellow = [.5, .5]\n",
    "red = [.2, .1]\n",
    "blue = [.1, .3]"
   ]
  },
  {
   "cell_type": "code",
   "execution_count": 16,
   "metadata": {},
   "outputs": [
    {
     "name": "stdout",
     "output_type": "stream",
     "text": [
      "0.5\n",
      "0.5\n",
      "0.1\n",
      "0.3\n"
     ]
    }
   ],
   "source": [
    "# Examine their \"components\". These are not scalars.\n",
    "print(yellow[0])\n",
    "\n",
    "for color in [yellow, red, blue]:\n",
    "    print(color[1])"
   ]
  },
  {
   "cell_type": "code",
   "execution_count": 17,
   "metadata": {},
   "outputs": [
    {
     "data": {
      "image/png": "[encoded data removed]",
      "text/plain": [
       "<Figure size 432x288 with 1 Axes>"
      ]
     },
     "metadata": {
      "needs_background": "light"
     },
     "output_type": "display_data"
    }
   ],
   "source": [
    "# plot a vector using matplotlib\n",
    "fig, ax = plt.subplots()\n",
    "ax.grid()\n",
    "plt.xlim(-.2,.8)\n",
    "plt.ylim(-.1,.6)\n",
    "\n",
    "plt.arrow(0, 0, \n",
    "          yellow[0], \n",
    "          yellow[1], \n",
    "          head_width=.02, \n",
    "          head_length=0.02,\n",
    "          linewidth=3,\n",
    "          color = 'gold')\n",
    "plt.show()"
   ]
  },
  {
   "cell_type": "code",
   "execution_count": 18,
   "metadata": {},
   "outputs": [
    {
     "data": {
      "image/png": "[encoded data removed]",
      "text/plain": [
       "<Figure size 432x288 with 1 Axes>"
      ]
     },
     "metadata": {
      "needs_background": "light"
     },
     "output_type": "display_data"
    }
   ],
   "source": [
    "# plot all three vectors\n",
    "fig, ax = plt.subplots()\n",
    "ax.grid()\n",
    "plt.xlim(-.2,.8)\n",
    "plt.ylim(-.1,.6)\n",
    "\n",
    "plt.arrow(0, 0, yellow[0], yellow[1], head_width=.02, head_length=0.01, color = 'y')\n",
    "plt.arrow(0, 0, .2, .1, head_width=.02, head_length=0.01, color = 'r')\n",
    "plt.arrow(0, 0, .1, .3,  head_width=.02, head_length=0.01, color = 'b')\n",
    "plt.title('Vector Examples')\n",
    "plt.show()"
   ]
  },
  {
   "cell_type": "code",
   "execution_count": 19,
   "metadata": {},
   "outputs": [
    {
     "data": {
      "image/png": "[encoded data removed]",
      "text/plain": [
       "<Figure size 432x288 with 1 Axes>"
      ]
     },
     "metadata": {
      "needs_background": "light"
     },
     "output_type": "display_data"
    }
   ],
   "source": [
    "# using more efficient code.\n",
    "fig, ax = plt.subplots()\n",
    "ax.grid()\n",
    "plt.xlim(-.2,.8)\n",
    "plt.ylim(-.1,.6)\n",
    "\n",
    "for color, vector in [('gold',yellow), ('crimson',red), ('darkcyan',blue)]:\n",
    "    plt.arrow(0, 0,\n",
    "              vector[0],\n",
    "              vector[1],\n",
    "              head_width=.02,\n",
    "              head_length=0.01,\n",
    "              linewidth=2,\n",
    "              color = color)\n",
    "plt.show()"
   ]
  },
  {
   "cell_type": "markdown",
   "metadata": {
    "colab_type": "text",
    "id": "Q2pNvak3gDGY"
   },
   "source": [
    "In domains such as physics it is emphasized that vectors have two properties: direction and magnitude. It's rare that we talk about them in that sense in Data Science unless we're specifically in a physics context. We just note that the length of the vector is equal to the number of dimensions of the vector. \n",
    "\n",
    "What happens if we add a third component to each of our vectors?"
   ]
  },
  {
   "cell_type": "code",
   "execution_count": 20,
   "metadata": {},
   "outputs": [
    {
     "name": "stdout",
     "output_type": "stream",
     "text": [
      "[0.5, 0.5]\n",
      "[0.2, 0.1]\n",
      "[0.1, 0.3]\n"
     ]
    }
   ],
   "source": [
    "for color in [yellow, red, blue]:\n",
    "    print(color)"
   ]
  },
  {
   "cell_type": "code",
   "execution_count": 21,
   "metadata": {},
   "outputs": [
    {
     "data": {
      "text/plain": [
       "array([[0. , 0. , 0. , 0.5, 0.5, 0.5]])"
      ]
     },
     "execution_count": 21,
     "metadata": {},
     "output_type": "execute_result"
    }
   ],
   "source": [
    "# add a third dimention to 'yellow'\n",
    "yellow = [.5, .5, .5]\n",
    "vector = np.array([[0,0,0,\n",
    "                    yellow[0], yellow[1], yellow[2]]])\n",
    "vector"
   ]
  },
  {
   "cell_type": "code",
   "execution_count": 22,
   "metadata": {},
   "outputs": [
    {
     "name": "stdout",
     "output_type": "stream",
     "text": [
      "(0.0,)\n",
      "(0.0,)\n",
      "(0.0,)\n",
      "(0.5,)\n",
      "(0.5,)\n",
      "(0.5,)\n"
     ]
    }
   ],
   "source": [
    "# unzip that vector\n",
    "X, Y, Z, U, V, W = zip(*vector)\n",
    "for letter in [X, Y, Z, U, V, W]:\n",
    "    print(letter)"
   ]
  },
  {
   "cell_type": "code",
   "execution_count": 23,
   "metadata": {},
   "outputs": [
    {
     "data": {
      "image/png": "[encoded data removed]",
      "text/plain": [
       "<Figure size 432x288 with 1 Axes>"
      ]
     },
     "metadata": {
      "needs_background": "light"
     },
     "output_type": "display_data"
    }
   ],
   "source": [
    "# display that in 3D\n",
    "from mpl_toolkits.mplot3d import Axes3D\n",
    "\n",
    "fig = plt.figure()\n",
    "ax = fig.add_subplot(111, projection='3d')\n",
    "ax.quiver(X, Y, Z, U, V, W, length=1, color='gold',linewidth=6)\n",
    "ax.set_xlim([0, 1])\n",
    "ax.set_ylim([0, 1])\n",
    "ax.set_zlim([0, 1])\n",
    "ax.set_xlabel('X')\n",
    "ax.set_ylabel('Y')\n",
    "ax.set_zlabel('Z')\n",
    "plt.show()"
   ]
  },
  {
   "cell_type": "code",
   "execution_count": 24,
   "metadata": {
    "colab": {},
    "colab_type": "code",
    "id": "BezrgDoH-Ky-"
   },
   "outputs": [],
   "source": [
    "# What happens if we add a third dimension to EACH of the vectors?\n",
    "\n",
    "yellow = [.5, .5, .5]\n",
    "red = [.2, .1, .0]\n",
    "blue = [.1, .3, .3 ]"
   ]
  },
  {
   "cell_type": "code",
   "execution_count": 25,
   "metadata": {},
   "outputs": [
    {
     "data": {
      "text/plain": [
       "array([0. , 0. , 0. , 0.5, 0.5, 0.5])"
      ]
     },
     "execution_count": 25,
     "metadata": {},
     "output_type": "execute_result"
    }
   ],
   "source": [
    "vectors = np.array([[0, 0, 0, .5, .5, .5], \n",
    "                    [0, 0, 0, .2, .1, .0],\n",
    "                    [0, 0, 0, .1, .3, .3]])\n",
    "\n",
    "vectors[0]"
   ]
  },
  {
   "cell_type": "markdown",
   "metadata": {},
   "source": [
    "The asterisk in a zip() function converts the elements of the iterable into separate elements. For example: if a = [a1, a2, a3] then zip(*a) equals to (('a', 'a', 'a'), ('1', '2', '3')). In other words, we can say the asterisk in the zip function unzips the given iterable."
   ]
  },
  {
   "cell_type": "code",
   "execution_count": 26,
   "metadata": {},
   "outputs": [
    {
     "data": {
      "text/plain": [
       "<zip at 0x115663dc8>"
      ]
     },
     "execution_count": 26,
     "metadata": {},
     "output_type": "execute_result"
    }
   ],
   "source": [
    "zip(*vectors)"
   ]
  },
  {
   "cell_type": "code",
   "execution_count": 27,
   "metadata": {},
   "outputs": [
    {
     "name": "stdout",
     "output_type": "stream",
     "text": [
      "(0.0, 0.0, 0.0)\n",
      "(0.0, 0.0, 0.0)\n",
      "(0.0, 0.0, 0.0)\n",
      "(0.5, 0.2, 0.1)\n",
      "(0.5, 0.1, 0.3)\n",
      "(0.5, 0.0, 0.3)\n"
     ]
    }
   ],
   "source": [
    "X, Y, Z, U, V, W = zip(*vectors)\n",
    "for letter in [X, Y, Z, U, V, W]:\n",
    "    print(letter)"
   ]
  },
  {
   "cell_type": "code",
   "execution_count": 28,
   "metadata": {},
   "outputs": [
    {
     "data": {
      "image/png": "[encoded data removed]",
      "text/plain": [
       "<Figure size 432x288 with 1 Axes>"
      ]
     },
     "metadata": {
      "needs_background": "light"
     },
     "output_type": "display_data"
    }
   ],
   "source": [
    "# plot that in 3-D\n",
    "from mpl_toolkits.mplot3d import Axes3D\n",
    "\n",
    "fig = plt.figure()\n",
    "ax = fig.add_subplot(111, projection='3d')\n",
    "ax.quiver(X[0], Y[0], Z[0], U[0], V[0], W[0], length=1, color='gold')\n",
    "ax.quiver(X[1], Y[1], Z[1], U[1], V[1], W[1], length=1, color='crimson')\n",
    "ax.quiver(X[2], Y[2], Z[2], U[2], V[2], W[2], length=1, color='teal')\n",
    "\n",
    "ax.set_xlim([0, 1])\n",
    "ax.set_ylim([0, 1])\n",
    "ax.set_zlim([0, 1])\n",
    "ax.set_xlabel('X')\n",
    "ax.set_ylabel('Y')\n",
    "ax.set_zlabel('Z')\n",
    "plt.show()"
   ]
  },
  {
   "cell_type": "markdown",
   "metadata": {},
   "source": [
    "### 2.3 Scale a vector: multiply it by a 'scalar'"
   ]
  },
  {
   "cell_type": "code",
   "execution_count": 29,
   "metadata": {},
   "outputs": [],
   "source": [
    "# Start with a simple vector\n",
    "blue = [.5, .5]"
   ]
  },
  {
   "cell_type": "code",
   "execution_count": 30,
   "metadata": {},
   "outputs": [
    {
     "data": {
      "image/png": "[encoded data removed]",
      "text/plain": [
       "<Figure size 432x288 with 1 Axes>"
      ]
     },
     "metadata": {
      "needs_background": "light"
     },
     "output_type": "display_data"
    }
   ],
   "source": [
    "# Plot the vector\n",
    "fig, ax = plt.subplots()\n",
    "ax.grid()\n",
    "plt.xlim(-.2,.8)\n",
    "plt.ylim(-.1,.6)\n",
    "\n",
    "plt.arrow(0,0, blue[0], blue[1],\n",
    "          head_width=.05, \n",
    "          head_length=0.05, \n",
    "          linewidth=2,\n",
    "          color ='dodgerblue')\n",
    "\n",
    "plt.show;"
   ]
  },
  {
   "cell_type": "code",
   "execution_count": 31,
   "metadata": {},
   "outputs": [
    {
     "data": {
      "text/plain": [
       "array([1., 1.])"
      ]
     },
     "execution_count": 31,
     "metadata": {},
     "output_type": "execute_result"
    }
   ],
   "source": [
    "# Then multiply it by a scalar\n",
    "green = np.multiply(2, blue)\n",
    "green"
   ]
  },
  {
   "cell_type": "code",
   "execution_count": 32,
   "metadata": {},
   "outputs": [
    {
     "data": {
      "image/png": "[encoded data removed]",
      "text/plain": [
       "<Figure size 432x288 with 1 Axes>"
      ]
     },
     "metadata": {
      "needs_background": "light"
     },
     "output_type": "display_data"
    }
   ],
   "source": [
    "# Plot the scaled vector\n",
    "fig, ax = plt.subplots()\n",
    "ax.grid()\n",
    "plt.xlim(-.25,1.25)          \n",
    "plt.ylim(-.25,1.25)\n",
    "\n",
    "plt.arrow(0,0, blue[0], blue[1],\n",
    "          head_width=.05, \n",
    "          head_length=0.05, \n",
    "          linewidth=10,\n",
    "          color ='dodgerblue')\n",
    "\n",
    "plt.arrow(0,0, green[0], green[1],\n",
    "          head_width=.05, \n",
    "          head_length=0.05, \n",
    "          linewidth=2,\n",
    "          color ='limegreen')\n",
    "\n",
    "plt.show;"
   ]
  },
  {
   "cell_type": "code",
   "execution_count": 33,
   "metadata": {},
   "outputs": [],
   "source": [
    "# a few more.\n",
    "red = np.multiply(math.pi, blue)\n",
    "orange = np.multiply(-0.5, blue)"
   ]
  },
  {
   "cell_type": "code",
   "execution_count": 34,
   "metadata": {},
   "outputs": [
    {
     "data": {
      "image/png": "[encoded data removed]",
      "text/plain": [
       "<Figure size 432x288 with 1 Axes>"
      ]
     },
     "metadata": {
      "needs_background": "light"
     },
     "output_type": "display_data"
    }
   ],
   "source": [
    "# Plot all the Scaled Vectors\n",
    "\n",
    "fig, ax = plt.subplots()\n",
    "ax.grid()\n",
    "plt.xlim(-.5,2)          \n",
    "plt.ylim(-.5,2)\n",
    "\n",
    "plt.arrow(0,0, red[0], red[1],head_width=.05, head_length=0.05, color ='tomato', linewidth=2)\n",
    "plt.arrow(0,0, green[0], green[1],head_width=.05, head_length=0.05, color ='forestgreen', linewidth=2)\n",
    "plt.arrow(0,0, blue[0], blue[1],head_width=.05, head_length=0.05, color ='royalblue', linewidth=2)\n",
    "plt.arrow(0,0, orange[0], orange[1],head_width=.05, head_length=0.05, color ='orange', linewidth=2)\n",
    "\n",
    "plt.title(\"Scaled Vectors\")\n",
    "plt.show()"
   ]
  },
  {
   "cell_type": "markdown",
   "metadata": {
    "colab_type": "text",
    "id": "Pzg99dFw-Oj8"
   },
   "source": [
    "### 2.4 Norm of a Vector \n",
    "\n",
    "The *Norm* or *Magnitude* of a vector is nothing more than the **length** of the vector. Since a vector is just a line (essentially) if you treat it as the hypotenuse of a triangle you could use the pythagorean theorem to find the equation for the norm of a vector. We're essentially just generalizing the equation for the hypotenuse of a triangle that results from the pythagorean theorem to n dimensional space.\n",
    "\n",
    "We denote the norm of a vector by wrapping it in double pipes (like double absolute value signs)\n",
    "\n",
    "\\begin{align}\n",
    "||v|| = \n",
    "\\sqrt{v_{1}^2 + v_{2}^2 + \\ldots + v_{n}^2}\n",
    "\\\\\n",
    "\\vec{a} = \n",
    "\\begin{bmatrix}\n",
    "3 & 7 & 2 & 4\n",
    "\\end{bmatrix}\n",
    "\\\\\n",
    "||a|| = \\sqrt{3^2 + 7^2 + 2^2 + 4^2} \\\\\n",
    "||a|| = \\sqrt{9 + 49 + 4 + 16} \\\\\n",
    "||a|| = \\sqrt{78}\n",
    "\\end{align}\n",
    "\n",
    "The Norm is the square root of the sum of the squared elements of a vector.\n",
    "\n",
    "Properties of the Norm:\n",
    "\n",
    "The norm is always positive or zero $||x|| \\geq 0$ \n",
    "\n",
    "The norm is only equal to zero if all of the elements of the vector are zero.\n",
    "\n",
    "The Triangle Inequality: $|| x + y ||\\leq ||x|| + ||y||$\n"
   ]
  },
  {
   "cell_type": "markdown",
   "metadata": {},
   "source": [
    "![right triangle](https://www.mathplanet.com/Oldsite/media/43183/triangle01.png\n",
    ")"
   ]
  },
  {
   "cell_type": "markdown",
   "metadata": {},
   "source": [
    "**Pythagorean Theorem**\n",
    "\n",
    "Finding the length of the sides of a right triangle, if we knew the lengths of the other two sides.\n",
    "\n",
    "$a^2 + b^2 = c^2$\n",
    "\n",
    "**For Vector Applications:**\n",
    "\n",
    "Pretend that our vector is the hypotenuse (long diagonal side) of a right triangle.\n",
    "\n",
    "c is typically used to represent the hypotenuse.\n",
    "\n",
    "Lets solve for c.\n",
    "\n",
    "$c = \\sqrt{a^2 + b^2}$\n",
    "\n",
    "\n"
   ]
  },
  {
   "cell_type": "code",
   "execution_count": 35,
   "metadata": {},
   "outputs": [
    {
     "name": "stdout",
     "output_type": "stream",
     "text": [
      "[4 3] \n",
      " Norm of g: 5.0\n"
     ]
    }
   ],
   "source": [
    "# Find ||𝑔|| (i.e., find the length of g)\n",
    "g = np.array([4,3])\n",
    "norm_g = np.linalg.norm(g)\n",
    "print(g, \"\\n Norm of g:\", norm_g)"
   ]
  },
  {
   "cell_type": "code",
   "execution_count": 36,
   "metadata": {},
   "outputs": [
    {
     "data": {
      "text/plain": [
       "<matplotlib.patches.FancyArrow at 0x11594cc50>"
      ]
     },
     "execution_count": 36,
     "metadata": {},
     "output_type": "execute_result"
    },
    {
     "data": {
      "image/png": "[encoded data removed]",
      "text/plain": [
       "<Figure size 432x288 with 1 Axes>"
      ]
     },
     "metadata": {
      "needs_background": "light"
     },
     "output_type": "display_data"
    }
   ],
   "source": [
    "# plot that vector.\n",
    "fig, ax = plt.subplots()\n",
    "ax.grid()\n",
    "plt.xlim(-1,5)          \n",
    "plt.ylim(-1,5)\n",
    "plt.arrow(0,\n",
    "          0, \n",
    "          g[0], g[1],\n",
    "          head_width=.2, \n",
    "          head_length=.2, \n",
    "          linewidth=3,\n",
    "          color ='deeppink')\n"
   ]
  },
  {
   "cell_type": "code",
   "execution_count": 37,
   "metadata": {},
   "outputs": [
    {
     "name": "stdout",
     "output_type": "stream",
     "text": [
      "Norm of g: 7.297259759663212\n",
      "Norm of h: 7.874007874011811\n"
     ]
    }
   ],
   "source": [
    "# Find ||𝑔|| and then find||ℎ||\n",
    "g = np.array([[2],[.5],[0],[7]])\n",
    "h = np.array([[4],[3],[1],[6]])\n",
    "\n",
    "norm_g = np.linalg.norm(g)\n",
    "norm_h = np.linalg.norm(h)\n",
    "\n",
    "print(\"Norm of g:\", norm_g)\n",
    "print(\"Norm of h:\", norm_h)\n",
    "# which is longer?"
   ]
  },
  {
   "cell_type": "markdown",
   "metadata": {
    "colab_type": "text",
    "id": "UOr0BCxn-Wlh"
   },
   "source": [
    "### 2.5 Dot Product of Vectors\n",
    "\n",
    "The dot product of two vectors $\\vec{a}$ and $\\vec{b}$ is a scalar quantity that is equal to the sum of pair-wise products of the components of vectors a and b. An example will make this make much more sense:\n",
    "\n",
    "\\begin{align} \\vec{a} \\cdot \\vec{b} = (a_{1} \\times b_{1}) + (a_{2} \\times b_{2}) + \\ldots + ( a_{n} \\times b_{n}) \\end{align}\n",
    "\n",
    "Example:\n",
    "\n",
    "\\begin{align}\n",
    "\\vec{a} = \n",
    "\\begin{bmatrix}\n",
    "3 & 7 & 2 & 4\n",
    "\\end{bmatrix}\n",
    "\\qquad\n",
    "\\vec{b} = \n",
    "\\begin{bmatrix}\n",
    "4 & 1 & 12 & 6\n",
    "\\end{bmatrix}\n",
    "\\end{align}\n",
    "\n",
    "The dot product of two vectors would be:\n",
    "\\begin{align}\n",
    "a \\cdot b = (3)(4) + (7)(1) + (2)(12) + (4)(6) \\\\ \n",
    "= 12 + 7 + 24 + 24  \\\\\n",
    "= 67\n",
    "\\end{align}\n",
    "\n",
    "The dot product is commutative: $ a \\cdot b = b \\cdot a$\n",
    "\n",
    "The dot product is distributive: $a \\cdot (b + c) = a \\cdot b + a \\cdot c$\n",
    "\n",
    "Two vectors must have the same number of components in order for the dot product to exist. If they lengths differ the dot product is undefined."
   ]
  },
  {
   "cell_type": "code",
   "execution_count": 38,
   "metadata": {},
   "outputs": [],
   "source": [
    "# find c * d\n",
    "c = np.array([21,3,10])\n",
    "d = np.array([11,16,9])"
   ]
  },
  {
   "cell_type": "code",
   "execution_count": 39,
   "metadata": {},
   "outputs": [
    {
     "data": {
      "text/plain": [
       "369"
      ]
     },
     "execution_count": 39,
     "metadata": {},
     "output_type": "execute_result"
    }
   ],
   "source": [
    "# multiply these elements manually\n",
    "(21*11) + (3*16) + (10*9)"
   ]
  },
  {
   "cell_type": "code",
   "execution_count": 40,
   "metadata": {},
   "outputs": [
    {
     "data": {
      "text/plain": [
       "369"
      ]
     },
     "execution_count": 40,
     "metadata": {},
     "output_type": "execute_result"
    }
   ],
   "source": [
    "# using index notation\n",
    "(c[0]*d[0]) + (c[1]*d[1]) + c[2]*d[2]"
   ]
  },
  {
   "cell_type": "code",
   "execution_count": 41,
   "metadata": {},
   "outputs": [
    {
     "name": "stdout",
     "output_type": "stream",
     "text": [
      "Dot Product: 369\n"
     ]
    }
   ],
   "source": [
    "# Using Dot-Product Method\n",
    "print(\"Dot Product:\", np.dot(c,d))"
   ]
  },
  {
   "cell_type": "code",
   "execution_count": 42,
   "metadata": {},
   "outputs": [
    {
     "name": "stdout",
     "output_type": "stream",
     "text": [
      "Dot Product: 369\n"
     ]
    }
   ],
   "source": [
    "# Multiply element-wise and sum. Any difference? Nope.\n",
    "print(\"Dot Product:\", (c*d).sum())"
   ]
  },
  {
   "cell_type": "markdown",
   "metadata": {},
   "source": [
    "Orthogonal vectors are perpendicular to one another. \n",
    "The dot product of these vectors cancels out (zero)."
   ]
  },
  {
   "cell_type": "code",
   "execution_count": 43,
   "metadata": {},
   "outputs": [],
   "source": [
    "# Show that the following vectors are orthogonal\n",
    "l = [1,0] \n",
    "m = [0,1]"
   ]
  },
  {
   "cell_type": "code",
   "execution_count": 44,
   "metadata": {},
   "outputs": [
    {
     "data": {
      "image/png": "[encoded data removed]",
      "text/plain": [
       "<Figure size 432x288 with 1 Axes>"
      ]
     },
     "metadata": {
      "needs_background": "light"
     },
     "output_type": "display_data"
    }
   ],
   "source": [
    "# using a plot\n",
    "fig, ax = plt.subplots()\n",
    "ax.grid()\n",
    "plt.xlim(-.25,1.25)          \n",
    "plt.ylim(-.25,1.25)   \n",
    "\n",
    "plt.arrow(0,0, l[0], l[1],\n",
    "          head_width=.05, \n",
    "          head_length=0.05, \n",
    "          linewidth=10,\n",
    "          color ='lightcoral',\n",
    "          )\n",
    "plt.arrow(0,0, m[0], m[1],\n",
    "          head_width=.05, \n",
    "          head_length=0.05, \n",
    "          linewidth=10,\n",
    "          color ='olivedrab',\n",
    "          )\n",
    "\n",
    "plt.show;"
   ]
  },
  {
   "cell_type": "code",
   "execution_count": 45,
   "metadata": {},
   "outputs": [
    {
     "name": "stdout",
     "output_type": "stream",
     "text": [
      "Dot Product of Orthogonal Vectors: 0\n"
     ]
    }
   ],
   "source": [
    "# the dot product of orthogonal vectors cancels out\n",
    "print(\"Dot Product of Orthogonal Vectors:\", np.dot(l,m))"
   ]
  },
  {
   "cell_type": "code",
   "execution_count": 46,
   "metadata": {},
   "outputs": [
    {
     "data": {
      "text/plain": [
       "0"
      ]
     },
     "execution_count": 46,
     "metadata": {},
     "output_type": "execute_result"
    }
   ],
   "source": [
    "# this is also true in multiple dimensions (though harder to plot)\n",
    "V = np.array([1, 1, 14])\n",
    "U = np.array([10, 4, -1])\n",
    "np.dot(V,U)"
   ]
  },
  {
   "cell_type": "markdown",
   "metadata": {
    "colab_type": "text",
    "id": "IUeBZtVr-nro"
   },
   "source": [
    "### 2.6 Cross Product of Vectors\n",
    "\n",
    "The Cross Product is the vector equivalent of multiplication. The result is a third vector that is perpendicular to the first two vectors.\n",
    "\n",
    "It is written with a regular looking multiplication sign like $a \\times b$ but it is read as \"a cross b\"\n",
    "\n",
    "The cross product equation is a little complicated, and gaining an intuition for it is going to take a little bit more time than we have here. I think it's the least useful of the vector operations, but I'll give you a short example anyway.\n",
    "\n",
    "\n",
    "Assume that we have vectors $x$ and $y$.\n",
    "\n",
    "\\begin{align}\n",
    "x = \\begin{bmatrix} x_1 & x_2 & x_3 \\end{bmatrix}\n",
    "\\qquad\n",
    "y = \\begin{bmatrix} y_1 & y_2 & y_3 \\end{bmatrix}\n",
    "\\end{align}\n",
    "\n",
    "The cross product can be found by taking these two vectors and adding a third unit vector to create a 3x3 matrix and then finding the determinant of the 3x3 matrix like follows:\n",
    "\n",
    "\\begin{align}\n",
    "x = \\begin{vmatrix} \n",
    "  i & j & k \\\\\n",
    "  x_1 & x_2 & x_3 \\\\\n",
    "  y_1 & y_2 & y_3 \n",
    "  \\end{vmatrix}\n",
    "\\end{align}\n",
    "\\begin{align} =\n",
    "i\\begin{vmatrix}\n",
    "x_2 & x_3 \\\\\n",
    "y_2 & y_3 \n",
    "\\end{vmatrix} \n",
    "- j\\begin{vmatrix}\n",
    "x_1 & x_3 \\\\\n",
    "y_1 & y_3\n",
    "\\end{vmatrix} \n",
    "+ k\\begin{vmatrix}\n",
    "x_1 & x_2 \\\\\n",
    "y_1 & y_2\n",
    "\\end{vmatrix}\n",
    "\\end{align}\n",
    "\n"
   ]
  },
  {
   "cell_type": "code",
   "execution_count": 47,
   "metadata": {},
   "outputs": [
    {
     "name": "stdout",
     "output_type": "stream",
     "text": [
      "[[5]\n",
      " [3]\n",
      " [2]]\n",
      "[[7]\n",
      " [6]\n",
      " [3]]\n"
     ]
    }
   ],
   "source": [
    "# Column Vectors\n",
    "e = np.array([[5],[3],[2]])\n",
    "f = np.array([[7],[6],[3]])\n",
    "print(e)\n",
    "print(f)"
   ]
  },
  {
   "cell_type": "code",
   "execution_count": 48,
   "metadata": {},
   "outputs": [
    {
     "name": "stdout",
     "output_type": "stream",
     "text": [
      "Cross Product: \n",
      " [[-3]\n",
      " [-1]\n",
      " [ 9]]\n"
     ]
    }
   ],
   "source": [
    "# cross product of column vectors.\n",
    "print('Cross Product: \\n', np.cross(e,f,axis=0))"
   ]
  },
  {
   "cell_type": "code",
   "execution_count": 49,
   "metadata": {},
   "outputs": [],
   "source": [
    "# Row Vectors\n",
    "e = np.array([5,3,2])\n",
    "f = np.array([7,6,3])"
   ]
  },
  {
   "cell_type": "code",
   "execution_count": 50,
   "metadata": {},
   "outputs": [
    {
     "name": "stdout",
     "output_type": "stream",
     "text": [
      "Cross Product: [-3 -1  9]\n"
     ]
    }
   ],
   "source": [
    "# cross product of row vectors\n",
    "print('Cross Product:', np.cross(e,f))"
   ]
  },
  {
   "cell_type": "markdown",
   "metadata": {
    "colab_type": "text",
    "id": "drCVY_F8SaPI"
   },
   "source": [
    "## Part 3. Matrices"
   ]
  },
  {
   "cell_type": "markdown",
   "metadata": {
    "colab_type": "text",
    "id": "dKYeFAUbaP4j"
   },
   "source": [
    "A **matrix** is a rectangular grid of numbers arranged in rows and columns. Variables that represent matrices are typically written as capital letters (boldfaced as well if you want to be super formal).\n",
    "\n",
    "\\begin{align}\n",
    "A = \n",
    "    \\begin{bmatrix}\n",
    "           1 & 2 & 3\\\\\n",
    "           4 & 5 & 6\\\\\n",
    "           7 & 8 & 9\n",
    "    \\end{bmatrix}\n",
    "    \\qquad\n",
    "    B = \\begin{bmatrix}\n",
    "           1 & 2 & 3\\\\\n",
    "           4 & 5 & 6\n",
    "    \\end{bmatrix}\n",
    " \\end{align}\n"
   ]
  },
  {
   "cell_type": "markdown",
   "metadata": {
    "colab_type": "text",
    "id": "4oKAHHil-0bm"
   },
   "source": [
    "#### Dimensionality\n",
    "\n",
    "The number of rows and columns that a matrix has is called its **dimension**.\n",
    "\n",
    "When listing the dimension of a matrix we always list rows first and then columns. \n",
    "\n",
    "The dimension of matrix A is 3x3. (Note: This is read \"Three by Three\", the 'x' isn't a multiplication sign.)\n",
    "\n",
    "What is the Dimension of Matrix B?"
   ]
  },
  {
   "cell_type": "markdown",
   "metadata": {
    "colab_type": "text",
    "id": "VqWzluoD-9Pf"
   },
   "source": [
    "#### Matrix Equality\n",
    "\n",
    "In order for two Matrices to be equal the following conditions must be true:\n",
    "\n",
    "1) They must have the same dimensions.\n",
    "\n",
    "2) Corresponding elements must be equal.\n",
    "\n",
    "\\begin{align}\n",
    "    \\begin{bmatrix}\n",
    "           1 & 4\\\\\n",
    "           2 & 5\\\\\n",
    "           3 & 6 \n",
    "    \\end{bmatrix} \n",
    "    \\neq\n",
    "    \\begin{bmatrix}\n",
    "           1 & 2 & 3\\\\\n",
    "           4 & 5 & 6\n",
    "    \\end{bmatrix}\n",
    "\\end{align}"
   ]
  },
  {
   "cell_type": "markdown",
   "metadata": {},
   "source": [
    "### 3.1 Matrices with NumPy"
   ]
  },
  {
   "cell_type": "code",
   "execution_count": 51,
   "metadata": {},
   "outputs": [
    {
     "data": {
      "text/plain": [
       "array([[1, 2],\n",
       "       [4, 5]])"
      ]
     },
     "execution_count": 51,
     "metadata": {},
     "output_type": "execute_result"
    }
   ],
   "source": [
    "# ndarrays\n",
    "keanu = np.array([[1,2], \n",
    "              [4,5]])\n",
    "keanu"
   ]
  },
  {
   "cell_type": "code",
   "execution_count": 61,
   "metadata": {},
   "outputs": [
    {
     "data": {
      "text/plain": [
       "numpy.ndarray"
      ]
     },
     "execution_count": 61,
     "metadata": {},
     "output_type": "execute_result"
    }
   ],
   "source": [
    "# check the type\n",
    "type(keanu)"
   ]
  },
  {
   "cell_type": "code",
   "execution_count": 63,
   "metadata": {},
   "outputs": [
    {
     "name": "stdout",
     "output_type": "stream",
     "text": [
      "<class 'numpy.matrix'>\n"
     ]
    },
    {
     "data": {
      "text/plain": [
       "matrix([[1, 2],\n",
       "        [4, 5]])"
      ]
     },
     "execution_count": 63,
     "metadata": {},
     "output_type": "execute_result"
    }
   ],
   "source": [
    "# Numpy Matrix data type\n",
    "reeves = np.mat('1 2 ; 4 5')\n",
    "print(type(reeves))\n",
    "reeves"
   ]
  },
  {
   "cell_type": "markdown",
   "metadata": {},
   "source": [
    "**Don't use the numpy matrix datatype**\n",
    "- will be deprecated\n",
    "- don't work same way"
   ]
  },
  {
   "cell_type": "code",
   "execution_count": null,
   "metadata": {},
   "outputs": [],
   "source": [
    "# transpose a matrix\n",
    "print(keanu.T)\n",
    "print(reeves.T)"
   ]
  },
  {
   "cell_type": "code",
   "execution_count": null,
   "metadata": {},
   "outputs": [],
   "source": [
    "# invert a matrix\n",
    "# print(keanu.I)\n",
    "print(reeves.I)"
   ]
  },
  {
   "cell_type": "markdown",
   "metadata": {},
   "source": [
    "**quick review: 1 and 2D numpy arrays**"
   ]
  },
  {
   "cell_type": "code",
   "execution_count": 55,
   "metadata": {},
   "outputs": [
    {
     "data": {
      "text/plain": [
       "array([1, 2, 3, 4, 5])"
      ]
     },
     "execution_count": 55,
     "metadata": {},
     "output_type": "execute_result"
    }
   ],
   "source": [
    "carrieanne = np.array([1,2,3,4,5])\n",
    "carrieanne"
   ]
  },
  {
   "cell_type": "code",
   "execution_count": 56,
   "metadata": {},
   "outputs": [
    {
     "name": "stdout",
     "output_type": "stream",
     "text": [
      "[1 2 3 4 5]\n",
      "(5,)\n",
      "[1 2 3 4 5]\n",
      "(5,)\n"
     ]
    }
   ],
   "source": [
    "# There is no distinction between row and column vectors for 1D arrays.\n",
    "print(carrieanne)\n",
    "print(carrieanne.shape)\n",
    "print(carrieanne.T)\n",
    "print(carrieanne.T.shape)"
   ]
  },
  {
   "cell_type": "markdown",
   "metadata": {},
   "source": [
    "Numpy has no distinction between row and column vectors if you are using a 1D numpy array."
   ]
  },
  {
   "cell_type": "code",
   "execution_count": 57,
   "metadata": {},
   "outputs": [
    {
     "data": {
      "text/plain": [
       "array([[1],\n",
       "       [2],\n",
       "       [3],\n",
       "       [4],\n",
       "       [5]])"
      ]
     },
     "execution_count": 57,
     "metadata": {},
     "output_type": "execute_result"
    }
   ],
   "source": [
    "carrieanne.reshape(-1,1)"
   ]
  },
  {
   "cell_type": "code",
   "execution_count": 58,
   "metadata": {},
   "outputs": [
    {
     "name": "stdout",
     "output_type": "stream",
     "text": [
      "(5, 1)\n"
     ]
    }
   ],
   "source": [
    "# column vector\n",
    "fishburne = np.array([[1],\n",
    "              [2],\n",
    "              [3],\n",
    "              [4],\n",
    "              [5]])\n",
    "\n",
    "print(fishburne.shape)"
   ]
  },
  {
   "cell_type": "code",
   "execution_count": 59,
   "metadata": {},
   "outputs": [
    {
     "data": {
      "text/plain": [
       "array([[1, 2, 3, 4, 5]])"
      ]
     },
     "execution_count": 59,
     "metadata": {},
     "output_type": "execute_result"
    }
   ],
   "source": [
    "# if transposed, I will get a row vector - only because I'm using\n",
    "# the 2D representation\n",
    "fishburne.T"
   ]
  },
  {
   "cell_type": "code",
   "execution_count": 60,
   "metadata": {},
   "outputs": [
    {
     "name": "stdout",
     "output_type": "stream",
     "text": [
      "(1, 5)\n",
      "(5, 1)\n"
     ]
    }
   ],
   "source": [
    "print(fishburne.T.shape)\n",
    "print(fishburne.T.T.shape)"
   ]
  },
  {
   "cell_type": "markdown",
   "metadata": {},
   "source": [
    "**Apply array broadcasting to a dataframe**"
   ]
  },
  {
   "cell_type": "code",
   "execution_count": 64,
   "metadata": {},
   "outputs": [
    {
     "data": {
      "text/html": [
       "<div>\n",
       "<style scoped>\n",
       "    .dataframe tbody tr th:only-of-type {\n",
       "        vertical-align: middle;\n",
       "    }\n",
       "\n",
       "    .dataframe tbody tr th {\n",
       "        vertical-align: top;\n",
       "    }\n",
       "\n",
       "    .dataframe thead th {\n",
       "        text-align: right;\n",
       "    }\n",
       "</style>\n",
       "<table border=\"1\" class=\"dataframe\">\n",
       "  <thead>\n",
       "    <tr style=\"text-align: right;\">\n",
       "      <th></th>\n",
       "      <th>height_meters</th>\n",
       "      <th>weight_kg</th>\n",
       "    </tr>\n",
       "  </thead>\n",
       "  <tbody>\n",
       "    <tr>\n",
       "      <th>0</th>\n",
       "      <td>1.5</td>\n",
       "      <td>60</td>\n",
       "    </tr>\n",
       "    <tr>\n",
       "      <th>1</th>\n",
       "      <td>2.0</td>\n",
       "      <td>70</td>\n",
       "    </tr>\n",
       "    <tr>\n",
       "      <th>2</th>\n",
       "      <td>1.8</td>\n",
       "      <td>80</td>\n",
       "    </tr>\n",
       "    <tr>\n",
       "      <th>3</th>\n",
       "      <td>1.4</td>\n",
       "      <td>90</td>\n",
       "    </tr>\n",
       "    <tr>\n",
       "      <th>4</th>\n",
       "      <td>1.7</td>\n",
       "      <td>100</td>\n",
       "    </tr>\n",
       "  </tbody>\n",
       "</table>\n",
       "</div>"
      ],
      "text/plain": [
       "   height_meters  weight_kg\n",
       "0            1.5         60\n",
       "1            2.0         70\n",
       "2            1.8         80\n",
       "3            1.4         90\n",
       "4            1.7        100"
      ]
     },
     "execution_count": 64,
     "metadata": {},
     "output_type": "execute_result"
    }
   ],
   "source": [
    "# Calculate BMI from height and weight:\n",
    "\n",
    "import pandas as pd\n",
    "# Make a dataframe of heights and weights\n",
    "df = pd.DataFrame({'height_meters': [1.5,2,1.8,1.4,1.7], 'weight_kg': [60,70,80,90,100]})\n",
    "df"
   ]
  },
  {
   "cell_type": "code",
   "execution_count": null,
   "metadata": {},
   "outputs": [],
   "source": [
    "# Look, we can transpose dataframes because they're built on top of numpy!\n",
    "df.T"
   ]
  },
  {
   "cell_type": "code",
   "execution_count": null,
   "metadata": {},
   "outputs": [],
   "source": [
    "# Turn our dataframe in to a 2D numpy array using .values\n",
    "\n",
    "measures = df.values\n",
    "measures"
   ]
  },
  {
   "cell_type": "code",
   "execution_count": null,
   "metadata": {},
   "outputs": [],
   "source": [
    "# Isolate our heights and weights columns\n",
    "\n",
    "# heights\n",
    "heights = measures[:,0:1]\n",
    "print(\"heights: \\n\", heights)\n",
    "\n",
    "# heights\n",
    "weights = measures[:,1:2]\n",
    "print(\"\\n weights \\n\", weights)"
   ]
  },
  {
   "cell_type": "code",
   "execution_count": null,
   "metadata": {},
   "outputs": [],
   "source": [
    "# easily apply the BMI equation\n",
    "# to each row using array broadcasting:\n",
    "\n",
    "# BMI = weight/height**2\n",
    "\n",
    "# My equation almost looks like pseudocode.\n",
    "BMI = weights/heights**2\n",
    "print(\"BMI: \\n\",BMI)"
   ]
  },
  {
   "cell_type": "markdown",
   "metadata": {
    "colab_type": "text",
    "id": "MYwxF4R8_Gnf"
   },
   "source": [
    "### 3.2 Matrix Multiplication\n",
    "\n",
    "You can multipy any two matrices where the number of  columns of the first matrix is equal to the number of rows of the second matrix.\n",
    "\n",
    "The unused dimensions of the factor matrices tell you what the dimensions of the product matrix will be.\n",
    "\n",
    "![Matrix Multiplication Dimensions](https://encrypted-tbn0.gstatic.com/images?q=tbn:ANd9GcRunZv20HXxTMUgrkfdER06lPnMj0HpwDU_2i4IEHsBM5098440Jw)\n",
    "\n",
    "There is no commutative property of matrix multiplication (you can't switch the order of the matrices and always get the same result). \n",
    "\n",
    "Matrix multiplication is best understood in terms of the dot product. Remember:\n",
    "\n",
    "\\begin{align} \\vec{a} \\cdot \\vec{b} = (a_{1} \\times b_{1}) + (a_{2} \\times b_{2}) + \\ldots + ( a_{n} \\times b_{n}) \\end{align}\n",
    "\n",
    "To multiply to matrices together, we will take the dot product of each row of the first matrix with each column of the second matrix. The position of the resulting entries will correspond to the row number and column number of the row and column vector that were used to find that scalar. Lets look at an example to make this more clear.\n",
    "\n",
    "![Dot Product Matrix Multiplication](https://www.mathsisfun.com/algebra/images/matrix-multiply-a.svg)\n",
    "\n",
    "\\begin{align}\n",
    "\\begin{bmatrix}\n",
    "1 & 2 & 3 \\\\\n",
    "4 & 5 & 6\n",
    "\\end{bmatrix} \n",
    "\\times\n",
    "\\begin{bmatrix}\n",
    "7 & 8 \\\\\n",
    "9 & 10 \\\\\n",
    "11 & 12\n",
    "\\end{bmatrix} \n",
    "=\n",
    "\\begin{bmatrix}\n",
    "(1)(7)+(2)(9)+(3)(11) & (1)(8)+(2)(10)+(3)(12)\\\\\n",
    "(4)(7)+(5)(9)+(6)(11) & (4)(8)+(5)(10)+(6)(12)\n",
    "\\end{bmatrix}\n",
    "=\n",
    "\\begin{bmatrix}\n",
    "(7)+(18)+(33) & (8)+(20)+(36)\\\\\n",
    "(28)+(45)+(66) & (32)+(50)+(72)\n",
    "\\end{bmatrix}\n",
    "=\n",
    "\\begin{bmatrix}\n",
    "58 & 64\\\\\n",
    "139 & 154\n",
    "\\end{bmatrix}\n",
    "\\end{align}"
   ]
  },
  {
   "cell_type": "code",
   "execution_count": 87,
   "metadata": {},
   "outputs": [
    {
     "name": "stdout",
     "output_type": "stream",
     "text": [
      "[[2, 3], [1, 5], [7, 1]]\n",
      "[[4, 4], [5, 3]]\n"
     ]
    }
   ],
   "source": [
    "# Suppose we have the following matrices.\n",
    "A = [[2,3],[1,5],[7,1]]\n",
    "B = [[4,4],[5,3]]"
   ]
  },
  {
   "cell_type": "code",
   "execution_count": 91,
   "metadata": {},
   "outputs": [
    {
     "name": "stdout",
     "output_type": "stream",
     "text": [
      "[[2, 3], [1, 5], [7, 1]]\n"
     ]
    },
    {
     "data": {
      "text/html": [
       "<div>\n",
       "<style scoped>\n",
       "    .dataframe tbody tr th:only-of-type {\n",
       "        vertical-align: middle;\n",
       "    }\n",
       "\n",
       "    .dataframe tbody tr th {\n",
       "        vertical-align: top;\n",
       "    }\n",
       "\n",
       "    .dataframe thead th {\n",
       "        text-align: right;\n",
       "    }\n",
       "</style>\n",
       "<table border=\"1\" class=\"dataframe\">\n",
       "  <thead>\n",
       "    <tr style=\"text-align: right;\">\n",
       "      <th></th>\n",
       "      <th>0</th>\n",
       "      <th>1</th>\n",
       "    </tr>\n",
       "  </thead>\n",
       "  <tbody>\n",
       "    <tr>\n",
       "      <th>0</th>\n",
       "      <td>2</td>\n",
       "      <td>3</td>\n",
       "    </tr>\n",
       "    <tr>\n",
       "      <th>1</th>\n",
       "      <td>1</td>\n",
       "      <td>5</td>\n",
       "    </tr>\n",
       "    <tr>\n",
       "      <th>2</th>\n",
       "      <td>7</td>\n",
       "      <td>1</td>\n",
       "    </tr>\n",
       "  </tbody>\n",
       "</table>\n",
       "</div>"
      ],
      "text/plain": [
       "   0  1\n",
       "0  2  3\n",
       "1  1  5\n",
       "2  7  1"
      ]
     },
     "execution_count": 91,
     "metadata": {},
     "output_type": "execute_result"
    }
   ],
   "source": [
    "# Check this out\n",
    "print(A)\n",
    "pd.DataFrame(A)"
   ]
  },
  {
   "cell_type": "code",
   "execution_count": 92,
   "metadata": {},
   "outputs": [
    {
     "name": "stdout",
     "output_type": "stream",
     "text": [
      "[[4, 4], [5, 3]]\n"
     ]
    },
    {
     "data": {
      "text/html": [
       "<div>\n",
       "<style scoped>\n",
       "    .dataframe tbody tr th:only-of-type {\n",
       "        vertical-align: middle;\n",
       "    }\n",
       "\n",
       "    .dataframe tbody tr th {\n",
       "        vertical-align: top;\n",
       "    }\n",
       "\n",
       "    .dataframe thead th {\n",
       "        text-align: right;\n",
       "    }\n",
       "</style>\n",
       "<table border=\"1\" class=\"dataframe\">\n",
       "  <thead>\n",
       "    <tr style=\"text-align: right;\">\n",
       "      <th></th>\n",
       "      <th>0</th>\n",
       "      <th>1</th>\n",
       "    </tr>\n",
       "  </thead>\n",
       "  <tbody>\n",
       "    <tr>\n",
       "      <th>0</th>\n",
       "      <td>4</td>\n",
       "      <td>4</td>\n",
       "    </tr>\n",
       "    <tr>\n",
       "      <th>1</th>\n",
       "      <td>5</td>\n",
       "      <td>3</td>\n",
       "    </tr>\n",
       "  </tbody>\n",
       "</table>\n",
       "</div>"
      ],
      "text/plain": [
       "   0  1\n",
       "0  4  4\n",
       "1  5  3"
      ]
     },
     "execution_count": 92,
     "metadata": {},
     "output_type": "execute_result"
    }
   ],
   "source": [
    "# Check this out\n",
    "print(B)\n",
    "pd.DataFrame(B)"
   ]
  },
  {
   "cell_type": "code",
   "execution_count": 95,
   "metadata": {},
   "outputs": [
    {
     "data": {
      "text/plain": [
       "array([[23, 17],\n",
       "       [29, 19],\n",
       "       [33, 31]])"
      ]
     },
     "execution_count": 95,
     "metadata": {},
     "output_type": "execute_result"
    }
   ],
   "source": [
    "# Multiply A * B\n",
    "np.matmul(A,B)"
   ]
  },
  {
   "cell_type": "code",
   "execution_count": 93,
   "metadata": {},
   "outputs": [
    {
     "data": {
      "text/html": [
       "<div>\n",
       "<style scoped>\n",
       "    .dataframe tbody tr th:only-of-type {\n",
       "        vertical-align: middle;\n",
       "    }\n",
       "\n",
       "    .dataframe tbody tr th {\n",
       "        vertical-align: top;\n",
       "    }\n",
       "\n",
       "    .dataframe thead th {\n",
       "        text-align: right;\n",
       "    }\n",
       "</style>\n",
       "<table border=\"1\" class=\"dataframe\">\n",
       "  <thead>\n",
       "    <tr style=\"text-align: right;\">\n",
       "      <th></th>\n",
       "      <th>0</th>\n",
       "      <th>1</th>\n",
       "    </tr>\n",
       "  </thead>\n",
       "  <tbody>\n",
       "    <tr>\n",
       "      <th>0</th>\n",
       "      <td>23</td>\n",
       "      <td>17</td>\n",
       "    </tr>\n",
       "    <tr>\n",
       "      <th>1</th>\n",
       "      <td>29</td>\n",
       "      <td>19</td>\n",
       "    </tr>\n",
       "    <tr>\n",
       "      <th>2</th>\n",
       "      <td>33</td>\n",
       "      <td>31</td>\n",
       "    </tr>\n",
       "  </tbody>\n",
       "</table>\n",
       "</div>"
      ],
      "text/plain": [
       "    0   1\n",
       "0  23  17\n",
       "1  29  19\n",
       "2  33  31"
      ]
     },
     "execution_count": 93,
     "metadata": {},
     "output_type": "execute_result"
    }
   ],
   "source": [
    "# Display that as dataframe\n",
    "pd.DataFrame(np.matmul(A,B))"
   ]
  },
  {
   "cell_type": "code",
   "execution_count": 96,
   "metadata": {},
   "outputs": [],
   "source": [
    "# Why can't we multiply B*A?"
   ]
  },
  {
   "cell_type": "markdown",
   "metadata": {
    "colab_type": "text",
    "id": "aJt-S8zA_Lk9"
   },
   "source": [
    "### 3.2 Transpose\n",
    "\n",
    "A transposed matrix is one whose rows are the columns of the original and whose columns are the rows of the original.\n",
    "\n",
    "Common notation for the transpose of a matrix is to have a capital $T$ superscript or a tick mark:\n",
    "\n",
    "\\begin{align}\n",
    "B^{T}\n",
    "\\qquad\n",
    "B^{\\prime}\n",
    "\\end{align}\n",
    "\n",
    "The first is read \"B transpose\" the second is sometimes read as \"B prime\" but can also be read as \"B transpose\".\n",
    "\n",
    "The transpose of any matrix can be found easily by fixing the elements on the main diagonal and flipping the placement of all other elements across that diagonal."
   ]
  },
  {
   "cell_type": "markdown",
   "metadata": {},
   "source": [
    "![Matrix Transpose](http://xaktly.com/Images/Mathematics/MatrixAlgebra/MatrixOperations/MatrixTranspose.png)"
   ]
  },
  {
   "cell_type": "markdown",
   "metadata": {},
   "source": [
    "  \n",
    "\\begin{align}\n",
    "  B = \n",
    "\\begin{bmatrix}\n",
    "  1 & 2 & 3 \\\\\n",
    "  4 & 5 & 6\n",
    "\\end{bmatrix}\n",
    "  \\qquad\n",
    "  B^{T} = \n",
    "  \\begin{bmatrix}\n",
    "  1 & 4 \\\\\n",
    "  2 & 5 \\\\\n",
    "  3 & 6\n",
    "  \\end{bmatrix}\n",
    "\\end{align}"
   ]
  },
  {
   "cell_type": "markdown",
   "metadata": {},
   "source": [
    "![Matrix Transpose Wikipedia](https://upload.wikimedia.org/wikipedia/commons/e/e4/Matrix_transpose.gif)"
   ]
  },
  {
   "cell_type": "code",
   "execution_count": 97,
   "metadata": {},
   "outputs": [
    {
     "data": {
      "text/html": [
       "<div>\n",
       "<style scoped>\n",
       "    .dataframe tbody tr th:only-of-type {\n",
       "        vertical-align: middle;\n",
       "    }\n",
       "\n",
       "    .dataframe tbody tr th {\n",
       "        vertical-align: top;\n",
       "    }\n",
       "\n",
       "    .dataframe thead th {\n",
       "        text-align: right;\n",
       "    }\n",
       "</style>\n",
       "<table border=\"1\" class=\"dataframe\">\n",
       "  <thead>\n",
       "    <tr style=\"text-align: right;\">\n",
       "      <th></th>\n",
       "      <th>0</th>\n",
       "      <th>1</th>\n",
       "      <th>2</th>\n",
       "      <th>3</th>\n",
       "    </tr>\n",
       "  </thead>\n",
       "  <tbody>\n",
       "    <tr>\n",
       "      <th>0</th>\n",
       "      <td>20</td>\n",
       "      <td>19</td>\n",
       "      <td>18</td>\n",
       "      <td>17</td>\n",
       "    </tr>\n",
       "    <tr>\n",
       "      <th>1</th>\n",
       "      <td>16</td>\n",
       "      <td>15</td>\n",
       "      <td>14</td>\n",
       "      <td>13</td>\n",
       "    </tr>\n",
       "    <tr>\n",
       "      <th>2</th>\n",
       "      <td>12</td>\n",
       "      <td>11</td>\n",
       "      <td>10</td>\n",
       "      <td>9</td>\n",
       "    </tr>\n",
       "    <tr>\n",
       "      <th>3</th>\n",
       "      <td>8</td>\n",
       "      <td>7</td>\n",
       "      <td>6</td>\n",
       "      <td>5</td>\n",
       "    </tr>\n",
       "    <tr>\n",
       "      <th>4</th>\n",
       "      <td>4</td>\n",
       "      <td>3</td>\n",
       "      <td>2</td>\n",
       "      <td>1</td>\n",
       "    </tr>\n",
       "  </tbody>\n",
       "</table>\n",
       "</div>"
      ],
      "text/plain": [
       "    0   1   2   3\n",
       "0  20  19  18  17\n",
       "1  16  15  14  13\n",
       "2  12  11  10   9\n",
       "3   8   7   6   5\n",
       "4   4   3   2   1"
      ]
     },
     "execution_count": 97,
     "metadata": {},
     "output_type": "execute_result"
    }
   ],
   "source": [
    "# suppose we have a matrix.\n",
    "F = np.array([[20,19,18,17],[16,15,14,13],[12,11,10,9],[8,7,6,5],[4,3,2,1]])\n",
    "pd.DataFrame(F)"
   ]
  },
  {
   "cell_type": "code",
   "execution_count": 98,
   "metadata": {},
   "outputs": [
    {
     "data": {
      "text/html": [
       "<div>\n",
       "<style scoped>\n",
       "    .dataframe tbody tr th:only-of-type {\n",
       "        vertical-align: middle;\n",
       "    }\n",
       "\n",
       "    .dataframe tbody tr th {\n",
       "        vertical-align: top;\n",
       "    }\n",
       "\n",
       "    .dataframe thead th {\n",
       "        text-align: right;\n",
       "    }\n",
       "</style>\n",
       "<table border=\"1\" class=\"dataframe\">\n",
       "  <thead>\n",
       "    <tr style=\"text-align: right;\">\n",
       "      <th></th>\n",
       "      <th>0</th>\n",
       "      <th>1</th>\n",
       "      <th>2</th>\n",
       "      <th>3</th>\n",
       "      <th>4</th>\n",
       "    </tr>\n",
       "  </thead>\n",
       "  <tbody>\n",
       "    <tr>\n",
       "      <th>0</th>\n",
       "      <td>20</td>\n",
       "      <td>16</td>\n",
       "      <td>12</td>\n",
       "      <td>8</td>\n",
       "      <td>4</td>\n",
       "    </tr>\n",
       "    <tr>\n",
       "      <th>1</th>\n",
       "      <td>19</td>\n",
       "      <td>15</td>\n",
       "      <td>11</td>\n",
       "      <td>7</td>\n",
       "      <td>3</td>\n",
       "    </tr>\n",
       "    <tr>\n",
       "      <th>2</th>\n",
       "      <td>18</td>\n",
       "      <td>14</td>\n",
       "      <td>10</td>\n",
       "      <td>6</td>\n",
       "      <td>2</td>\n",
       "    </tr>\n",
       "    <tr>\n",
       "      <th>3</th>\n",
       "      <td>17</td>\n",
       "      <td>13</td>\n",
       "      <td>9</td>\n",
       "      <td>5</td>\n",
       "      <td>1</td>\n",
       "    </tr>\n",
       "  </tbody>\n",
       "</table>\n",
       "</div>"
      ],
      "text/plain": [
       "    0   1   2  3  4\n",
       "0  20  16  12  8  4\n",
       "1  19  15  11  7  3\n",
       "2  18  14  10  6  2\n",
       "3  17  13   9  5  1"
      ]
     },
     "execution_count": 98,
     "metadata": {},
     "output_type": "execute_result"
    }
   ],
   "source": [
    "# this is its transpose. compare the diagonals.\n",
    "pd.DataFrame(F.T)"
   ]
  },
  {
   "cell_type": "markdown",
   "metadata": {
    "colab_type": "text",
    "id": "dDTzd-Mw_Q0G"
   },
   "source": [
    "## 3.3 Square Matrix:\n",
    "\n",
    "In a true linear algebra class after the first few weeks you would deal almost exclusively with square matrices. They have very nice properties that their lopsided sisters and brothers just don't possess. \n",
    "\n",
    "A square matrix is any matrix that has the same number of rows as columns:\n",
    "\n",
    "\\begin{align}\n",
    "A =\n",
    "\\begin{bmatrix}\n",
    "  a_{1,1}\n",
    "\\end{bmatrix}\n",
    "\\qquad\n",
    "B =\n",
    "\\begin{bmatrix}\n",
    "b_{1,1} & b_{1,2} \\\\\n",
    "b_{2,1} & b_{2,2}\n",
    "\\end{bmatrix}\n",
    "\\qquad\n",
    "C =\n",
    "\\begin{bmatrix}\n",
    "c_{1,1} & c_{1,2} & c_{1,3} \\\\\n",
    "c_{2,1} & c_{2,2} & c_{2,3} \\\\\n",
    "c_{3,1} & c_{3,2} & c_{3,3} \n",
    "\\end{bmatrix}\n",
    "\\end{align}"
   ]
  },
  {
   "cell_type": "code",
   "execution_count": 101,
   "metadata": {},
   "outputs": [
    {
     "data": {
      "text/html": [
       "<div>\n",
       "<style scoped>\n",
       "    .dataframe tbody tr th:only-of-type {\n",
       "        vertical-align: middle;\n",
       "    }\n",
       "\n",
       "    .dataframe tbody tr th {\n",
       "        vertical-align: top;\n",
       "    }\n",
       "\n",
       "    .dataframe thead th {\n",
       "        text-align: right;\n",
       "    }\n",
       "</style>\n",
       "<table border=\"1\" class=\"dataframe\">\n",
       "  <thead>\n",
       "    <tr style=\"text-align: right;\">\n",
       "      <th></th>\n",
       "      <th>0</th>\n",
       "      <th>1</th>\n",
       "    </tr>\n",
       "  </thead>\n",
       "  <tbody>\n",
       "    <tr>\n",
       "      <th>0</th>\n",
       "      <td>1</td>\n",
       "      <td>0</td>\n",
       "    </tr>\n",
       "    <tr>\n",
       "      <th>1</th>\n",
       "      <td>0</td>\n",
       "      <td>1</td>\n",
       "    </tr>\n",
       "  </tbody>\n",
       "</table>\n",
       "</div>"
      ],
      "text/plain": [
       "   0  1\n",
       "0  1  0\n",
       "1  0  1"
      ]
     },
     "execution_count": 101,
     "metadata": {},
     "output_type": "execute_result"
    }
   ],
   "source": [
    "# Create Identity Matrix\n",
    "I = np.array([[1,0],[0,1]])\n",
    "pd.DataFrame(I)"
   ]
  },
  {
   "cell_type": "code",
   "execution_count": 110,
   "metadata": {},
   "outputs": [
    {
     "data": {
      "text/html": [
       "<div>\n",
       "<style scoped>\n",
       "    .dataframe tbody tr th:only-of-type {\n",
       "        vertical-align: middle;\n",
       "    }\n",
       "\n",
       "    .dataframe tbody tr th {\n",
       "        vertical-align: top;\n",
       "    }\n",
       "\n",
       "    .dataframe thead th {\n",
       "        text-align: right;\n",
       "    }\n",
       "</style>\n",
       "<table border=\"1\" class=\"dataframe\">\n",
       "  <thead>\n",
       "    <tr style=\"text-align: right;\">\n",
       "      <th></th>\n",
       "      <th>0</th>\n",
       "      <th>1</th>\n",
       "    </tr>\n",
       "  </thead>\n",
       "  <tbody>\n",
       "    <tr>\n",
       "      <th>0</th>\n",
       "      <td>10</td>\n",
       "      <td>6</td>\n",
       "    </tr>\n",
       "    <tr>\n",
       "      <th>1</th>\n",
       "      <td>7</td>\n",
       "      <td>3</td>\n",
       "    </tr>\n",
       "  </tbody>\n",
       "</table>\n",
       "</div>"
      ],
      "text/plain": [
       "    0  1\n",
       "0  10  6\n",
       "1   7  3"
      ]
     },
     "execution_count": 110,
     "metadata": {},
     "output_type": "execute_result"
    }
   ],
   "source": [
    "# Create G Matrix\n",
    "G = np.array([[10,6],[7,3]])\n",
    "pd.DataFrame(G)"
   ]
  },
  {
   "cell_type": "code",
   "execution_count": 106,
   "metadata": {},
   "outputs": [
    {
     "data": {
      "text/plain": [
       "array([[10,  6],\n",
       "       [ 7,  3]])"
      ]
     },
     "execution_count": 106,
     "metadata": {},
     "output_type": "execute_result"
    }
   ],
   "source": [
    "#Multiplying G and Identity Matrix should give back G matrix\n",
    "np.matmul(I,G)"
   ]
  },
  {
   "cell_type": "markdown",
   "metadata": {
    "colab_type": "text",
    "id": "fSfLokfx_T4x"
   },
   "source": [
    "### Special Kinds of Square Matrices\n",
    "\n",
    "**Diagonal:** Values on the main diagonal, zeroes everywhere else.\n",
    "\n",
    "\\begin{align}\n",
    "A =\n",
    "\\begin{bmatrix}\n",
    "a_{1,1} & 0 & 0 \\\\\n",
    "0 & a_{2,2} & 0 \\\\\n",
    "0 & 0 & a_{3,3} \n",
    "\\end{bmatrix}\n",
    "\\end{align}\n",
    "\n",
    "**Upper Triangular:** Values on and above the main diagonal, zeroes everywhere else.\n",
    "\n",
    "\\begin{align}\n",
    "B =\n",
    "\\begin{bmatrix}\n",
    "b_{1,1} & b_{1,2} & b_{1,3} \\\\\n",
    "0 & b_{2,2} & b_{2,3} \\\\\n",
    "0 & 0 & b_{3,3} \n",
    "\\end{bmatrix}\n",
    "\\end{align}\n",
    "\n",
    "**Lower Triangular:** Values on and below the main diagonal, zeroes everywhere else.\n",
    "\n",
    "\\begin{align}\n",
    "C =\n",
    "\\begin{bmatrix}\n",
    "c_{1,1} & 0 & 0 \\\\\n",
    "c_{2,1} & c_{2,2} & 0 \\\\\n",
    "c_{3,1} & c_{3,2} & c_{3,3} \n",
    "\\end{bmatrix}\n",
    "\\end{align}\n",
    "\n",
    "**Identity Matrix:** A diagonal matrix with ones on the main diagonal and zeroes everywhere else. The product of the any square matrix and the identity matrix is the original square matrix $AI == A$. Also, any matrix multiplied by its inverse will give the identity matrix as its product.  $AA^{-1} = I$\n",
    "\n",
    "\\begin{align}\n",
    "D =\n",
    "\\begin{bmatrix}\n",
    "  1\n",
    "\\end{bmatrix}\n",
    "\\qquad\n",
    "E =\n",
    "\\begin{bmatrix}\n",
    "1 & 0 \\\\\n",
    "0 & 1\n",
    "\\end{bmatrix}\n",
    "\\qquad\n",
    "F =\n",
    "\\begin{bmatrix}\n",
    "1 & 0 & 0 \\\\\n",
    "0 & 1 & 0 \\\\\n",
    "0 & 0 & 1 \n",
    "\\end{bmatrix}\n",
    "\\end{align}\n",
    "\n",
    "**Symmetric:** The numbers above the main diagonal are mirrored below/across the main diagonal.\n",
    "\n",
    "\\begin{align}\n",
    "G =\n",
    "\\begin{bmatrix}\n",
    "1 & 4 & 5 \\\\\n",
    "4 & 2 & 6 \\\\\n",
    "5 & 6 & 3 \n",
    "\\end{bmatrix}\n",
    "\\end{align}\n",
    "\n",
    "\n"
   ]
  },
  {
   "cell_type": "markdown",
   "metadata": {
    "colab_type": "text",
    "id": "rBwAaji5San4"
   },
   "source": [
    "## 3.4 Determinant\n",
    "\n",
    "Every square matrix has a determinant. The determinant is a scalar assigned to each square matrix. It represents the area or volume of a parallelogram mapped by the column vectors in a square matrix.  The determinant is denoted $det(A)$ or using pipes (absolute value symbols) $|A|$\n",
    "\n",
    "![determinant](determinant.png)\n",
    "\n",
    "The equation given for finding the determinant of a 2x2 matrix is as follows:\n",
    "\n",
    "\\begin{align}\n",
    "A = \\begin{bmatrix}\n",
    "a & b \\\\\n",
    "c & d\n",
    "\\end{bmatrix}\n",
    "\\qquad\n",
    "|A| = ad-bc\n",
    "\\end{align}\n",
    "\n",
    "For a 2x2 matrix:\n",
    "![twomatrixdet](https://www.mathsisfun.com/algebra/images/matrix-2x2-det-a.gif)\n",
    "\n",
    "* Blue is positive (+ad),\n",
    "* Red is negative (−bc)\n",
    "\n",
    "![twomatdetsolve](https://www.mathsisfun.com/algebra/images/matrix-2x2-det-c.gif)\n",
    "\n",
    "Find the determinant of larger square matrices recursively by finding the determinants of the smaller matrices that make up the large matrix."
   ]
  },
  {
   "cell_type": "markdown",
   "metadata": {},
   "source": [
    "**3x3 matrix**\n",
    "![three_det](https://www.mathsisfun.com/algebra/images/matrix-3x3-det-a.gif)\n",
    "For a 3x3 matrix, the determinant is:  \n",
    "|A| = a(ei − fh) − b(di − fg) + c(dh − eg)  \n",
    "Here's the pattern:\n",
    "![pattern](https://www.mathsisfun.com/algebra/images/matrix-3x3-det-c.gif)"
   ]
  },
  {
   "cell_type": "code",
   "execution_count": 108,
   "metadata": {},
   "outputs": [
    {
     "data": {
      "text/plain": [
       "-17.999999999999996"
      ]
     },
     "execution_count": 108,
     "metadata": {},
     "output_type": "execute_result"
    }
   ],
   "source": [
    "# Find the determinant of a matrix\n",
    "H = np.array([[4,6],[3,0]])\n",
    "np.linalg.det(H)"
   ]
  },
  {
   "cell_type": "code",
   "execution_count": 109,
   "metadata": {},
   "outputs": [
    {
     "data": {
      "text/plain": [
       "-31.999999999999986"
      ]
     },
     "execution_count": 109,
     "metadata": {},
     "output_type": "execute_result"
    }
   ],
   "source": [
    "# Find the determinant of a matrix\n",
    "J = np.array([[0,2,3],[6,4,4],[8,0,0]])\n",
    "np.linalg.det(J)"
   ]
  },
  {
   "cell_type": "markdown",
   "metadata": {},
   "source": [
    "Why do I want to know this? How will I ever use the determinant?  \n",
    "* helps find the inverse of the matrix\n",
    "* In data science, frequently used for dimensionality reduction.  \n",
    "* When the determinant is zero, this is problematic (avoid)    \n",
    "* A determinant of zero means there are infinite solutions to a system of equations (ie, no unique solution).  \n",
    "* The sign of the determinant of a matrix can be used to calculate the relative position of a point to a plane  \n",
    "* Commonly used in 3d programming and graphics techniques (matrices of pixels) where the determinant effectively represents the degree of unambiguousness.   \n",
    "* Determinants can be used to solve systems of linear equations (Cramer's rule).  \n",
    "\n",
    "https://www.gamedev.net/forums/topic/610673-what-is-a-practical-use-for-the-determinant-of-a-matrix/"
   ]
  },
  {
   "cell_type": "markdown",
   "metadata": {
    "colab_type": "text",
    "id": "8aGG5d4HSauH"
   },
   "source": [
    "## 3.5 Inverse\n",
    "\n",
    " There are multiple methods that we could use to find the inverse of a matrix by hand. I would suggest you explore those methods --if this content isn't already overwhelming enough. The inverse is like the reciprocal of the matrix that was used to generate it. Just like $\\frac{1}{8}$ is the reciprocal of 8, $A^{-1}$ acts like the reciprocal of $A$.  The equation for finding the determinant of a 2x2 matrix is as follows:\n",
    " \n",
    " \\begin{align}\n",
    "A = \\begin{bmatrix}\n",
    "a & b \\\\\n",
    "c & d\n",
    "\\end{bmatrix}\n",
    "\\qquad\n",
    "A^{-1} = \\frac{1}{ad-bc}\\begin{bmatrix}\n",
    "d & -b\\\\\n",
    "-c & a\n",
    "\\end{bmatrix}\n",
    "\\end{align}"
   ]
  },
  {
   "cell_type": "code",
   "execution_count": 112,
   "metadata": {},
   "outputs": [
    {
     "data": {
      "text/html": [
       "<div>\n",
       "<style scoped>\n",
       "    .dataframe tbody tr th:only-of-type {\n",
       "        vertical-align: middle;\n",
       "    }\n",
       "\n",
       "    .dataframe tbody tr th {\n",
       "        vertical-align: top;\n",
       "    }\n",
       "\n",
       "    .dataframe thead th {\n",
       "        text-align: right;\n",
       "    }\n",
       "</style>\n",
       "<table border=\"1\" class=\"dataframe\">\n",
       "  <thead>\n",
       "    <tr style=\"text-align: right;\">\n",
       "      <th></th>\n",
       "      <th>0</th>\n",
       "      <th>1</th>\n",
       "    </tr>\n",
       "  </thead>\n",
       "  <tbody>\n",
       "    <tr>\n",
       "      <th>0</th>\n",
       "      <td>4</td>\n",
       "      <td>6</td>\n",
       "    </tr>\n",
       "    <tr>\n",
       "      <th>1</th>\n",
       "      <td>3</td>\n",
       "      <td>0</td>\n",
       "    </tr>\n",
       "  </tbody>\n",
       "</table>\n",
       "</div>"
      ],
      "text/plain": [
       "   0  1\n",
       "0  4  6\n",
       "1  3  0"
      ]
     },
     "execution_count": 112,
     "metadata": {},
     "output_type": "execute_result"
    }
   ],
   "source": [
    "pd.DataFrame(H)"
   ]
  },
  {
   "cell_type": "code",
   "execution_count": 124,
   "metadata": {},
   "outputs": [
    {
     "data": {
      "text/html": [
       "<div>\n",
       "<style scoped>\n",
       "    .dataframe tbody tr th:only-of-type {\n",
       "        vertical-align: middle;\n",
       "    }\n",
       "\n",
       "    .dataframe tbody tr th {\n",
       "        vertical-align: top;\n",
       "    }\n",
       "\n",
       "    .dataframe thead th {\n",
       "        text-align: right;\n",
       "    }\n",
       "</style>\n",
       "<table border=\"1\" class=\"dataframe\">\n",
       "  <thead>\n",
       "    <tr style=\"text-align: right;\">\n",
       "      <th></th>\n",
       "      <th>0</th>\n",
       "      <th>1</th>\n",
       "    </tr>\n",
       "  </thead>\n",
       "  <tbody>\n",
       "    <tr>\n",
       "      <th>0</th>\n",
       "      <td>1.387779e-17</td>\n",
       "      <td>0.333333</td>\n",
       "    </tr>\n",
       "    <tr>\n",
       "      <th>1</th>\n",
       "      <td>1.666667e-01</td>\n",
       "      <td>-0.222222</td>\n",
       "    </tr>\n",
       "  </tbody>\n",
       "</table>\n",
       "</div>"
      ],
      "text/plain": [
       "              0         1\n",
       "0  1.387779e-17  0.333333\n",
       "1  1.666667e-01 -0.222222"
      ]
     },
     "execution_count": 124,
     "metadata": {},
     "output_type": "execute_result"
    }
   ],
   "source": [
    "# Inverse of matrix H\n",
    "H_inverse=np.linalg.inv(H)\n",
    "pd.DataFrame(H_inverse)"
   ]
  },
  {
   "cell_type": "markdown",
   "metadata": {},
   "source": [
    "The reciprocal of a number is simply to flip the numerator and denominator .   \n",
    "  \n",
    "$8^{-1}=\\frac{1}{8}$   \n",
    "\n",
    "\n",
    "$\\frac{8}{1} \\times \\frac{1}{8} = 1 $"
   ]
  },
  {
   "cell_type": "markdown",
   "metadata": {
    "colab_type": "text",
    "id": "tlOXGq4QMSZy"
   },
   "source": [
    " #### What happens if we multiply a matrix by its inverse?\n",
    "\n",
    "The product of a matrix multiplied by its inverse is the identity matrix of the same dimensions as the original matrix. There is no concept of \"matrix division\" in linear algebra, but multiplying a matrix by its inverse is very similar since $8\\times\\frac{1}{8} = 1$. \n",
    "\n",
    "\\begin{align}\n",
    "A^{-1}A = I \n",
    "\\end{align}\n"
   ]
  },
  {
   "cell_type": "code",
   "execution_count": 121,
   "metadata": {},
   "outputs": [
    {
     "data": {
      "text/html": [
       "<div>\n",
       "<style scoped>\n",
       "    .dataframe tbody tr th:only-of-type {\n",
       "        vertical-align: middle;\n",
       "    }\n",
       "\n",
       "    .dataframe tbody tr th {\n",
       "        vertical-align: top;\n",
       "    }\n",
       "\n",
       "    .dataframe thead th {\n",
       "        text-align: right;\n",
       "    }\n",
       "</style>\n",
       "<table border=\"1\" class=\"dataframe\">\n",
       "  <thead>\n",
       "    <tr style=\"text-align: right;\">\n",
       "      <th></th>\n",
       "      <th>0</th>\n",
       "      <th>1</th>\n",
       "    </tr>\n",
       "  </thead>\n",
       "  <tbody>\n",
       "    <tr>\n",
       "      <th>0</th>\n",
       "      <td>12</td>\n",
       "      <td>11</td>\n",
       "    </tr>\n",
       "    <tr>\n",
       "      <th>1</th>\n",
       "      <td>7</td>\n",
       "      <td>10</td>\n",
       "    </tr>\n",
       "  </tbody>\n",
       "</table>\n",
       "</div>"
      ],
      "text/plain": [
       "    0   1\n",
       "0  12  11\n",
       "1   7  10"
      ]
     },
     "execution_count": 121,
     "metadata": {},
     "output_type": "execute_result"
    }
   ],
   "source": [
    "# Create G Matrix\n",
    "G = np.array([[12,11],[7,10]])\n",
    "pd.DataFrame(G)"
   ]
  },
  {
   "cell_type": "code",
   "execution_count": 123,
   "metadata": {},
   "outputs": [
    {
     "data": {
      "text/html": [
       "<div>\n",
       "<style scoped>\n",
       "    .dataframe tbody tr th:only-of-type {\n",
       "        vertical-align: middle;\n",
       "    }\n",
       "\n",
       "    .dataframe tbody tr th {\n",
       "        vertical-align: top;\n",
       "    }\n",
       "\n",
       "    .dataframe thead th {\n",
       "        text-align: right;\n",
       "    }\n",
       "</style>\n",
       "<table border=\"1\" class=\"dataframe\">\n",
       "  <thead>\n",
       "    <tr style=\"text-align: right;\">\n",
       "      <th></th>\n",
       "      <th>0</th>\n",
       "      <th>1</th>\n",
       "    </tr>\n",
       "  </thead>\n",
       "  <tbody>\n",
       "    <tr>\n",
       "      <th>0</th>\n",
       "      <td>0.232558</td>\n",
       "      <td>-0.255814</td>\n",
       "    </tr>\n",
       "    <tr>\n",
       "      <th>1</th>\n",
       "      <td>-0.162791</td>\n",
       "      <td>0.279070</td>\n",
       "    </tr>\n",
       "  </tbody>\n",
       "</table>\n",
       "</div>"
      ],
      "text/plain": [
       "          0         1\n",
       "0  0.232558 -0.255814\n",
       "1 -0.162791  0.279070"
      ]
     },
     "execution_count": 123,
     "metadata": {},
     "output_type": "execute_result"
    }
   ],
   "source": [
    "# Find inverse of G \n",
    "G_inverse = np.linalg.inv(G)\n",
    "pd.DataFrame(G_inverse)"
   ]
  },
  {
   "cell_type": "code",
   "execution_count": 125,
   "metadata": {},
   "outputs": [
    {
     "data": {
      "text/html": [
       "<div>\n",
       "<style scoped>\n",
       "    .dataframe tbody tr th:only-of-type {\n",
       "        vertical-align: middle;\n",
       "    }\n",
       "\n",
       "    .dataframe tbody tr th {\n",
       "        vertical-align: top;\n",
       "    }\n",
       "\n",
       "    .dataframe thead th {\n",
       "        text-align: right;\n",
       "    }\n",
       "</style>\n",
       "<table border=\"1\" class=\"dataframe\">\n",
       "  <thead>\n",
       "    <tr style=\"text-align: right;\">\n",
       "      <th></th>\n",
       "      <th>0</th>\n",
       "      <th>1</th>\n",
       "    </tr>\n",
       "  </thead>\n",
       "  <tbody>\n",
       "    <tr>\n",
       "      <th>0</th>\n",
       "      <td>1.000000e+00</td>\n",
       "      <td>0.0</td>\n",
       "    </tr>\n",
       "    <tr>\n",
       "      <th>1</th>\n",
       "      <td>-2.220446e-16</td>\n",
       "      <td>1.0</td>\n",
       "    </tr>\n",
       "  </tbody>\n",
       "</table>\n",
       "</div>"
      ],
      "text/plain": [
       "              0    1\n",
       "0  1.000000e+00  0.0\n",
       "1 -2.220446e-16  1.0"
      ]
     },
     "execution_count": 125,
     "metadata": {},
     "output_type": "execute_result"
    }
   ],
   "source": [
    "# Find G * inverse of G\n",
    "G_inverse_G = np.matmul(G,G_inverse)\n",
    "pd.DataFrame(G_inverse_G)"
   ]
  },
  {
   "cell_type": "markdown",
   "metadata": {
    "colab_type": "text",
    "id": "46cJIv0YL7Jp"
   },
   "source": [
    "#### Not all matrices are invertible\n",
    "\n",
    "Matrices that are not square are not invertible.\n",
    " \n",
    " A matrix is invertible if and only if its determinant is non-zero. You'll notice that the fraction on the left side of the matrix is $\\frac{1}{det(A)}$.\n",
    " \n",
    " As you know, dividing anything by 0 leads to an undefined quotient. Therefore, if the determinant of a matrix is 0, then the entire inverse becomes undefined. "
   ]
  },
  {
   "cell_type": "markdown",
   "metadata": {
    "colab_type": "text",
    "id": "Iq0TYH-jMBwK"
   },
   "source": [
    "#### What leads to a 0 determinant?\n",
    " \n",
    " A square matrix that has a determinant of 0 is known as a \"singular\" matrix. One thing that can lead to a matrix having a determinant of 0 is if two rows or columns in the matrix are perfectly collinear. Another way of saying this is that the determinant will be zero if the rows or columns of a matrix are not linearly dependent. \n",
    " \n",
    "One of the most common ways that a matrix can end up having rows that are linearly dependent is if one column a multiple of another column. Lets look at an example:\n",
    "\n",
    "\\begin{align}\n",
    "C =\\begin{bmatrix}\n",
    "  1 & 5 & 2 \\\\\n",
    "  2 & 7 & 4 \\\\\n",
    "  3 & 2 & 6\n",
    "\\end{bmatrix}\n",
    "\\end{align}\n",
    "\n",
    "Look at the columns of the above matrix, column 3 is exactly double column 1. (could be any multiple or fraction) Think about if you had some measure in a dataset of distance in miles, but then you also wanted to convert its units to feet, so you create another column and multiply the mile measure by 5,280 (Thanks Imperial System). But then you forget to drop one of the columns so you end up with two columns that are linearly dependent which causes the determinant of your dataframe to be 0 and will cause certain algorithms to fail. We'll go deeper into this concept next week (this can cause problems with linear regression) so just know that matrices that have columns that are a multiple or fraction of another column will cause the determinant of that matrix to be 0.\n",
    " \n",
    " For more details about when a matrix is invertible google the \"Invertible Matrix Theorem\" but be prepared for some heavy linear algebra jargon."
   ]
  }
 ],
 "metadata": {
  "colab": {
   "collapsed_sections": [],
   "name": "LS_DS_131_Vectors_and_Matrices.ipynb",
   "provenance": []
  },
  "kernelspec": {
   "display_name": "Python 3",
   "language": "python",
   "name": "python3"
  },
  "language_info": {
   "codemirror_mode": {
    "name": "ipython",
    "version": 3
   },
   "file_extension": ".py",
   "mimetype": "text/x-python",
   "name": "python",
   "nbconvert_exporter": "python",
   "pygments_lexer": "ipython3",
   "version": "3.7.3"
  }
 },
 "nbformat": 4,
 "nbformat_minor": 1
}
