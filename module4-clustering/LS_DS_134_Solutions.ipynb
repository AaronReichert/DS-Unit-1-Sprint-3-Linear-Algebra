{
 "cells": [
  {
   "cell_type": "markdown",
   "metadata": {
    "colab_type": "text",
    "id": "Y9bK8maEkopO"
   },
   "source": [
    "# Part 0. Principle Components Analysis Review"
   ]
  },
  {
   "cell_type": "markdown",
   "metadata": {},
   "source": [
    "### 0.1 Notes about PCA"
   ]
  },
  {
   "cell_type": "markdown",
   "metadata": {
    "colab_type": "text",
    "id": "3JHDhIiPks0z"
   },
   "source": [
    "**Principal Components are not a re-labeling of the original features**\n",
    "\n",
    "I saw some confusion yesterday about what the new Principal Components are that come out of our PCA transformations. Principal Components are a linear combination of any and all dimensions (features) that will increase their variance, this means that PCs are made up of a mixture of features --mostly the ones with the highest variance, but also smaller parts from other features. This means that they are not comparable to the original features of our $X$ matrix. In cases where we're not reducing dimensionality that much (like the Iris dataset) our Principal Components might be extremely similar to the original features (since there's not that many to pull from) but don't think of them in that way, think of them as a completely new dataset that we can't really apply "
   ]
  },
  {
   "cell_type": "markdown",
   "metadata": {
    "colab_type": "text",
    "id": "8CPPjEHVktro"
   },
   "source": [
    "**PCA does not make predictions**\n",
    "\n",
    "I would not call PCA a \"machine learning algorithm\" in that it does not try to make any predictions. We can't calculate any accuracy measure. You can call it an algorithm, you can call it a preprocessing technique or method, but it's not truly making predictions. This may have been confusing due to the fact that the Iris dataset had labels, but PCA is just re-organizing points in space, it's not making any predictions."
   ]
  },
  {
   "cell_type": "markdown",
   "metadata": {
    "colab_type": "text",
    "id": "FK6eHmtDktur"
   },
   "source": [
    "**PCA does not standardize the data for you**\n",
    "\n",
    "You'll notice in the \"from scratch\" implementation of PCA that I did in class yesterday that in that example I did not divide the points by the standard deviation. I believe you'll get a slightly different set of points if you choose to divide by the standard deviation (I think this might be what A Apte was seeing yesterday when he tried both methods and found that they looked different. It could be something else entirely, but that's my first guess at what could be going on.)\n",
    "\n",
    "The Sklearn implementation does not standardize the points for you as part of the process. You can either do this yourself \"by hand\" or you can use other sklearn methods like this preprocessing step which will automatically standardize your data to have a mean of 0 and a standard deviation of 1. You have to do this **before** you pass your data to PCA.\n",
    "\n",
    "<https://scikit-learn.org/stable/modules/generated/sklearn.preprocessing.scale.html>"
   ]
  },
  {
   "cell_type": "markdown",
   "metadata": {
    "colab_type": "text",
    "id": "nwfQC5Yxksx1"
   },
   "source": [
    "**PCA does not retain 100% of the information of the original dataset**\n",
    "\n",
    "Each component explains a certain % of the variance of the original dataset. PCA tries to maximize that variance, but you might need to use more than 2 components. \n",
    "\n",
    "Typically you want to use enough components in your analysis to keep the explained variance > 90%.\n",
    "\n",
    "So we're trading off losing a small-medium amount of predictive power for a reduction in dimensions/size."
   ]
  },
  {
   "cell_type": "markdown",
   "metadata": {
    "colab_type": "text",
    "id": "xi9ks-kq_j8J"
   },
   "source": [
    "## 0.2 Housing Affordability Data System (HADS) Example"
   ]
  },
  {
   "cell_type": "markdown",
   "metadata": {},
   "source": [
    "The Housing Affordability Data System (HADS) is a set of files derived from the 1985 and later national American Housing Survey (AHS)\n"
   ]
  },
  {
   "cell_type": "code",
   "execution_count": 91,
   "metadata": {},
   "outputs": [
    {
     "data": {
      "text/html": [
       "<div>\n",
       "<style scoped>\n",
       "    .dataframe tbody tr th:only-of-type {\n",
       "        vertical-align: middle;\n",
       "    }\n",
       "\n",
       "    .dataframe tbody tr th {\n",
       "        vertical-align: top;\n",
       "    }\n",
       "\n",
       "    .dataframe thead th {\n",
       "        text-align: right;\n",
       "    }\n",
       "</style>\n",
       "<table border=\"1\" class=\"dataframe\">\n",
       "  <thead>\n",
       "    <tr style=\"text-align: right;\">\n",
       "      <th></th>\n",
       "      <th>CONTROL</th>\n",
       "      <th>AGE1</th>\n",
       "      <th>METRO3</th>\n",
       "      <th>REGION</th>\n",
       "      <th>LMED</th>\n",
       "      <th>FMR</th>\n",
       "      <th>L30</th>\n",
       "      <th>L50</th>\n",
       "      <th>L80</th>\n",
       "      <th>IPOV</th>\n",
       "      <th>...</th>\n",
       "      <th>FMTINCRELFMRCAT</th>\n",
       "      <th>FMTCOST06RELAMICAT</th>\n",
       "      <th>FMTCOST08RELAMICAT</th>\n",
       "      <th>FMTCOST12RELAMICAT</th>\n",
       "      <th>FMTCOSTMEDRELAMICAT</th>\n",
       "      <th>FMTINCRELAMICAT</th>\n",
       "      <th>FMTASSISTED</th>\n",
       "      <th>FMTBURDEN</th>\n",
       "      <th>FMTREGION</th>\n",
       "      <th>FMTSTATUS</th>\n",
       "    </tr>\n",
       "  </thead>\n",
       "  <tbody>\n",
       "    <tr>\n",
       "      <th>0</th>\n",
       "      <td>'100003130103'</td>\n",
       "      <td>82</td>\n",
       "      <td>'3'</td>\n",
       "      <td>'1'</td>\n",
       "      <td>73738</td>\n",
       "      <td>956</td>\n",
       "      <td>15738</td>\n",
       "      <td>26213</td>\n",
       "      <td>40322</td>\n",
       "      <td>11067</td>\n",
       "      <td>...</td>\n",
       "      <td>'1 LTE 50% FMR'</td>\n",
       "      <td>'2 30 - 50% AMI'</td>\n",
       "      <td>'2 30 - 50% AMI'</td>\n",
       "      <td>'2 30 - 50% AMI'</td>\n",
       "      <td>'2 30 - 50% AMI'</td>\n",
       "      <td>'2 30 - 50% AMI'</td>\n",
       "      <td>'.'</td>\n",
       "      <td>'2 30% to 50%'</td>\n",
       "      <td>'-5'</td>\n",
       "      <td>'-5'</td>\n",
       "    </tr>\n",
       "    <tr>\n",
       "      <th>1</th>\n",
       "      <td>'100006110249'</td>\n",
       "      <td>50</td>\n",
       "      <td>'5'</td>\n",
       "      <td>'3'</td>\n",
       "      <td>55846</td>\n",
       "      <td>1100</td>\n",
       "      <td>17165</td>\n",
       "      <td>28604</td>\n",
       "      <td>45744</td>\n",
       "      <td>24218</td>\n",
       "      <td>...</td>\n",
       "      <td>'3 GT FMR'</td>\n",
       "      <td>'4 60 - 80% AMI'</td>\n",
       "      <td>'4 60 - 80% AMI'</td>\n",
       "      <td>'6 100 - 120% AMI'</td>\n",
       "      <td>'4 60 - 80% AMI'</td>\n",
       "      <td>'7 120% AMI +'</td>\n",
       "      <td>'.'</td>\n",
       "      <td>'1 Less than 30%'</td>\n",
       "      <td>'-5'</td>\n",
       "      <td>'-5'</td>\n",
       "    </tr>\n",
       "    <tr>\n",
       "      <th>2</th>\n",
       "      <td>'100006370140'</td>\n",
       "      <td>53</td>\n",
       "      <td>'5'</td>\n",
       "      <td>'3'</td>\n",
       "      <td>55846</td>\n",
       "      <td>1100</td>\n",
       "      <td>13750</td>\n",
       "      <td>22897</td>\n",
       "      <td>36614</td>\n",
       "      <td>15470</td>\n",
       "      <td>...</td>\n",
       "      <td>'2 50.1 - 100% FMR'</td>\n",
       "      <td>'4 60 - 80% AMI'</td>\n",
       "      <td>'5 80 - 100% AMI'</td>\n",
       "      <td>'6 100 - 120% AMI'</td>\n",
       "      <td>'4 60 - 80% AMI'</td>\n",
       "      <td>'4 60 - 80% AMI'</td>\n",
       "      <td>'.'</td>\n",
       "      <td>'3 50% or More'</td>\n",
       "      <td>'-5'</td>\n",
       "      <td>'-5'</td>\n",
       "    </tr>\n",
       "    <tr>\n",
       "      <th>3</th>\n",
       "      <td>'100006520140'</td>\n",
       "      <td>67</td>\n",
       "      <td>'5'</td>\n",
       "      <td>'3'</td>\n",
       "      <td>55846</td>\n",
       "      <td>949</td>\n",
       "      <td>13750</td>\n",
       "      <td>22897</td>\n",
       "      <td>36614</td>\n",
       "      <td>13964</td>\n",
       "      <td>...</td>\n",
       "      <td>'2 50.1 - 100% FMR'</td>\n",
       "      <td>'6 100 - 120% AMI'</td>\n",
       "      <td>'7 120% AMI +'</td>\n",
       "      <td>'7 120% AMI +'</td>\n",
       "      <td>'5 80 - 100% AMI'</td>\n",
       "      <td>'4 60 - 80% AMI'</td>\n",
       "      <td>'.'</td>\n",
       "      <td>'1 Less than 30%'</td>\n",
       "      <td>'-5'</td>\n",
       "      <td>'-5'</td>\n",
       "    </tr>\n",
       "    <tr>\n",
       "      <th>4</th>\n",
       "      <td>'100007130148'</td>\n",
       "      <td>26</td>\n",
       "      <td>'1'</td>\n",
       "      <td>'3'</td>\n",
       "      <td>60991</td>\n",
       "      <td>737</td>\n",
       "      <td>14801</td>\n",
       "      <td>24628</td>\n",
       "      <td>39421</td>\n",
       "      <td>15492</td>\n",
       "      <td>...</td>\n",
       "      <td>'3 GT FMR'</td>\n",
       "      <td>'3 50 - 60% AMI'</td>\n",
       "      <td>'3 50 - 60% AMI'</td>\n",
       "      <td>'3 50 - 60% AMI'</td>\n",
       "      <td>'3 50 - 60% AMI'</td>\n",
       "      <td>'7 120% AMI +'</td>\n",
       "      <td>'0 Not Assisted'</td>\n",
       "      <td>'1 Less than 30%'</td>\n",
       "      <td>'-5'</td>\n",
       "      <td>'-5'</td>\n",
       "    </tr>\n",
       "  </tbody>\n",
       "</table>\n",
       "<p>5 rows × 99 columns</p>\n",
       "</div>"
      ],
      "text/plain": [
       "          CONTROL  AGE1 METRO3 REGION   LMED   FMR    L30    L50    L80  \\\n",
       "0  '100003130103'    82    '3'    '1'  73738   956  15738  26213  40322   \n",
       "1  '100006110249'    50    '5'    '3'  55846  1100  17165  28604  45744   \n",
       "2  '100006370140'    53    '5'    '3'  55846  1100  13750  22897  36614   \n",
       "3  '100006520140'    67    '5'    '3'  55846   949  13750  22897  36614   \n",
       "4  '100007130148'    26    '1'    '3'  60991   737  14801  24628  39421   \n",
       "\n",
       "    IPOV  ...      FMTINCRELFMRCAT  FMTCOST06RELAMICAT FMTCOST08RELAMICAT  \\\n",
       "0  11067  ...      '1 LTE 50% FMR'    '2 30 - 50% AMI'   '2 30 - 50% AMI'   \n",
       "1  24218  ...           '3 GT FMR'    '4 60 - 80% AMI'   '4 60 - 80% AMI'   \n",
       "2  15470  ...  '2 50.1 - 100% FMR'    '4 60 - 80% AMI'  '5 80 - 100% AMI'   \n",
       "3  13964  ...  '2 50.1 - 100% FMR'  '6 100 - 120% AMI'     '7 120% AMI +'   \n",
       "4  15492  ...           '3 GT FMR'    '3 50 - 60% AMI'   '3 50 - 60% AMI'   \n",
       "\n",
       "   FMTCOST12RELAMICAT  FMTCOSTMEDRELAMICAT   FMTINCRELAMICAT  \\\n",
       "0    '2 30 - 50% AMI'     '2 30 - 50% AMI'  '2 30 - 50% AMI'   \n",
       "1  '6 100 - 120% AMI'     '4 60 - 80% AMI'    '7 120% AMI +'   \n",
       "2  '6 100 - 120% AMI'     '4 60 - 80% AMI'  '4 60 - 80% AMI'   \n",
       "3      '7 120% AMI +'    '5 80 - 100% AMI'  '4 60 - 80% AMI'   \n",
       "4    '3 50 - 60% AMI'     '3 50 - 60% AMI'    '7 120% AMI +'   \n",
       "\n",
       "        FMTASSISTED          FMTBURDEN  FMTREGION  FMTSTATUS  \n",
       "0               '.'     '2 30% to 50%'       '-5'       '-5'  \n",
       "1               '.'  '1 Less than 30%'       '-5'       '-5'  \n",
       "2               '.'    '3 50% or More'       '-5'       '-5'  \n",
       "3               '.'  '1 Less than 30%'       '-5'       '-5'  \n",
       "4  '0 Not Assisted'  '1 Less than 30%'       '-5'       '-5'  \n",
       "\n",
       "[5 rows x 99 columns]"
      ]
     },
     "execution_count": 91,
     "metadata": {},
     "output_type": "execute_result"
    }
   ],
   "source": [
    "from urllib.request import urlopen\n",
    "from zipfile import ZipFile\n",
    "from io import BytesIO\n",
    "import os.path\n",
    "import pandas as pd\n",
    "import numpy as np\n",
    "import matplotlib.pyplot as plt\n",
    "\n",
    "# Read Natinal Data \n",
    "national_url = 'https://www.huduser.gov/portal/datasets/hads/hads2013n_ASCII.zip'\n",
    "national_file = 'thads2013n.txt'\n",
    "\n",
    "if os.path.exists(national_file):\n",
    "    national = pd.read_csv(national_file)\n",
    "else: \n",
    "    z_national = urlopen(national_url)\n",
    "    zip_national = ZipFile(BytesIO(z_national.read())).extract(national_file)\n",
    "    national = pd.read_csv(zip_national)\n",
    "\n",
    "national.head()"
   ]
  },
  {
   "cell_type": "markdown",
   "metadata": {},
   "source": [
    "### Preprocess all the categorical columns"
   ]
  },
  {
   "cell_type": "code",
   "execution_count": 92,
   "metadata": {
    "colab": {
     "base_uri": "https://localhost:8080/",
     "height": 52
    },
    "colab_type": "code",
    "id": "d9rfKtulRX7J",
    "outputId": "e422eaf2-3ad7-4044-8a41-edc8038cd2fb"
   },
   "outputs": [],
   "source": [
    "# make lists of categorical and numeric columns\n",
    "cat_cols = national.columns[national.dtypes=='object']\n",
    "num_cols = national.columns[national.dtypes!='object']"
   ]
  },
  {
   "cell_type": "code",
   "execution_count": 93,
   "metadata": {},
   "outputs": [
    {
     "data": {
      "text/plain": [
       "Index(['CONTROL', 'METRO3', 'REGION', 'STATUS', 'TENURE', 'ZADEQ', 'OWNRENT',\n",
       "       'FMTZADEQ', 'FMTMETRO3', 'FMTBUILT', 'FMTSTRUCTURETYPE', 'FMTBEDRMS',\n",
       "       'FMTOWNRENT', 'FMTCOST06RELPOVCAT', 'FMTCOST08RELPOVCAT',\n",
       "       'FMTCOST12RELPOVCAT', 'FMTCOSTMEDRELPOVCAT', 'FMTINCRELPOVCAT',\n",
       "       'FMTCOST06RELFMRCAT', 'FMTCOST08RELFMRCAT', 'FMTCOST12RELFMRCAT',\n",
       "       'FMTCOSTMEDRELFMRCAT', 'FMTINCRELFMRCAT', 'FMTCOST06RELAMICAT',\n",
       "       'FMTCOST08RELAMICAT', 'FMTCOST12RELAMICAT', 'FMTCOSTMEDRELAMICAT',\n",
       "       'FMTINCRELAMICAT', 'FMTASSISTED', 'FMTBURDEN', 'FMTREGION',\n",
       "       'FMTSTATUS'],\n",
       "      dtype='object')"
      ]
     },
     "execution_count": 93,
     "metadata": {},
     "output_type": "execute_result"
    }
   ],
   "source": [
    "# Whar are the cat columns?\n",
    "cat_cols"
   ]
  },
  {
   "cell_type": "code",
   "execution_count": 94,
   "metadata": {},
   "outputs": [
    {
     "name": "stdout",
     "output_type": "stream",
     "text": [
      "32 categorical columns\n",
      "67 numerical columns\n"
     ]
    }
   ],
   "source": [
    "# how many do we have of each?\n",
    "print(f'{len(cat_cols)} categorical columns')\n",
    "print(f'{len(num_cols)} numerical columns')"
   ]
  },
  {
   "cell_type": "code",
   "execution_count": 95,
   "metadata": {
    "colab": {
     "base_uri": "https://localhost:8080/",
     "height": 1000
    },
    "colab_type": "code",
    "id": "tjTAGU4NRXbd",
    "outputId": "3276d899-a65a-47dc-dcd2-9fbf2f6710e7"
   },
   "outputs": [],
   "source": [
    "# Cast all the categorical columns to \"category\" data type\n",
    "national[cat_cols] = national[cat_cols].astype('category')"
   ]
  },
  {
   "cell_type": "code",
   "execution_count": 96,
   "metadata": {
    "colab": {
     "base_uri": "https://localhost:8080/",
     "height": 265
    },
    "colab_type": "code",
    "id": "YwyFCpMbRXD9",
    "outputId": "b7feb750-982c-4a1d-d61a-193a796b4e8f"
   },
   "outputs": [],
   "source": [
    "# Remove apostrophes from all of the categorical columns\n",
    "for col in cat_cols:\n",
    "    national[col] = national[col].cat.codes"
   ]
  },
  {
   "cell_type": "code",
   "execution_count": 97,
   "metadata": {},
   "outputs": [
    {
     "name": "stdout",
     "output_type": "stream",
     "text": [
      "(64535, 99)\n"
     ]
    },
    {
     "data": {
      "text/plain": [
       "99"
      ]
     },
     "execution_count": 97,
     "metadata": {},
     "output_type": "execute_result"
    }
   ],
   "source": [
    "# How many numeric columns do we now have?\n",
    "num_cols = national.columns[national.dtypes!='object']\n",
    "print(national.shape)\n",
    "len(num_cols)"
   ]
  },
  {
   "cell_type": "markdown",
   "metadata": {},
   "source": [
    "### 0.2.2 Principal Components Analysis"
   ]
  },
  {
   "cell_type": "code",
   "execution_count": 98,
   "metadata": {
    "colab": {
     "base_uri": "https://localhost:8080/",
     "height": 265
    },
    "colab_type": "code",
    "id": "BTSjlNgKRWtW",
    "outputId": "4439a899-2e7b-4e79-b936-5bd087e14990"
   },
   "outputs": [],
   "source": [
    "# Make a copy of our dataframe, we will standarize the copy so as to not overwrite our original data\n",
    "national_processed = national.copy()"
   ]
  },
  {
   "cell_type": "code",
   "execution_count": 99,
   "metadata": {
    "colab": {
     "base_uri": "https://localhost:8080/",
     "height": 242
    },
    "colab_type": "code",
    "id": "u_BgMhe9A9ZC",
    "outputId": "1f6a1599-5fe4-49e8-9e53-328beddc65b9"
   },
   "outputs": [],
   "source": [
    "# instantiate the SKLearn class for standardization\n",
    "from sklearn.preprocessing import StandardScaler\n",
    "scaler = StandardScaler()"
   ]
  },
  {
   "cell_type": "code",
   "execution_count": 100,
   "metadata": {},
   "outputs": [],
   "source": [
    "# Standardize the dataset (default is normalization)\n",
    "national_processed = scaler.fit_transform(national_processed)"
   ]
  },
  {
   "cell_type": "code",
   "execution_count": 101,
   "metadata": {
    "colab": {},
    "colab_type": "code",
    "id": "m0Y5qJAs-1Q6"
   },
   "outputs": [],
   "source": [
    "# import and instantiate the PCA class\n",
    "from sklearn.decomposition import PCA\n",
    "pca = PCA(n_components=10)"
   ]
  },
  {
   "cell_type": "code",
   "execution_count": 102,
   "metadata": {},
   "outputs": [],
   "source": [
    "# Apply PCA to the data\n",
    "pca_features = pca.fit_transform(national_processed)"
   ]
  },
  {
   "cell_type": "code",
   "execution_count": 103,
   "metadata": {},
   "outputs": [
    {
     "data": {
      "text/plain": [
       "array([0.34050542, 0.14442164, 0.10287616, 0.07245401, 0.05166581,\n",
       "       0.04006691, 0.02785863, 0.02220385, 0.02016906, 0.01770136])"
      ]
     },
     "execution_count": 103,
     "metadata": {},
     "output_type": "execute_result"
    }
   ],
   "source": [
    "#  how much variation did each principal component explain?\n",
    "pca.explained_variance_ratio_"
   ]
  },
  {
   "cell_type": "code",
   "execution_count": 104,
   "metadata": {},
   "outputs": [
    {
     "data": {
      "text/plain": [
       "0.8399228452753893"
      ]
     },
     "execution_count": 104,
     "metadata": {},
     "output_type": "execute_result"
    }
   ],
   "source": [
    "# How much total variance did we explain?\n",
    "sum(pca.explained_variance_ratio_)"
   ]
  },
  {
   "cell_type": "code",
   "execution_count": 105,
   "metadata": {},
   "outputs": [
    {
     "data": {
      "text/plain": [
       "0.1600771547246107"
      ]
     },
     "execution_count": 105,
     "metadata": {},
     "output_type": "execute_result"
    }
   ],
   "source": [
    "# How much information did we lose?\n",
    "1-sum(pca.explained_variance_ratio_)"
   ]
  },
  {
   "cell_type": "markdown",
   "metadata": {},
   "source": [
    "### 0.2.3 Make a scree plot"
   ]
  },
  {
   "cell_type": "code",
   "execution_count": 106,
   "metadata": {},
   "outputs": [
    {
     "data": {
      "text/plain": [
       "10"
      ]
     },
     "execution_count": 106,
     "metadata": {},
     "output_type": "execute_result"
    }
   ],
   "source": [
    "# define the number of components\n",
    "num_components=len(pca.explained_variance_ratio_)\n",
    "num_components"
   ]
  },
  {
   "cell_type": "code",
   "execution_count": 107,
   "metadata": {},
   "outputs": [
    {
     "data": {
      "text/plain": [
       "array([0, 1, 2, 3, 4, 5, 6, 7, 8, 9])"
      ]
     },
     "execution_count": 107,
     "metadata": {},
     "output_type": "execute_result"
    }
   ],
   "source": [
    "# create a numpy array as long as the number of components\n",
    "ind = np.arange(num_components) \n",
    "ind"
   ]
  },
  {
   "cell_type": "code",
   "execution_count": 108,
   "metadata": {},
   "outputs": [
    {
     "data": {
      "text/plain": [
       "array([0.34050542, 0.14442164, 0.10287616, 0.07245401, 0.05166581,\n",
       "       0.04006691, 0.02785863, 0.02220385, 0.02016906, 0.01770136])"
      ]
     },
     "execution_count": 108,
     "metadata": {},
     "output_type": "execute_result"
    }
   ],
   "source": [
    "# create an array of 10 values\n",
    "vals = pca.explained_variance_ratio_\n",
    "vals"
   ]
  },
  {
   "cell_type": "code",
   "execution_count": 109,
   "metadata": {},
   "outputs": [
    {
     "data": {
      "image/png": "[encoded data removed]",
      "text/plain": [
       "<Figure size 432x288 with 1 Axes>"
      ]
     },
     "metadata": {
      "needs_background": "light"
     },
     "output_type": "display_data"
    }
   ],
   "source": [
    "# Plot the variance explained by each component.\n",
    "ind = np.arange(num_components)\n",
    "num_components=len(pca.explained_variance_ratio_)\n",
    "plt.bar(ind, vals);"
   ]
  },
  {
   "cell_type": "code",
   "execution_count": 110,
   "metadata": {},
   "outputs": [
    {
     "data": {
      "image/png": "[encoded data removed]",
      "text/plain": [
       "<Figure size 432x288 with 1 Axes>"
      ]
     },
     "metadata": {
      "needs_background": "light"
     },
     "output_type": "display_data"
    }
   ],
   "source": [
    "# Plot the cumulative variance explained by all the components.\n",
    "ind = np.arange(num_components)\n",
    "vals = pca.explained_variance_ratio_\n",
    "cumvals = np.cumsum(vals)\n",
    "plt.plot(ind, cumvals, c='r');"
   ]
  },
  {
   "cell_type": "code",
   "execution_count": 111,
   "metadata": {
    "colab": {},
    "colab_type": "code",
    "id": "CmxL457j-Q2y"
   },
   "outputs": [],
   "source": [
    "# Define scree plot function\n",
    "def scree_plot(pca):\n",
    "\n",
    "    num_components=len(pca.explained_variance_ratio_)\n",
    "    ind = np.arange(num_components)\n",
    "    vals = pca.explained_variance_ratio_\n",
    " \n",
    "    plt.figure(figsize=(18, 6))\n",
    "    ax = plt.subplot(111)\n",
    "    cumvals = np.cumsum(vals)\n",
    "    ax.bar(ind, vals)\n",
    "    ax.plot(ind, cumvals, c='r')\n",
    "    for i in range(num_components):\n",
    "        ax.annotate(r\"%s\" % ((str(vals[i]*100)[:3])), (ind[i], vals[i]), va=\"bottom\", ha=\"center\", fontsize=4.5)\n",
    " \n",
    "    ax.xaxis.set_tick_params(width=0)\n",
    "    ax.yaxis.set_tick_params(width=2, length=12)\n",
    "\n",
    "    ax.set_xlabel(\"Principal Component\")\n",
    "    ax.set_ylabel(\"Variance Explained (%)\")\n",
    "    plt.title('Explained Variance Per Principal Component')"
   ]
  },
  {
   "cell_type": "code",
   "execution_count": 112,
   "metadata": {
    "colab": {
     "base_uri": "https://localhost:8080/",
     "height": 404
    },
    "colab_type": "code",
    "id": "adiMr78LGpE-",
    "outputId": "02b3b5af-e181-491f-c3d5-90c8e2b19db6"
   },
   "outputs": [
    {
     "data": {
      "image/png": "[encoded data removed]",
      "text/plain": [
       "<Figure size 1296x432 with 1 Axes>"
      ]
     },
     "metadata": {
      "needs_background": "light"
     },
     "output_type": "display_data"
    }
   ],
   "source": [
    "# Apply the plot function to our principle component\n",
    "scree_plot(pca)"
   ]
  },
  {
   "cell_type": "markdown",
   "metadata": {},
   "source": [
    "# Part 1. Intro to Clustering"
   ]
  },
  {
   "cell_type": "markdown",
   "metadata": {
    "colab_type": "text",
    "id": "TBXSEvwbODsA"
   },
   "source": [
    "### 2.1 Machine Learning Overview\n",
    "\n",
    "How do you know what kind of Machine Learning that you're doing? What algorithm should you pick? \n",
    "\n",
    "This decision is driven by:\n",
    "\n",
    "1) The attributes of your dataset\n",
    "\n",
    "2) What you want to predict"
   ]
  },
  {
   "cell_type": "markdown",
   "metadata": {
    "colab_type": "text",
    "id": "t4qW9d7FlHUy"
   },
   "source": [
    "__Supervised Learning__  \n",
    "\n",
    "  - Classification algorithms try to predict the correct category (or class) from a given set of categories.\n",
    "  - Regression algorithms predict a continuous or semi-continuous value. (Not to be confused with _Linear_ Regression)"
   ]
  },
  {
   "cell_type": "markdown",
   "metadata": {
    "colab_type": "text",
    "id": "NynJ4Ye9lHg0"
   },
   "source": [
    "__Unsupervised Learning__\n",
    "  - Clustering\n",
    "  Identifying groupings of related observations. This is our topic for today!\n",
    "  - Dimensionality Reduction\n",
    "  Takes a high-dimensionality dataset and reduces the number of variables taken into consideration via methods of feature selection and feature extraction.\n",
    "  - Association Rule Learning\n",
    "  Association is a method of discovering relationships between observations in a dataset. (between ovservations or features, not just relationships between explanatory variables and a single output variable. )"
   ]
  },
  {
   "cell_type": "markdown",
   "metadata": {
    "colab_type": "text",
    "id": "ARo_wctGlHpT"
   },
   "source": [
    "__Reinforcement Learning__  \n",
    "* A form of machine learning where an \"agent\" interacts with its environment and is rewarded for correct behavior and penalized for incorrect behavior. \n",
    "* Over many iterations the agent learns the behavior that results in the greatest reward and smallest punishment. "
   ]
  },
  {
   "cell_type": "markdown",
   "metadata": {
    "colab_type": "text",
    "id": "2nPOjACaubCv"
   },
   "source": [
    "Memorize This!\n",
    "\n",
    "**Supervised**: Labelled outputs\n",
    "- **Classification**: Discrete output cagetories\n",
    "- **Regression**: Continuous output values\n",
    "\n",
    "**Unsupervised**: Outputs are not labelled\n",
    "\n",
    "**Reinforcement**: Rewards/punishments for \"behaviors\""
   ]
  },
  {
   "cell_type": "markdown",
   "metadata": {
    "colab_type": "text",
    "id": "K9YeIVBQoAJR"
   },
   "source": [
    "Kaggle datasets:\n",
    "training data has labels but the testing data does not.\n",
    "\n",
    "[Classification Examples](https://github.com/ShuaiW/kaggle-classification)\n",
    "\n",
    "[Regression Examples](https://github.com/ShuaiW/kaggle-classification)\n",
    "\n",
    "[Unsupervised Learning Examples](http://www.lsi.upc.edu/~bejar/apren/docum/trans/09-clusterej-eng.pdf)"
   ]
  },
  {
   "cell_type": "markdown",
   "metadata": {
    "colab_type": "text",
    "id": "yzdWvN9iugsd"
   },
   "source": [
    "ML Cheat Sheets  \n",
    "<div>\n",
    "<img https://docs.microsoft.com/en-us/azure/machine-learning/studio/media/algorithm-cheat-sheet/machine-learning-algorithm-cheat-sheet-small_v_0_6-01.png width='200' />\n",
    "</div>\n",
    "\n",
    "\n",
    "![Microsoft Cheat Sheet](https://docs.microsoft.com/en-us/azure/machine-learning/studio/media/algorithm-cheat-sheet/machine-learning-algorithm-cheat-sheet-small_v_0_6-01.png)\n",
    "\n",
    "This one does not group them by supervised, unsupervised, regression, classification, etc. But it gives you an idea of the different families of algorithms.\n",
    "\n",
    "![Algorithm Map](https://jixta.files.wordpress.com/2015/11/machinelearningalgorithms.png?w=816&h=521&zoom=2)\n"
   ]
  },
  {
   "cell_type": "markdown",
   "metadata": {
    "colab_type": "text",
    "id": "QEEQapU2uRIx"
   },
   "source": [
    "### 1.2 No Free Lunch Principle\n",
    "\n",
    "The no free lunch principle states that the more an algorithm is optimized to solve one specific kind of problem, the worse it gets at solving all other kinds of problems. \n",
    "\n",
    "This means that if you want an algorithm that's really good at solving a certain problem (cluster shape for example), it usually lose some of its ability to generalize to other problems. \n",
    "\n",
    "**What does this mean for us as data scientists?**\n",
    "\n",
    "1) There are always tradeoffs when selecting from different approaches. Because of this, understanding those tradeoffs and justifying your choice of methodology is just as important as actually doing the work itself.\n",
    "\n",
    "2) The only way that we can choose one approach over another is to make assumptions about our data. If we don't know anything about the characteristics of our data, then we can't make an informed choice of algorithm. \n",
    "\n",
    "Think about how we knew to use Unsupervised vs Supervised learning for the clustering problem, the choice was informed by our data. Does it have labels or not? \n",
    "\n",
    "![No Free Lunch](https://cdn-images-1.medium.com/max/1600/1*oNt9G9UpVhtyFLDBwEMf8Q.png)\n",
    "\n",
    "Density Based Clustering Animation:\n",
    "\n",
    "[DB Scan Animation](https://www.youtube.com/watch?v=h53WMIImUuc)"
   ]
  },
  {
   "cell_type": "markdown",
   "metadata": {
    "colab": {},
    "colab_type": "code",
    "id": "sZLcehHCL6DM"
   },
   "source": [
    "Tips  \n",
    "* Don't Get Overwhelmed! Some people spend their entire careers researching new clustering methods and improvements.\n",
    "\n",
    "* Don't be a perfectionist! There are too many techniques to master, you can't learn all of them in 9 months.\n",
    "\n",
    "* Focus on learning within the context of a problem you want to solve or a project that you are passionate about building"
   ]
  },
  {
   "cell_type": "markdown",
   "metadata": {
    "colab_type": "text",
    "id": "GjCxoJFNl0ly"
   },
   "source": [
    "### 1.3 Clustering \n",
    "\n",
    "Clustering falls into the category of unsupervised learning. This is because there is nothing in our training data that designates the correct cluster that a data point should belong to beforehand. In fact, there's not even a \"correct\" _**number**_ of clusters to assign our points to. We will discuss some heuristics for choosing an **appropriate** number of clusters, but this (as in much of data science) is an area where there is no cut and dry right and wrong answer. \n",
    "\n",
    "Remember: \"All models are wrong, but some models are useful.\" Data science is all about acknowledging where your model might be wrong while still pursuing something useful. "
   ]
  },
  {
   "cell_type": "markdown",
   "metadata": {
    "colab_type": "text",
    "id": "c6S6TOtgl0sb"
   },
   "source": [
    "**Why Clustering?**\n",
    "\n",
    "Clustering answers questions about how similar or dissimilar our \"data objects\" are. Clustering is one of the most effective methods for summarizing datasets with this question in mind. Clustering can be thought of as a sort of \"unsupervised classification.\" You will likely never deploy a clustering model to a production environment, they're too unreliable. Clustering is more useful as a tool for data exploration than a model for making predictions. "
   ]
  },
  {
   "cell_type": "markdown",
   "metadata": {
    "colab_type": "text",
    "id": "yDspwZ9Tl0yG"
   },
   "source": [
    "“Clustering isn’t hard—it’s either easy, or not interesting”\n",
    "\n",
    "If a good clustering exists, then it usually can be efficiently found. Clustering is the most difficult when clear clusters don't exist in the first place. In that case you should question whether or not clustering is the most appropriate or useful method. \n",
    "\n",
    "The purpose of clustering is to group data points that are similar along certain specified dimensions (attributes). \"Similarity\" is defined as the points being close together in some n-dimensional space. \n",
    "\n",
    "The greater the number of dimensions, the more difficult clustering becomes because the increase in dimensions makes all points this is because measures of distance are used to determine similarity between datapoints, and the greater the dimensionality the more all points become roughly equidistant with one another. (We don't have time to go further into this or demonstrate this, but clustering suffers from performance and interpretability issues in a high number of dimensions). Some of these challenges can be rectified by choosing an appropriate measure of \"distance\" between data points. For example, using clustering for document analysis is still fairly effective even though the analysis is of a highly-dimenaional space. "
   ]
  },
  {
   "cell_type": "markdown",
   "metadata": {},
   "source": [
    "**Applications of Clustering**\n",
    "\n",
    "Astronomy: There's too much data from space for us to look at each individual start and galaxy and categorize it, but we can cluster them intro groups based on their observable attributes. \n",
    "\n",
    "[SkyCat](http://www.eso.org/sci/observing/tools/skycat.html)\n",
    "\n",
    "[Sloan Digital Sky Survey](https://www.sdss.org/)\n",
    "\n",
    "Document Classification / Grouping - We'll need to study a little bit of NLP before we can get into this. "
   ]
  },
  {
   "cell_type": "markdown",
   "metadata": {
    "colab_type": "text",
    "id": "ldJ0c24yl02e"
   },
   "source": [
    "### 1.4 Types of Clustering\n",
    "\n",
    "**Hierarchical:**\n",
    "\n",
    "    - Agglomerative: start with individual points and combine them into larger and larger clusters\n",
    "    - Divisive: Start with one cluster and divide the points into smaller clusters.\n",
    "\n",
    "**Point Assignment:**\n",
    "\n",
    "    - We decide on a number of clusters out of the gate, and assign points to that number of clusters.\n",
    "\n",
    "**Hard vs Soft Clustering**\n",
    "    - Hard Clustering assigns a point to a cluster\n",
    "    - Soft Clustering assigns each point a probability that it's in a given cluster.\n",
    "    - We're going to only deal with hard clustering, it's the more traditional approach. "
   ]
  },
  {
   "cell_type": "markdown",
   "metadata": {
    "colab_type": "text",
    "id": "mnAcqxeDl06U"
   },
   "source": [
    "### 1.5 Clustering Distance Measures"
   ]
  },
  {
   "cell_type": "markdown",
   "metadata": {
    "colab_type": "text",
    "id": "WhmN7D0Ol0-E"
   },
   "source": [
    "**Distance Measures**\n",
    "\n",
    "Did you know that there are distance measures other than euclidean distance?\n",
    "\n",
    "- Euclidean\n",
    "- Cosine\n",
    "- Jaccard\n",
    "- Edit Distance\n",
    "- Etc. \n",
    "\n",
    "Clustering traditionally uses Euclidean Distance, but this particular measure of distance breaks down in high dimensionality spaces. It's what we'll use for today. If you **LOVE**  clustering and want to put a strong focus on this area of Machine learning (at the expense of focusing strongly on others) then I would suggest further personal research into different clustering algorithms and distance measures. \n",
    "\n",
    "I want to reiterate that you don't have to use PCA and clustering in conjunction with each other. I think it's more common that they are not used together, but it can be useful in certain cases. We might try it today for fun and so reiterate how PCA is the preprocessing step, and K-means will be the main \"Machine Learning Algorithm.\"\n"
   ]
  },
  {
   "cell_type": "markdown",
   "metadata": {
    "colab_type": "text",
    "id": "CY95oSIT-5ko"
   },
   "source": [
    "There are a lot of clustering algorithms. \n",
    "\n",
    "YOU DON'T NEED TO BE ABLE TO CODE ALL OF THEM FROM SCRATCH IN ORDER TO APPLY THEM OR EVEN TO UNDERSTAND THEM. FOCUS ON LEARNING THINGS WITHIN THE CONTEXT OF A PROBLEM YOU ARE TRYING TO SOLVE AND ONLY LEARN THOSE THINGS THAT WILL HELP YOU SOLVE THE PROBLEM. "
   ]
  },
  {
   "cell_type": "markdown",
   "metadata": {
    "colab_type": "text",
    "id": "rJx_PxNUmyDT"
   },
   "source": [
    "# Part 2. K-Means Clustering"
   ]
  },
  {
   "cell_type": "markdown",
   "metadata": {
    "colab_type": "text",
    "id": "OGSeEtls_QXU"
   },
   "source": [
    "### 2.1 The Process\n",
    "\n",
    "Given a set of points in n-dimensional space we want to :\n",
    "\n",
    "1) select k random points to act as initial centroids (one point for each cluster)\n",
    "\n",
    "2) Find the cluster of points surrounding that centroid (assign points to the centroid that they lie closest to)\n",
    "\n",
    "3) Calculate a new centroid for the cluster\n",
    "\n",
    "Repeat steps 2 & 3 until the model converges. (Clusters don't change)"
   ]
  },
  {
   "cell_type": "code",
   "execution_count": 113,
   "metadata": {
    "colab": {
     "base_uri": "https://localhost:8080/",
     "height": 361
    },
    "colab_type": "code",
    "id": "Lt03ADtDByNX",
    "outputId": "75fed18f-1691-46dd-86b2-40080be485ef"
   },
   "outputs": [],
   "source": [
    "# import the blob maker\n",
    "from sklearn.datasets.samples_generator import make_blobs"
   ]
  },
  {
   "cell_type": "code",
   "execution_count": 114,
   "metadata": {},
   "outputs": [
    {
     "name": "stdout",
     "output_type": "stream",
     "text": [
      "[[-9.5653246  -7.85357417]\n",
      " [-1.35280857 -3.10618045]\n",
      " [-6.43938805 -7.48335912]\n",
      " [-3.07578002 -2.73658281]\n",
      " [-3.43192834 -4.2198221 ]\n",
      " [-2.866503   -5.03793003]\n",
      " [-7.09440465  3.19767124]\n",
      " [-6.66029829 -8.59296524]\n",
      " [-5.57340892  3.19030472]\n",
      " [-2.55311622 -4.43253998]]\n",
      "[2 1 2 1 1 1 0 2 0 1 1 1 0 1 1 2 2 0 1 1 2 0 1 2 1 1 0 2 1 0 2 2 0 1 0 2 0\n",
      " 2 2 0 1 1 2 1 1 0 1 0 0 0 2 2 2 1 1 2 1 1 2 0 2 1 1 0 2 0 2 1 0 1 0 2 0 0\n",
      " 2 2 0 0 2 0 2 0 0 0 0 2 2 1 1 2 1 0 2 0 0 1 2 0 0 2]\n"
     ]
    }
   ],
   "source": [
    "#  Let's make some blobs\n",
    "points, center = make_blobs(n_samples=100, centers=3, n_features=2)\n",
    "print(points[:10])\n",
    "print(center)"
   ]
  },
  {
   "cell_type": "code",
   "execution_count": 115,
   "metadata": {},
   "outputs": [
    {
     "data": {
      "text/html": [
       "<div>\n",
       "<style scoped>\n",
       "    .dataframe tbody tr th:only-of-type {\n",
       "        vertical-align: middle;\n",
       "    }\n",
       "\n",
       "    .dataframe tbody tr th {\n",
       "        vertical-align: top;\n",
       "    }\n",
       "\n",
       "    .dataframe thead th {\n",
       "        text-align: right;\n",
       "    }\n",
       "</style>\n",
       "<table border=\"1\" class=\"dataframe\">\n",
       "  <thead>\n",
       "    <tr style=\"text-align: right;\">\n",
       "      <th></th>\n",
       "      <th>x</th>\n",
       "      <th>y</th>\n",
       "      <th>label</th>\n",
       "    </tr>\n",
       "  </thead>\n",
       "  <tbody>\n",
       "    <tr>\n",
       "      <th>0</th>\n",
       "      <td>-9.565325</td>\n",
       "      <td>-7.853574</td>\n",
       "      <td>2</td>\n",
       "    </tr>\n",
       "    <tr>\n",
       "      <th>1</th>\n",
       "      <td>-1.352809</td>\n",
       "      <td>-3.106180</td>\n",
       "      <td>1</td>\n",
       "    </tr>\n",
       "    <tr>\n",
       "      <th>2</th>\n",
       "      <td>-6.439388</td>\n",
       "      <td>-7.483359</td>\n",
       "      <td>2</td>\n",
       "    </tr>\n",
       "    <tr>\n",
       "      <th>3</th>\n",
       "      <td>-3.075780</td>\n",
       "      <td>-2.736583</td>\n",
       "      <td>1</td>\n",
       "    </tr>\n",
       "    <tr>\n",
       "      <th>4</th>\n",
       "      <td>-3.431928</td>\n",
       "      <td>-4.219822</td>\n",
       "      <td>1</td>\n",
       "    </tr>\n",
       "  </tbody>\n",
       "</table>\n",
       "</div>"
      ],
      "text/plain": [
       "          x         y  label\n",
       "0 -9.565325 -7.853574      2\n",
       "1 -1.352809 -3.106180      1\n",
       "2 -6.439388 -7.483359      2\n",
       "3 -3.075780 -2.736583      1\n",
       "4 -3.431928 -4.219822      1"
      ]
     },
     "execution_count": 115,
     "metadata": {},
     "output_type": "execute_result"
    }
   ],
   "source": [
    "# Make that into a dataframe of x, y and label values\n",
    "df = pd.DataFrame(dict(x=points[:,0], y=points[:,1], label=center))\n",
    "df.head()"
   ]
  },
  {
   "cell_type": "code",
   "execution_count": 116,
   "metadata": {},
   "outputs": [
    {
     "data": {
      "image/png": "[encoded data removed]",
      "text/plain": [
       "<Figure size 432x288 with 1 Axes>"
      ]
     },
     "metadata": {
      "needs_background": "light"
     },
     "output_type": "display_data"
    }
   ],
   "source": [
    "# Display the clusters we made\n",
    "plt.scatter(x=df['x'], y=df['y'], c=df['label']);"
   ]
  },
  {
   "cell_type": "markdown",
   "metadata": {
    "colab_type": "text",
    "id": "x3fV8Cw_Eq6w"
   },
   "source": [
    "**Linear Separability**\n",
    "The 2D blobs below are what is called \"linearly separable\" Meaning that we could use straight lines to separate them with no errors. This is the most trivial case of of k-means clustering, but it will help us to demonstrate."
   ]
  },
  {
   "cell_type": "code",
   "execution_count": 117,
   "metadata": {
    "colab": {
     "base_uri": "https://localhost:8080/",
     "height": 198
    },
    "colab_type": "code",
    "id": "jK624RjW-qGk",
    "outputId": "135b40a4-c323-4b29-a622-ff9d6a7ea26d"
   },
   "outputs": [
    {
     "data": {
      "text/html": [
       "<div>\n",
       "<style scoped>\n",
       "    .dataframe tbody tr th:only-of-type {\n",
       "        vertical-align: middle;\n",
       "    }\n",
       "\n",
       "    .dataframe tbody tr th {\n",
       "        vertical-align: top;\n",
       "    }\n",
       "\n",
       "    .dataframe thead th {\n",
       "        text-align: right;\n",
       "    }\n",
       "</style>\n",
       "<table border=\"1\" class=\"dataframe\">\n",
       "  <thead>\n",
       "    <tr style=\"text-align: right;\">\n",
       "      <th></th>\n",
       "      <th>x</th>\n",
       "      <th>y</th>\n",
       "    </tr>\n",
       "  </thead>\n",
       "  <tbody>\n",
       "    <tr>\n",
       "      <th>0</th>\n",
       "      <td>-9.565325</td>\n",
       "      <td>-7.853574</td>\n",
       "    </tr>\n",
       "    <tr>\n",
       "      <th>1</th>\n",
       "      <td>-1.352809</td>\n",
       "      <td>-3.106180</td>\n",
       "    </tr>\n",
       "    <tr>\n",
       "      <th>2</th>\n",
       "      <td>-6.439388</td>\n",
       "      <td>-7.483359</td>\n",
       "    </tr>\n",
       "    <tr>\n",
       "      <th>3</th>\n",
       "      <td>-3.075780</td>\n",
       "      <td>-2.736583</td>\n",
       "    </tr>\n",
       "    <tr>\n",
       "      <th>4</th>\n",
       "      <td>-3.431928</td>\n",
       "      <td>-4.219822</td>\n",
       "    </tr>\n",
       "  </tbody>\n",
       "</table>\n",
       "</div>"
      ],
      "text/plain": [
       "          x         y\n",
       "0 -9.565325 -7.853574\n",
       "1 -1.352809 -3.106180\n",
       "2 -6.439388 -7.483359\n",
       "3 -3.075780 -2.736583\n",
       "4 -3.431928 -4.219822"
      ]
     },
     "execution_count": 117,
     "metadata": {},
     "output_type": "execute_result"
    }
   ],
   "source": [
    "# Drop labels to prove that this is truly unsupervised learning\n",
    "points = df.drop('label', axis=1)\n",
    "points.head()"
   ]
  },
  {
   "cell_type": "code",
   "execution_count": 118,
   "metadata": {
    "colab": {
     "base_uri": "https://localhost:8080/",
     "height": 347
    },
    "colab_type": "code",
    "id": "Ro4aO_mPoP1v",
    "outputId": "e0ee68f3-8912-4c55-954f-a540a3082001"
   },
   "outputs": [
    {
     "data": {
      "image/png": "[encoded data removed]",
      "text/plain": [
       "<Figure size 432x288 with 1 Axes>"
      ]
     },
     "metadata": {
      "needs_background": "light"
     },
     "output_type": "display_data"
    }
   ],
   "source": [
    "# Scatter plot of our label-less data (no more colors!)\n",
    "plt.scatter(points.x, points.y);"
   ]
  },
  {
   "cell_type": "markdown",
   "metadata": {
    "colab_type": "text",
    "id": "WzETDJC2FNDK"
   },
   "source": [
    "### 2.2. K-means clustering by hand\n",
    "\n",
    "K-means clustering is what's known as a centroid-based clustering algorithm. A centroid is an imaginary point located at the average location of all of the points in a given cluster. For example, if I wanted to find the centroid of all of the points in the above graph I would just calculate the average of the dataset's x-coordinates to find the x value of the centroid, and the average of the dataset's y-coordinates to find the y value of the centroid.\n",
    "\n",
    "If we plot the centroid on the graph you'll see that it lies in the middle of the points. You could imagine the centroid as if it is the center of gravity, or center of mass for a given cluster. Since in this example we're treating all of the points in the dataset as if they're in the same cluster, it will end up somewhere in the middle. We're just doing this to demonstrate what a centroid is. The K-means algorithm doesn't ever calculate the centroid for the entire dataset."
   ]
  },
  {
   "cell_type": "markdown",
   "metadata": {},
   "source": [
    "**Re-review steps of the algorithm**\n",
    "\n",
    "Given a set of points in n-dimensional space we want to:\n",
    "\n",
    "1) select k random points to act as initial centroids (one point for each cluster)\n",
    "2) Find the cluster of points surrounding that centroid (assign points to the centroid that they lie closest to)\n",
    "3) Calculate a new centroid for the cluster\n",
    "\n",
    "Repeat steps 2 & 3 until the model converges. (Clusters don't change)"
   ]
  },
  {
   "cell_type": "markdown",
   "metadata": {},
   "source": [
    "**3-means clustering**\n",
    "\n",
    "Lets pick k=3 and start demonstrating how this algorithm actually works. \n",
    "\n",
    "The k-means algorithm works by picking 3 of the actual datapoints at random (in the simplest case) and treating those as the starting centroids. Using those centroids, 3 clusters are calculated.\n",
    "\n",
    "We then use the new clusters and calculate a new centroid for each of them. Then, using those centroids we re-cluster. We perform this process over and over again until our clusters stabilize and the centroids stop moving. Lets demonstrate."
   ]
  },
  {
   "cell_type": "code",
   "execution_count": 119,
   "metadata": {
    "colab": {
     "base_uri": "https://localhost:8080/",
     "height": 35
    },
    "colab_type": "code",
    "id": "xLZyrzOE_CnM",
    "outputId": "0fba003b-e6d9-43ba-e9ec-6e933a038842"
   },
   "outputs": [],
   "source": [
    "# Calculate the centroid of the entire dataset (only for demonstration purposes)\n",
    "dataset_centroid_x = points.x.mean()\n",
    "dataset_centroid_y = points.y.mean()"
   ]
  },
  {
   "cell_type": "code",
   "execution_count": 120,
   "metadata": {},
   "outputs": [
    {
     "data": {
      "text/plain": [
       "(-5.514197877311416, -2.725580207402749)"
      ]
     },
     "execution_count": 120,
     "metadata": {},
     "output_type": "execute_result"
    }
   ],
   "source": [
    "# what are the x and y coords of that centroid?\n",
    "dataset_centroid_x, dataset_centroid_y"
   ]
  },
  {
   "cell_type": "code",
   "execution_count": 121,
   "metadata": {
    "colab": {
     "base_uri": "https://localhost:8080/",
     "height": 347
    },
    "colab_type": "code",
    "id": "8OgBWw0c_cVq",
    "outputId": "c11b54ce-8214-4b88-9286-11885f1c1d4d"
   },
   "outputs": [
    {
     "data": {
      "image/png": "[encoded data removed]",
      "text/plain": [
       "<Figure size 432x288 with 1 Axes>"
      ]
     },
     "metadata": {
      "needs_background": "light"
     },
     "output_type": "display_data"
    }
   ],
   "source": [
    "# Display the plots and their centroid\n",
    "plt.scatter(points.x, points.y)\n",
    "plt.plot(dataset_centroid_x, dataset_centroid_y, \"or\");"
   ]
  },
  {
   "cell_type": "code",
   "execution_count": 122,
   "metadata": {
    "colab": {
     "base_uri": "https://localhost:8080/",
     "height": 138
    },
    "colab_type": "code",
    "id": "OvuDTEOM_4Ch",
    "outputId": "66132add-d210-49f3-b43d-190ce2ee8aea"
   },
   "outputs": [
    {
     "data": {
      "text/html": [
       "<div>\n",
       "<style scoped>\n",
       "    .dataframe tbody tr th:only-of-type {\n",
       "        vertical-align: middle;\n",
       "    }\n",
       "\n",
       "    .dataframe tbody tr th {\n",
       "        vertical-align: top;\n",
       "    }\n",
       "\n",
       "    .dataframe thead th {\n",
       "        text-align: right;\n",
       "    }\n",
       "</style>\n",
       "<table border=\"1\" class=\"dataframe\">\n",
       "  <thead>\n",
       "    <tr style=\"text-align: right;\">\n",
       "      <th></th>\n",
       "      <th>x</th>\n",
       "      <th>y</th>\n",
       "    </tr>\n",
       "  </thead>\n",
       "  <tbody>\n",
       "    <tr>\n",
       "      <th>0</th>\n",
       "      <td>-8.344873</td>\n",
       "      <td>-9.512835</td>\n",
       "    </tr>\n",
       "    <tr>\n",
       "      <th>1</th>\n",
       "      <td>-9.009386</td>\n",
       "      <td>-7.558755</td>\n",
       "    </tr>\n",
       "    <tr>\n",
       "      <th>2</th>\n",
       "      <td>-6.177774</td>\n",
       "      <td>2.829538</td>\n",
       "    </tr>\n",
       "  </tbody>\n",
       "</table>\n",
       "</div>"
      ],
      "text/plain": [
       "          x         y\n",
       "0 -8.344873 -9.512835\n",
       "1 -9.009386 -7.558755\n",
       "2 -6.177774  2.829538"
      ]
     },
     "execution_count": 122,
     "metadata": {},
     "output_type": "execute_result"
    }
   ],
   "source": [
    "# Sample random points to serve as the initial fake \"centroids\". These will get updated.\n",
    "centroids = points.sample(3)\n",
    "centroids=centroids.reset_index(drop=True)\n",
    "centroids"
   ]
  },
  {
   "cell_type": "code",
   "execution_count": 123,
   "metadata": {
    "colab": {
     "base_uri": "https://localhost:8080/",
     "height": 347
    },
    "colab_type": "code",
    "id": "eXz0-YRuAGIQ",
    "outputId": "413f15d6-fe6d-4fbc-d880-ef0121986d15"
   },
   "outputs": [
    {
     "data": {
      "image/png": "[encoded data removed]",
      "text/plain": [
       "<Figure size 432x288 with 1 Axes>"
      ]
     },
     "metadata": {
      "needs_background": "light"
     },
     "output_type": "display_data"
    }
   ],
   "source": [
    "# Plot initial \"fake\" centroids on the graph\n",
    "plt.scatter(points.x, points.y)\n",
    "plt.plot(centroids.iloc[0].x, centroids.iloc[0].y, \"or\")\n",
    "plt.plot(centroids.iloc[1].x, centroids.iloc[1].y, \"or\")\n",
    "plt.plot(centroids.iloc[2].x, centroids.iloc[2].y, \"or\");"
   ]
  },
  {
   "cell_type": "code",
   "execution_count": 124,
   "metadata": {},
   "outputs": [],
   "source": [
    "# Let's import the big guns.\n",
    "import math\n",
    "import numpy as np\n",
    "from scipy.spatial import distance"
   ]
  },
  {
   "cell_type": "code",
   "execution_count": 125,
   "metadata": {
    "colab": {},
    "colab_type": "code",
    "id": "-nbwx8_pA3DU"
   },
   "outputs": [],
   "source": [
    "# Calculate the Nearest Centroid to each data point\n",
    "def find_nearest_centroid(df, centroids, iteration):\n",
    "    \n",
    "    # calculate the distances between each point and each centroid\n",
    "    distances = distance.cdist(df, centroids, 'euclidean')\n",
    "\n",
    "    # Get nearest centroid to each point based on distance\n",
    "    nearest_centroids = np.argmin(distances, axis=1)\n",
    "\n",
    "    se = pd.Series(nearest_centroids)\n",
    "    df['cluster_'+iteration] = se.values\n",
    "\n",
    "    return df"
   ]
  },
  {
   "cell_type": "code",
   "execution_count": 126,
   "metadata": {},
   "outputs": [
    {
     "name": "stdout",
     "output_type": "stream",
     "text": [
      "(100, 2)\n"
     ]
    },
    {
     "data": {
      "text/html": [
       "<div>\n",
       "<style scoped>\n",
       "    .dataframe tbody tr th:only-of-type {\n",
       "        vertical-align: middle;\n",
       "    }\n",
       "\n",
       "    .dataframe tbody tr th {\n",
       "        vertical-align: top;\n",
       "    }\n",
       "\n",
       "    .dataframe thead th {\n",
       "        text-align: right;\n",
       "    }\n",
       "</style>\n",
       "<table border=\"1\" class=\"dataframe\">\n",
       "  <thead>\n",
       "    <tr style=\"text-align: right;\">\n",
       "      <th></th>\n",
       "      <th>x</th>\n",
       "      <th>y</th>\n",
       "    </tr>\n",
       "  </thead>\n",
       "  <tbody>\n",
       "    <tr>\n",
       "      <th>0</th>\n",
       "      <td>-9.565325</td>\n",
       "      <td>-7.853574</td>\n",
       "    </tr>\n",
       "    <tr>\n",
       "      <th>1</th>\n",
       "      <td>-1.352809</td>\n",
       "      <td>-3.106180</td>\n",
       "    </tr>\n",
       "    <tr>\n",
       "      <th>2</th>\n",
       "      <td>-6.439388</td>\n",
       "      <td>-7.483359</td>\n",
       "    </tr>\n",
       "    <tr>\n",
       "      <th>3</th>\n",
       "      <td>-3.075780</td>\n",
       "      <td>-2.736583</td>\n",
       "    </tr>\n",
       "    <tr>\n",
       "      <th>4</th>\n",
       "      <td>-3.431928</td>\n",
       "      <td>-4.219822</td>\n",
       "    </tr>\n",
       "  </tbody>\n",
       "</table>\n",
       "</div>"
      ],
      "text/plain": [
       "          x         y\n",
       "0 -9.565325 -7.853574\n",
       "1 -1.352809 -3.106180\n",
       "2 -6.439388 -7.483359\n",
       "3 -3.075780 -2.736583\n",
       "4 -3.431928 -4.219822"
      ]
     },
     "execution_count": 126,
     "metadata": {},
     "output_type": "execute_result"
    }
   ],
   "source": [
    "# check out our 'points' dataframe\n",
    "print(points.shape)\n",
    "points.head()"
   ]
  },
  {
   "cell_type": "markdown",
   "metadata": {},
   "source": [
    "**first pass**"
   ]
  },
  {
   "cell_type": "code",
   "execution_count": 127,
   "metadata": {
    "colab": {
     "base_uri": "https://localhost:8080/",
     "height": 198
    },
    "colab_type": "code",
    "id": "ACmU-SzWoJ6-",
    "outputId": "99bac7b6-d3d3-44e4-934b-0515fe24b7df"
   },
   "outputs": [
    {
     "name": "stdout",
     "output_type": "stream",
     "text": [
      "(100, 3)\n"
     ]
    },
    {
     "data": {
      "text/html": [
       "<div>\n",
       "<style scoped>\n",
       "    .dataframe tbody tr th:only-of-type {\n",
       "        vertical-align: middle;\n",
       "    }\n",
       "\n",
       "    .dataframe tbody tr th {\n",
       "        vertical-align: top;\n",
       "    }\n",
       "\n",
       "    .dataframe thead th {\n",
       "        text-align: right;\n",
       "    }\n",
       "</style>\n",
       "<table border=\"1\" class=\"dataframe\">\n",
       "  <thead>\n",
       "    <tr style=\"text-align: right;\">\n",
       "      <th></th>\n",
       "      <th>x</th>\n",
       "      <th>y</th>\n",
       "      <th>cluster_1</th>\n",
       "    </tr>\n",
       "  </thead>\n",
       "  <tbody>\n",
       "    <tr>\n",
       "      <th>0</th>\n",
       "      <td>-9.565325</td>\n",
       "      <td>-7.853574</td>\n",
       "      <td>1</td>\n",
       "    </tr>\n",
       "    <tr>\n",
       "      <th>1</th>\n",
       "      <td>-1.352809</td>\n",
       "      <td>-3.106180</td>\n",
       "      <td>2</td>\n",
       "    </tr>\n",
       "    <tr>\n",
       "      <th>2</th>\n",
       "      <td>-6.439388</td>\n",
       "      <td>-7.483359</td>\n",
       "      <td>1</td>\n",
       "    </tr>\n",
       "    <tr>\n",
       "      <th>3</th>\n",
       "      <td>-3.075780</td>\n",
       "      <td>-2.736583</td>\n",
       "      <td>2</td>\n",
       "    </tr>\n",
       "    <tr>\n",
       "      <th>4</th>\n",
       "      <td>-3.431928</td>\n",
       "      <td>-4.219822</td>\n",
       "      <td>1</td>\n",
       "    </tr>\n",
       "  </tbody>\n",
       "</table>\n",
       "</div>"
      ],
      "text/plain": [
       "          x         y  cluster_1\n",
       "0 -9.565325 -7.853574          1\n",
       "1 -1.352809 -3.106180          2\n",
       "2 -6.439388 -7.483359          1\n",
       "3 -3.075780 -2.736583          2\n",
       "4 -3.431928 -4.219822          1"
      ]
     },
     "execution_count": 127,
     "metadata": {},
     "output_type": "execute_result"
    }
   ],
   "source": [
    "# Take a first pass at calculating the nearest centroid to each point\n",
    "first_pass = find_nearest_centroid(points.select_dtypes(exclude='int64'), centroids, '1')\n",
    "print(first_pass.shape)\n",
    "first_pass.head()"
   ]
  },
  {
   "cell_type": "code",
   "execution_count": 128,
   "metadata": {},
   "outputs": [
    {
     "data": {
      "text/html": [
       "<div>\n",
       "<style scoped>\n",
       "    .dataframe tbody tr th:only-of-type {\n",
       "        vertical-align: middle;\n",
       "    }\n",
       "\n",
       "    .dataframe tbody tr th {\n",
       "        vertical-align: top;\n",
       "    }\n",
       "\n",
       "    .dataframe thead th {\n",
       "        text-align: right;\n",
       "    }\n",
       "</style>\n",
       "<table border=\"1\" class=\"dataframe\">\n",
       "  <thead>\n",
       "    <tr style=\"text-align: right;\">\n",
       "      <th></th>\n",
       "      <th>x</th>\n",
       "      <th>y</th>\n",
       "    </tr>\n",
       "  </thead>\n",
       "  <tbody>\n",
       "    <tr>\n",
       "      <th>0</th>\n",
       "      <td>-8.344873</td>\n",
       "      <td>-9.512835</td>\n",
       "    </tr>\n",
       "    <tr>\n",
       "      <th>1</th>\n",
       "      <td>-9.009386</td>\n",
       "      <td>-7.558755</td>\n",
       "    </tr>\n",
       "    <tr>\n",
       "      <th>2</th>\n",
       "      <td>-6.177774</td>\n",
       "      <td>2.829538</td>\n",
       "    </tr>\n",
       "  </tbody>\n",
       "</table>\n",
       "</div>"
      ],
      "text/plain": [
       "          x         y\n",
       "0 -8.344873 -9.512835\n",
       "1 -9.009386 -7.558755\n",
       "2 -6.177774  2.829538"
      ]
     },
     "execution_count": 128,
     "metadata": {},
     "output_type": "execute_result"
    }
   ],
   "source": [
    "# have the centroids moved at all?\n",
    "centroids.head()"
   ]
  },
  {
   "cell_type": "code",
   "execution_count": 129,
   "metadata": {},
   "outputs": [
    {
     "data": {
      "text/plain": [
       "-8.34487288861247"
      ]
     },
     "execution_count": 129,
     "metadata": {},
     "output_type": "execute_result"
    }
   ],
   "source": [
    "centroids.iloc[0]['x']"
   ]
  },
  {
   "cell_type": "code",
   "execution_count": 130,
   "metadata": {},
   "outputs": [
    {
     "data": {
      "text/plain": [
       "-8.34487288861247"
      ]
     },
     "execution_count": 130,
     "metadata": {},
     "output_type": "execute_result"
    }
   ],
   "source": [
    "centroids.loc[0, 'x']"
   ]
  },
  {
   "cell_type": "code",
   "execution_count": 131,
   "metadata": {
    "colab": {
     "base_uri": "https://localhost:8080/",
     "height": 361
    },
    "colab_type": "code",
    "id": "XVZQLvfAFh60",
    "outputId": "98f00359-1326-4ecc-aacb-ff169f60e509"
   },
   "outputs": [
    {
     "data": {
      "image/png": "[encoded data removed]",
      "text/plain": [
       "<Figure size 432x288 with 1 Axes>"
      ]
     },
     "metadata": {
      "needs_background": "light"
     },
     "output_type": "display_data"
    }
   ],
   "source": [
    "# Display results for the first pass\n",
    "def plot_clusters(df, column_header, centroids):\n",
    "    colors = {0:'red', 1:'blue', 2:'gold'}\n",
    "    fig, ax = plt.subplots()\n",
    "    ax.plot(centroids.loc[0, 'x'], centroids.loc[0, 'y'], \"ok\")\n",
    "    ax.plot(centroids.loc[1, 'x'], centroids.loc[1, 'y'], \"ok\")\n",
    "    ax.plot(centroids.loc[2, 'x'], centroids.loc[2, 'y'], \"ok\")\n",
    "    grouped = df.groupby(column_header)\n",
    "    for key, group in grouped:\n",
    "        group.plot(ax=ax, kind='scatter', x='x', y='y', label=key, color=colors[key])\n",
    "    plt.show()\n",
    "\n",
    "plot_clusters(first_pass, 'cluster_1', centroids)"
   ]
  },
  {
   "cell_type": "code",
   "execution_count": 132,
   "metadata": {
    "colab": {},
    "colab_type": "code",
    "id": "I_6cOfkeFwWO"
   },
   "outputs": [],
   "source": [
    "def get_centroids(df, column_header):\n",
    "    new_centroids = df.groupby(column_header).mean()\n",
    "    return new_centroids"
   ]
  },
  {
   "cell_type": "code",
   "execution_count": 133,
   "metadata": {},
   "outputs": [
    {
     "data": {
      "text/html": [
       "<div>\n",
       "<style scoped>\n",
       "    .dataframe tbody tr th:only-of-type {\n",
       "        vertical-align: middle;\n",
       "    }\n",
       "\n",
       "    .dataframe tbody tr th {\n",
       "        vertical-align: top;\n",
       "    }\n",
       "\n",
       "    .dataframe thead th {\n",
       "        text-align: right;\n",
       "    }\n",
       "</style>\n",
       "<table border=\"1\" class=\"dataframe\">\n",
       "  <thead>\n",
       "    <tr style=\"text-align: right;\">\n",
       "      <th></th>\n",
       "      <th>x</th>\n",
       "      <th>y</th>\n",
       "    </tr>\n",
       "    <tr>\n",
       "      <th>cluster_1</th>\n",
       "      <th></th>\n",
       "      <th></th>\n",
       "    </tr>\n",
       "  </thead>\n",
       "  <tbody>\n",
       "    <tr>\n",
       "      <th>0</th>\n",
       "      <td>-7.071049</td>\n",
       "      <td>-8.678078</td>\n",
       "    </tr>\n",
       "    <tr>\n",
       "      <th>1</th>\n",
       "      <td>-5.526253</td>\n",
       "      <td>-5.760040</td>\n",
       "    </tr>\n",
       "    <tr>\n",
       "      <th>2</th>\n",
       "      <td>-5.053189</td>\n",
       "      <td>1.826193</td>\n",
       "    </tr>\n",
       "  </tbody>\n",
       "</table>\n",
       "</div>"
      ],
      "text/plain": [
       "                  x         y\n",
       "cluster_1                    \n",
       "0         -7.071049 -8.678078\n",
       "1         -5.526253 -5.760040\n",
       "2         -5.053189  1.826193"
      ]
     },
     "execution_count": 133,
     "metadata": {},
     "output_type": "execute_result"
    }
   ],
   "source": [
    "# Apply the function. Have the centroids changed at all?\n",
    "centroids = get_centroids(first_pass, 'cluster_1')\n",
    "centroids"
   ]
  },
  {
   "cell_type": "markdown",
   "metadata": {},
   "source": [
    "**second pass**"
   ]
  },
  {
   "cell_type": "code",
   "execution_count": 134,
   "metadata": {
    "colab": {
     "base_uri": "https://localhost:8080/",
     "height": 361
    },
    "colab_type": "code",
    "id": "qyZLdP_nHKBa",
    "outputId": "64010772-4407-477f-d62e-ce74a4589f9c"
   },
   "outputs": [
    {
     "data": {
      "text/html": [
       "<div>\n",
       "<style scoped>\n",
       "    .dataframe tbody tr th:only-of-type {\n",
       "        vertical-align: middle;\n",
       "    }\n",
       "\n",
       "    .dataframe tbody tr th {\n",
       "        vertical-align: top;\n",
       "    }\n",
       "\n",
       "    .dataframe thead th {\n",
       "        text-align: right;\n",
       "    }\n",
       "</style>\n",
       "<table border=\"1\" class=\"dataframe\">\n",
       "  <thead>\n",
       "    <tr style=\"text-align: right;\">\n",
       "      <th></th>\n",
       "      <th>x</th>\n",
       "      <th>y</th>\n",
       "      <th>cluster_2</th>\n",
       "    </tr>\n",
       "  </thead>\n",
       "  <tbody>\n",
       "    <tr>\n",
       "      <th>0</th>\n",
       "      <td>-9.565325</td>\n",
       "      <td>-7.853574</td>\n",
       "      <td>0</td>\n",
       "    </tr>\n",
       "    <tr>\n",
       "      <th>1</th>\n",
       "      <td>-1.352809</td>\n",
       "      <td>-3.106180</td>\n",
       "      <td>1</td>\n",
       "    </tr>\n",
       "    <tr>\n",
       "      <th>2</th>\n",
       "      <td>-6.439388</td>\n",
       "      <td>-7.483359</td>\n",
       "      <td>0</td>\n",
       "    </tr>\n",
       "    <tr>\n",
       "      <th>3</th>\n",
       "      <td>-3.075780</td>\n",
       "      <td>-2.736583</td>\n",
       "      <td>1</td>\n",
       "    </tr>\n",
       "    <tr>\n",
       "      <th>4</th>\n",
       "      <td>-3.431928</td>\n",
       "      <td>-4.219822</td>\n",
       "      <td>1</td>\n",
       "    </tr>\n",
       "  </tbody>\n",
       "</table>\n",
       "</div>"
      ],
      "text/plain": [
       "          x         y  cluster_2\n",
       "0 -9.565325 -7.853574          0\n",
       "1 -1.352809 -3.106180          1\n",
       "2 -6.439388 -7.483359          0\n",
       "3 -3.075780 -2.736583          1\n",
       "4 -3.431928 -4.219822          1"
      ]
     },
     "execution_count": 134,
     "metadata": {},
     "output_type": "execute_result"
    }
   ],
   "source": [
    "# Get Clusters for New Centroids\n",
    "second_pass = find_nearest_centroid(first_pass.select_dtypes(exclude='int64'), centroids, '2')\n",
    "second_pass.head()"
   ]
  },
  {
   "cell_type": "code",
   "execution_count": 135,
   "metadata": {},
   "outputs": [
    {
     "data": {
      "image/png": "[encoded data removed]",
      "text/plain": [
       "<Figure size 432x288 with 1 Axes>"
      ]
     },
     "metadata": {
      "needs_background": "light"
     },
     "output_type": "display_data"
    }
   ],
   "source": [
    "# Plot New Cluster\n",
    "plot_clusters(second_pass, 'cluster_2', centroids)"
   ]
  },
  {
   "cell_type": "code",
   "execution_count": 137,
   "metadata": {},
   "outputs": [
    {
     "data": {
      "text/html": [
       "<div>\n",
       "<style scoped>\n",
       "    .dataframe tbody tr th:only-of-type {\n",
       "        vertical-align: middle;\n",
       "    }\n",
       "\n",
       "    .dataframe tbody tr th {\n",
       "        vertical-align: top;\n",
       "    }\n",
       "\n",
       "    .dataframe thead th {\n",
       "        text-align: right;\n",
       "    }\n",
       "</style>\n",
       "<table border=\"1\" class=\"dataframe\">\n",
       "  <thead>\n",
       "    <tr style=\"text-align: right;\">\n",
       "      <th></th>\n",
       "      <th>x</th>\n",
       "      <th>y</th>\n",
       "    </tr>\n",
       "    <tr>\n",
       "      <th>cluster_2</th>\n",
       "      <th></th>\n",
       "      <th></th>\n",
       "    </tr>\n",
       "  </thead>\n",
       "  <tbody>\n",
       "    <tr>\n",
       "      <th>0</th>\n",
       "      <td>-7.847115</td>\n",
       "      <td>-8.083757</td>\n",
       "    </tr>\n",
       "    <tr>\n",
       "      <th>1</th>\n",
       "      <td>-3.918722</td>\n",
       "      <td>-4.598235</td>\n",
       "    </tr>\n",
       "    <tr>\n",
       "      <th>2</th>\n",
       "      <td>-5.671230</td>\n",
       "      <td>3.241865</td>\n",
       "    </tr>\n",
       "  </tbody>\n",
       "</table>\n",
       "</div>"
      ],
      "text/plain": [
       "                  x         y\n",
       "cluster_2                    \n",
       "0         -7.847115 -8.083757\n",
       "1         -3.918722 -4.598235\n",
       "2         -5.671230  3.241865"
      ]
     },
     "execution_count": 137,
     "metadata": {},
     "output_type": "execute_result"
    }
   ],
   "source": [
    "# Apply the function. Have the centroids changed at all?\n",
    "centroids = get_centroids(second_pass, 'cluster_2')\n",
    "centroids"
   ]
  },
  {
   "cell_type": "markdown",
   "metadata": {},
   "source": [
    "**third pass**"
   ]
  },
  {
   "cell_type": "code",
   "execution_count": 138,
   "metadata": {
    "colab": {
     "base_uri": "https://localhost:8080/",
     "height": 361
    },
    "colab_type": "code",
    "id": "kBueXP01G8tE",
    "outputId": "b46b33bf-ab73-4724-961e-31b73d2f884f"
   },
   "outputs": [
    {
     "data": {
      "image/png": "[encoded data removed]",
      "text/plain": [
       "<Figure size 432x288 with 1 Axes>"
      ]
     },
     "metadata": {
      "needs_background": "light"
     },
     "output_type": "display_data"
    }
   ],
   "source": [
    "# Calculate New Centroids\n",
    "centroids = get_centroids(second_pass, 'cluster_2')\n",
    "\n",
    "# Get Clusters for New Centroids\n",
    "third_pass = find_nearest_centroid(second_pass.select_dtypes(exclude='int64'), centroids, '3')\n",
    "\n",
    "# Plot New Cluster\n",
    "plot_clusters(third_pass, 'cluster_3', centroids)"
   ]
  },
  {
   "cell_type": "markdown",
   "metadata": {},
   "source": [
    "**fourth pass**"
   ]
  },
  {
   "cell_type": "code",
   "execution_count": 139,
   "metadata": {
    "colab": {
     "base_uri": "https://localhost:8080/",
     "height": 361
    },
    "colab_type": "code",
    "id": "8u6KiGdvpD-e",
    "outputId": "d979b873-5764-4227-9543-15116fc903ff"
   },
   "outputs": [
    {
     "data": {
      "image/png": "[encoded data removed]",
      "text/plain": [
       "<Figure size 432x288 with 1 Axes>"
      ]
     },
     "metadata": {
      "needs_background": "light"
     },
     "output_type": "display_data"
    }
   ],
   "source": [
    "# Calculate New Centroids\n",
    "centroids = get_centroids(third_pass, 'cluster_3')\n",
    "\n",
    "# Get Clusters for New Centroids\n",
    "fourth_pass = find_nearest_centroid(third_pass.select_dtypes(exclude='int64'), centroids, '4')\n",
    "\n",
    "# Plot New Cluster\n",
    "plot_clusters(fourth_pass, 'cluster_4', centroids)"
   ]
  },
  {
   "cell_type": "markdown",
   "metadata": {},
   "source": [
    "**fifth pass**"
   ]
  },
  {
   "cell_type": "code",
   "execution_count": 140,
   "metadata": {
    "colab": {
     "base_uri": "https://localhost:8080/",
     "height": 361
    },
    "colab_type": "code",
    "id": "jaTbGpAcpPSf",
    "outputId": "d9b2abc6-1529-49d4-f663-b9edff881545"
   },
   "outputs": [
    {
     "data": {
      "image/png": "[encoded data removed]",
      "text/plain": [
       "<Figure size 432x288 with 1 Axes>"
      ]
     },
     "metadata": {
      "needs_background": "light"
     },
     "output_type": "display_data"
    }
   ],
   "source": [
    "# Calculate New Centroids\n",
    "centroids = get_centroids(fourth_pass, 'cluster_4')\n",
    "\n",
    "# Get Clusters for New Centroids\n",
    "fifth_pass = find_nearest_centroid(fourth_pass.select_dtypes(exclude='int64'), centroids, '5')\n",
    "\n",
    "# Plot New Cluster\n",
    "plot_clusters(fifth_pass, 'cluster_5', centroids)"
   ]
  },
  {
   "cell_type": "markdown",
   "metadata": {},
   "source": [
    "**sixth pass**"
   ]
  },
  {
   "cell_type": "code",
   "execution_count": 141,
   "metadata": {
    "colab": {
     "base_uri": "https://localhost:8080/",
     "height": 361
    },
    "colab_type": "code",
    "id": "gXpje6GWpbYS",
    "outputId": "273c2c1c-4d9b-40ad-952f-1c7108690b86"
   },
   "outputs": [
    {
     "data": {
      "image/png": "[encoded data removed]",
      "text/plain": [
       "<Figure size 432x288 with 1 Axes>"
      ]
     },
     "metadata": {
      "needs_background": "light"
     },
     "output_type": "display_data"
    }
   ],
   "source": [
    "# Calculate New Centroids\n",
    "centroids = get_centroids(fifth_pass, 'cluster_5')\n",
    "\n",
    "# Get Clusters for New Centroids\n",
    "sixth_pass = find_nearest_centroid(fifth_pass.select_dtypes(exclude='int64'), centroids, '6')\n",
    "\n",
    "# Plot New Cluster\n",
    "plot_clusters(sixth_pass, 'cluster_6', centroids)"
   ]
  },
  {
   "cell_type": "markdown",
   "metadata": {},
   "source": [
    "**convergence**"
   ]
  },
  {
   "cell_type": "code",
   "execution_count": 142,
   "metadata": {
    "colab": {
     "base_uri": "https://localhost:8080/",
     "height": 35
    },
    "colab_type": "code",
    "id": "nKo9xSypJvPd",
    "outputId": "091eb498-b628-42b3-8479-72aad5f32913"
   },
   "outputs": [
    {
     "name": "stdout",
     "output_type": "stream",
     "text": [
      "Are we at convergence?? -  True\n"
     ]
    }
   ],
   "source": [
    "# When additional passes fail to create any change, we have hit \"convergence\".\n",
    "convergence = np.array_equal(fifth_pass['cluster_5'], sixth_pass['cluster_6'])\n",
    "print(\"Are we at convergence?? - \", convergence)"
   ]
  },
  {
   "cell_type": "markdown",
   "metadata": {
    "colab_type": "text",
    "id": "1-nJ_i-NQZIM"
   },
   "source": [
    "How many centroids == number of means (that's the K in k-means clustering). Since the centroid is the mean of a cluster, the number of centroids to choose is the most important decision to make in \"k-means\" clustering. The K value is the number of centroids.\n",
    "\n",
    "Congratulations, you've just been introduced to the first method of _**picking k**_ - Just graph your points and pick a number that makes sense. This gets a lot harder once you get a dimensionality higher than 3, but... Didn't we learn about some way to take high dimensional data and turn it into 2 or 3 dimensions...?"
   ]
  },
  {
   "cell_type": "markdown",
   "metadata": {
    "colab_type": "text",
    "id": "TGueCso5SFXN"
   },
   "source": [
    "### 2.3 K-Means Clustering with Scikit-Learn"
   ]
  },
  {
   "cell_type": "code",
   "execution_count": 143,
   "metadata": {},
   "outputs": [],
   "source": [
    "# This is all a lot easier when we use a library instead of doing it by hand.\n",
    "from sklearn.cluster import KMeans "
   ]
  },
  {
   "cell_type": "code",
   "execution_count": 144,
   "metadata": {
    "colab": {
     "base_uri": "https://localhost:8080/",
     "height": 69
    },
    "colab_type": "code",
    "id": "VmyHklDKSI_m",
    "outputId": "a5c19629-3ab9-434b-9660-dff3ff32df4c"
   },
   "outputs": [],
   "source": [
    "# Instantiate the sklearn class, and pick a number of clusters.\n",
    "kmeans = KMeans(n_clusters=3)"
   ]
  },
  {
   "cell_type": "code",
   "execution_count": 145,
   "metadata": {},
   "outputs": [
    {
     "data": {
      "text/plain": [
       "KMeans(algorithm='auto', copy_x=True, init='k-means++', max_iter=300,\n",
       "       n_clusters=3, n_init=10, n_jobs=None, precompute_distances='auto',\n",
       "       random_state=None, tol=0.0001, verbose=0)"
      ]
     },
     "execution_count": 145,
     "metadata": {},
     "output_type": "execute_result"
    }
   ],
   "source": [
    "# fit the instantiate model to our data.\n",
    "kmeans.fit(points)"
   ]
  },
  {
   "cell_type": "code",
   "execution_count": 146,
   "metadata": {},
   "outputs": [
    {
     "name": "stdout",
     "output_type": "stream",
     "text": [
      "[0 2 0 2 2 2 1 0 1 2 2 2 1 2 2 0 0 1 2 2 0 1 2 0 2 2 1 0 2 1 0 0 1 2 1 0 1\n",
      " 0 0 1 2 2 0 2 2 1 2 1 1 1 0 0 0 2 2 0 2 2 0 1 0 2 2 1 0 1 0 2 1 2 1 0 1 1\n",
      " 0 0 1 1 0 1 0 1 1 1 1 0 0 2 2 0 2 1 0 1 1 2 0 1 1 0]\n"
     ]
    }
   ],
   "source": [
    "# the labels are the same as the 3 centers.\n",
    "labels = kmeans.labels_\n",
    "print(labels)"
   ]
  },
  {
   "cell_type": "code",
   "execution_count": 147,
   "metadata": {
    "colab": {
     "base_uri": "https://localhost:8080/",
     "height": 198
    },
    "colab_type": "code",
    "id": "5Gj9sXFDWtLo",
    "outputId": "43e5c7d0-ec39-4a07-eda9-349aa7dcdbec"
   },
   "outputs": [
    {
     "data": {
      "text/html": [
       "<div>\n",
       "<style scoped>\n",
       "    .dataframe tbody tr th:only-of-type {\n",
       "        vertical-align: middle;\n",
       "    }\n",
       "\n",
       "    .dataframe tbody tr th {\n",
       "        vertical-align: top;\n",
       "    }\n",
       "\n",
       "    .dataframe thead th {\n",
       "        text-align: right;\n",
       "    }\n",
       "</style>\n",
       "<table border=\"1\" class=\"dataframe\">\n",
       "  <thead>\n",
       "    <tr style=\"text-align: right;\">\n",
       "      <th></th>\n",
       "      <th>x</th>\n",
       "      <th>y</th>\n",
       "      <th>label</th>\n",
       "      <th>clusters</th>\n",
       "    </tr>\n",
       "  </thead>\n",
       "  <tbody>\n",
       "    <tr>\n",
       "      <th>0</th>\n",
       "      <td>-9.565325</td>\n",
       "      <td>-7.853574</td>\n",
       "      <td>2</td>\n",
       "      <td>0</td>\n",
       "    </tr>\n",
       "    <tr>\n",
       "      <th>1</th>\n",
       "      <td>-1.352809</td>\n",
       "      <td>-3.106180</td>\n",
       "      <td>1</td>\n",
       "      <td>2</td>\n",
       "    </tr>\n",
       "    <tr>\n",
       "      <th>2</th>\n",
       "      <td>-6.439388</td>\n",
       "      <td>-7.483359</td>\n",
       "      <td>2</td>\n",
       "      <td>0</td>\n",
       "    </tr>\n",
       "    <tr>\n",
       "      <th>3</th>\n",
       "      <td>-3.075780</td>\n",
       "      <td>-2.736583</td>\n",
       "      <td>1</td>\n",
       "      <td>2</td>\n",
       "    </tr>\n",
       "    <tr>\n",
       "      <th>4</th>\n",
       "      <td>-3.431928</td>\n",
       "      <td>-4.219822</td>\n",
       "      <td>1</td>\n",
       "      <td>2</td>\n",
       "    </tr>\n",
       "  </tbody>\n",
       "</table>\n",
       "</div>"
      ],
      "text/plain": [
       "          x         y  label  clusters\n",
       "0 -9.565325 -7.853574      2         0\n",
       "1 -1.352809 -3.106180      1         2\n",
       "2 -6.439388 -7.483359      2         0\n",
       "3 -3.075780 -2.736583      1         2\n",
       "4 -3.431928 -4.219822      1         2"
      ]
     },
     "execution_count": 147,
     "metadata": {},
     "output_type": "execute_result"
    }
   ],
   "source": [
    "# Add our new labels to the dataframe\n",
    "new_series = pd.Series(labels)\n",
    "df['clusters'] = new_series.values\n",
    "df.head()"
   ]
  },
  {
   "cell_type": "code",
   "execution_count": 148,
   "metadata": {
    "colab": {
     "base_uri": "https://localhost:8080/",
     "height": 361
    },
    "colab_type": "code",
    "id": "on8qYidhXaA3",
    "outputId": "2d05686d-1d14-4f27-b301-58057555a8a5"
   },
   "outputs": [
    {
     "data": {
      "image/png": "[encoded data removed]",
      "text/plain": [
       "<Figure size 432x288 with 1 Axes>"
      ]
     },
     "metadata": {
      "needs_background": "light"
     },
     "output_type": "display_data"
    }
   ],
   "source": [
    "# Use our previous function to display the clusters as defined by scikit-learn.\n",
    "centroids = get_centroids(df, 'clusters')\n",
    "plot_clusters(df, 'clusters', centroids)"
   ]
  },
  {
   "cell_type": "markdown",
   "metadata": {
    "colab_type": "text",
    "id": "WF5d6AP_VT4c"
   },
   "source": [
    "### 2.6 Important Considerations:\n",
    "\n",
    "- Choosing the appropriate clustering method \n",
    "\n",
    "We've only taught you one so stick with that for today. \n",
    "\n",
    "- Choosing appropriate dimensions to cluster along. \n",
    "\n",
    "Hmmm, what would be the best dimension to cluster along? Maybe one that helps separate the clusters the best. You can do a lot of scatterplots to examine this or you could, I dunno, use a technique that maximizes the variance along certain dimensions transforming the data into principal components and then cluster along the dimensions of the principal components. \n",
    "\n",
    "- Choosing a distance measure\n",
    "\n",
    "Euclidean is the most traditional, you'll learn the others if the occasion presents itself (it most likely won't) - If I'm being completely honest.\n",
    "\n",
    "- Choosing an appropriate k (# of clusters)\n",
    "\n",
    "THIS IS THE MOST IMPORTANT CONSIDERATION WHEN IT COMES TO K-MEANS (I mean it's in the name)\n",
    "\n",
    "![Elbow Method](https://media.geeksforgeeks.org/wp-content/uploads/20190606105550/distortion1.png)\n",
    "\n",
    "On the x-axis we have number of centroids (k)\n",
    "\n",
    "On the y-axis we have \"distortion\" which is measured as the sum of squared distances of each point to its given cluster\n",
    "\n",
    "Here's some code below that could be used to create a similar \"Elbow\" Graph."
   ]
  },
  {
   "cell_type": "code",
   "execution_count": 149,
   "metadata": {
    "colab": {},
    "colab_type": "code",
    "id": "RXflkYwTL8WT"
   },
   "outputs": [],
   "source": [
    "sum_of_squared_distances = []\n",
    "K = range(1,15)\n",
    "for k in K:\n",
    "    km = KMeans(n_clusters=k)\n",
    "    km = km.fit(points)\n",
    "    sum_of_squared_distances.append(km.inertia_)"
   ]
  },
  {
   "cell_type": "code",
   "execution_count": 150,
   "metadata": {
    "colab": {},
    "colab_type": "code",
    "id": "CxrwEX4VL-u5"
   },
   "outputs": [
    {
     "data": {
      "image/png": "[encoded data removed]",
      "text/plain": [
       "<Figure size 432x288 with 1 Axes>"
      ]
     },
     "metadata": {
      "needs_background": "light"
     },
     "output_type": "display_data"
    }
   ],
   "source": [
    "plt.plot(K, sum_of_squared_distances, 'bx-')\n",
    "plt.xlabel('k')\n",
    "plt.ylabel('Sum_of_squared_distances')\n",
    "plt.title('Elbow Method For Optimal k')\n",
    "plt.show()"
   ]
  },
  {
   "cell_type": "markdown",
   "metadata": {},
   "source": [
    "Silhouette Coefficient -- measure of how far apart clusters are\n",
    "\n",
    "high Silhouette Score = clusters are well separated\n",
    "ranges from -1 to 1\n",
    "The definition is a little involved, but intuitively the score is based on how much closer data points are to their own clusters than to the nearest neighbor cluster.\n",
    "\n",
    "We can calculate it in sklearn with metrics.silhouette_score(X_scaled, labels, metric='euclidean').\n",
    "\n",
    "https://en.wikipedia.org/wiki/Silhouette_(clustering)"
   ]
  },
  {
   "cell_type": "code",
   "execution_count": 151,
   "metadata": {},
   "outputs": [],
   "source": [
    "# the metrics module will be your best friend\n",
    "from sklearn import metrics "
   ]
  },
  {
   "cell_type": "code",
   "execution_count": 152,
   "metadata": {},
   "outputs": [
    {
     "data": {
      "text/plain": [
       "0.7285411786211913"
      ]
     },
     "execution_count": 152,
     "metadata": {},
     "output_type": "execute_result"
    }
   ],
   "source": [
    "# what's our silhouette score?\n",
    "metrics.silhouette_score(df, labels, metric='euclidean')"
   ]
  },
  {
   "cell_type": "markdown",
   "metadata": {
    "colab_type": "text",
    "id": "DhMkzbIFX96q"
   },
   "source": [
    "### 2.4 Further Considerations\n",
    "\n",
    "- Choosing an appropriate K\n",
    "\n",
    "- Unlucky Initial Centroids\n",
    "\n",
    "Unlucky Initial Centroids can \n",
    "\n",
    "    - result in a poor clustering\n",
    "    - lead to a clustering that doesn't converge\n",
    "\n",
    "- Computational Complexity\n",
    "\n",
    "- What is K-means good for?\n",
    "\n",
    "- ### Mostly Round, linearly-separable blobs."
   ]
  },
  {
   "cell_type": "markdown",
   "metadata": {},
   "source": [
    "## Part 3. Apply K-means clustering to dataset"
   ]
  },
  {
   "cell_type": "markdown",
   "metadata": {},
   "source": [
    "Isotopic Composition of Plutonium Batches  \n",
    "The pluton data frame has 45 rows and 4 columns, containing percentages of isotopic composition of 45 Plutonium batches.  \n",
    "https://vincentarelbundock.github.io/Rdatasets/doc/cluster/pluton.html  \n",
    "- Pu238: the percentages of (238)Pu, always less than 2 percent.\n",
    "- Pu239: the percentages of (239)Pu, typically between 60 and 80 percent.\n",
    "- Pu240: percentage of the plutonium 240 isotope.\n",
    "- Pu241: percentage of the plutonium 241 isotope."
   ]
  },
  {
   "cell_type": "code",
   "execution_count": 232,
   "metadata": {},
   "outputs": [
    {
     "data": {
      "text/html": [
       "<div>\n",
       "<style scoped>\n",
       "    .dataframe tbody tr th:only-of-type {\n",
       "        vertical-align: middle;\n",
       "    }\n",
       "\n",
       "    .dataframe tbody tr th {\n",
       "        vertical-align: top;\n",
       "    }\n",
       "\n",
       "    .dataframe thead th {\n",
       "        text-align: right;\n",
       "    }\n",
       "</style>\n",
       "<table border=\"1\" class=\"dataframe\">\n",
       "  <thead>\n",
       "    <tr style=\"text-align: right;\">\n",
       "      <th></th>\n",
       "      <th>Pu238</th>\n",
       "      <th>Pu239</th>\n",
       "      <th>Pu240</th>\n",
       "      <th>Pu241</th>\n",
       "    </tr>\n",
       "  </thead>\n",
       "  <tbody>\n",
       "    <tr>\n",
       "      <th>1</th>\n",
       "      <td>0.126</td>\n",
       "      <td>75.804</td>\n",
       "      <td>21.204</td>\n",
       "      <td>2.180</td>\n",
       "    </tr>\n",
       "    <tr>\n",
       "      <th>2</th>\n",
       "      <td>0.133</td>\n",
       "      <td>75.515</td>\n",
       "      <td>21.408</td>\n",
       "      <td>2.240</td>\n",
       "    </tr>\n",
       "    <tr>\n",
       "      <th>3</th>\n",
       "      <td>0.127</td>\n",
       "      <td>75.175</td>\n",
       "      <td>21.668</td>\n",
       "      <td>2.305</td>\n",
       "    </tr>\n",
       "    <tr>\n",
       "      <th>4</th>\n",
       "      <td>0.156</td>\n",
       "      <td>78.872</td>\n",
       "      <td>18.428</td>\n",
       "      <td>1.906</td>\n",
       "    </tr>\n",
       "    <tr>\n",
       "      <th>5</th>\n",
       "      <td>0.503</td>\n",
       "      <td>73.317</td>\n",
       "      <td>20.223</td>\n",
       "      <td>4.128</td>\n",
       "    </tr>\n",
       "  </tbody>\n",
       "</table>\n",
       "</div>"
      ],
      "text/plain": [
       "   Pu238   Pu239   Pu240  Pu241\n",
       "1  0.126  75.804  21.204  2.180\n",
       "2  0.133  75.515  21.408  2.240\n",
       "3  0.127  75.175  21.668  2.305\n",
       "4  0.156  78.872  18.428  1.906\n",
       "5  0.503  73.317  20.223  4.128"
      ]
     },
     "execution_count": 232,
     "metadata": {},
     "output_type": "execute_result"
    }
   ],
   "source": [
    "csv_file = \"https://vincentarelbundock.github.io/Rdatasets/csv/cluster/pluton.csv\"\n",
    "df = pd.read_csv(csv_file, index_col=0)\n",
    "df.head(5)"
   ]
  },
  {
   "cell_type": "code",
   "execution_count": 154,
   "metadata": {},
   "outputs": [],
   "source": [
    "# Use Pu239 and Pu240 as our features.\n",
    "features = ['Pu239', 'Pu240']"
   ]
  },
  {
   "cell_type": "code",
   "execution_count": 155,
   "metadata": {},
   "outputs": [
    {
     "data": {
      "image/png": "[encoded data removed]",
      "text/plain": [
       "<Figure size 432x288 with 1 Axes>"
      ]
     },
     "metadata": {
      "needs_background": "light"
     },
     "output_type": "display_data"
    }
   ],
   "source": [
    "# plot them to see how they look.\n",
    "df[features].plot(kind=\"scatter\", x=features[0], y=features[1]);"
   ]
  },
  {
   "cell_type": "markdown",
   "metadata": {},
   "source": [
    "### 3.1 Non-standardized"
   ]
  },
  {
   "cell_type": "code",
   "execution_count": 156,
   "metadata": {},
   "outputs": [],
   "source": [
    "# Initialize an instance of the KMeans class from sklearn.\n",
    "k = 3\n",
    "model = KMeans(n_clusters=k, max_iter=1)"
   ]
  },
  {
   "cell_type": "code",
   "execution_count": 157,
   "metadata": {},
   "outputs": [
    {
     "data": {
      "text/plain": [
       "KMeans(algorithm='auto', copy_x=True, init='k-means++', max_iter=1,\n",
       "       n_clusters=3, n_init=10, n_jobs=None, precompute_distances='auto',\n",
       "       random_state=None, tol=0.0001, verbose=0)"
      ]
     },
     "execution_count": 157,
     "metadata": {},
     "output_type": "execute_result"
    }
   ],
   "source": [
    "# Fit the instantiated model to our sliced dataframe\n",
    "model.fit(df[features].values)"
   ]
  },
  {
   "cell_type": "code",
   "execution_count": 158,
   "metadata": {},
   "outputs": [],
   "source": [
    "# Assign clusters back to our dataframe\n",
    "df['cluster'] = model.labels_"
   ]
  },
  {
   "cell_type": "code",
   "execution_count": 159,
   "metadata": {},
   "outputs": [],
   "source": [
    "# Get our centroids\n",
    "centroids    =  model.cluster_centers_"
   ]
  },
  {
   "cell_type": "code",
   "execution_count": null,
   "metadata": {},
   "outputs": [],
   "source": [
    "# turn them into a dataframe\n",
    "cc  =  pd.DataFrame(centroids)\n",
    "cc.head()"
   ]
  },
  {
   "cell_type": "code",
   "execution_count": 160,
   "metadata": {},
   "outputs": [],
   "source": [
    "# Setup some colors for plotting\n",
    "base_colors  =  ['r', 'g', 'b']\n",
    "colors       =  [base_colors[centroid] for centroid in model.labels_]"
   ]
  },
  {
   "cell_type": "code",
   "execution_count": 161,
   "metadata": {},
   "outputs": [
    {
     "data": {
      "image/png": "[encoded data removed]",
      "text/plain": [
       "<Figure size 504x432 with 1 Axes>"
      ]
     },
     "metadata": {
      "needs_background": "light"
     },
     "output_type": "display_data"
    }
   ],
   "source": [
    "# Plot the scatter of our points with calculated centroids\n",
    "fig, ax =  plt.subplots(figsize=(7,6))\n",
    "ax.scatter(df[features[0]], df[features[1]], c=colors)\n",
    "ax.scatter(cc[0], cc[1], c=base_colors, s=100);"
   ]
  },
  {
   "cell_type": "code",
   "execution_count": 164,
   "metadata": {},
   "outputs": [
    {
     "data": {
      "text/plain": [
       "0.618883448719182"
      ]
     },
     "execution_count": 164,
     "metadata": {},
     "output_type": "execute_result"
    }
   ],
   "source": [
    "# what's our silhouette score?\n",
    "metrics.silhouette_score(df, model.labels_, metric='euclidean')"
   ]
  },
  {
   "cell_type": "code",
   "execution_count": 163,
   "metadata": {},
   "outputs": [
    {
     "data": {
      "text/plain": [
       "array([0, 0, 0, 0, 2, 0, 0, 0, 1, 1, 1, 1, 1, 1, 1, 1, 0, 0, 0, 0, 1, 2,\n",
       "       0, 0, 2, 2, 2, 0, 2, 2, 2, 2, 2, 0, 0, 0, 1, 1, 1, 1, 1, 2, 2, 0,\n",
       "       1], dtype=int32)"
      ]
     },
     "execution_count": 163,
     "metadata": {},
     "output_type": "execute_result"
    }
   ],
   "source": [
    "# What is the predicted centroid for each data point?  \n",
    "model.labels_"
   ]
  },
  {
   "cell_type": "markdown",
   "metadata": {},
   "source": [
    "### 3.2 K-means with PCA"
   ]
  },
  {
   "cell_type": "code",
   "execution_count": 240,
   "metadata": {},
   "outputs": [],
   "source": [
    "# read back in the data, so it's fresh\n",
    "df = pd.read_csv(csv_file, index_col=0)"
   ]
  },
  {
   "cell_type": "code",
   "execution_count": 241,
   "metadata": {},
   "outputs": [
    {
     "data": {
      "text/plain": [
       "['Pu238', 'Pu239', 'Pu240', 'Pu241']"
      ]
     },
     "execution_count": 241,
     "metadata": {},
     "output_type": "execute_result"
    }
   ],
   "source": [
    "# this time keep all 4 variables\n",
    "features=list(df.columns)\n",
    "features"
   ]
  },
  {
   "cell_type": "markdown",
   "metadata": {},
   "source": [
    "**scale the dataset**"
   ]
  },
  {
   "cell_type": "code",
   "execution_count": 200,
   "metadata": {
    "colab": {
     "base_uri": "https://localhost:8080/",
     "height": 242
    },
    "colab_type": "code",
    "id": "u_BgMhe9A9ZC",
    "outputId": "1f6a1599-5fe4-49e8-9e53-328beddc65b9"
   },
   "outputs": [],
   "source": [
    "# instantiate the SKLearn class for standardization\n",
    "from sklearn.preprocessing import StandardScaler\n",
    "scaler = StandardScaler()"
   ]
  },
  {
   "cell_type": "code",
   "execution_count": 208,
   "metadata": {},
   "outputs": [],
   "source": [
    "# Standardize the dataset (default is normalization)\n",
    "scaled_data = scaler.fit_transform(df)"
   ]
  },
  {
   "cell_type": "code",
   "execution_count": 209,
   "metadata": {},
   "outputs": [
    {
     "data": {
      "text/plain": [
       "array([[ 0.83210552, -0.13817571],\n",
       "       [ 0.79113334, -0.05262549],\n",
       "       [ 0.74293077,  0.05640909],\n",
       "       [ 1.26706282, -1.30232955],\n",
       "       [ 0.4795179 , -0.54957157]])"
      ]
     },
     "execution_count": 209,
     "metadata": {},
     "output_type": "execute_result"
    }
   ],
   "source": [
    "# Now it's a numpy array, not a dataframe\n",
    "scaled_data[:5]"
   ]
  },
  {
   "cell_type": "code",
   "execution_count": 212,
   "metadata": {},
   "outputs": [
    {
     "data": {
      "text/html": [
       "<div>\n",
       "<style scoped>\n",
       "    .dataframe tbody tr th:only-of-type {\n",
       "        vertical-align: middle;\n",
       "    }\n",
       "\n",
       "    .dataframe tbody tr th {\n",
       "        vertical-align: top;\n",
       "    }\n",
       "\n",
       "    .dataframe thead th {\n",
       "        text-align: right;\n",
       "    }\n",
       "</style>\n",
       "<table border=\"1\" class=\"dataframe\">\n",
       "  <thead>\n",
       "    <tr style=\"text-align: right;\">\n",
       "      <th></th>\n",
       "      <th>Pu239</th>\n",
       "      <th>Pu240</th>\n",
       "    </tr>\n",
       "  </thead>\n",
       "  <tbody>\n",
       "    <tr>\n",
       "      <th>0</th>\n",
       "      <td>0.832106</td>\n",
       "      <td>-0.138176</td>\n",
       "    </tr>\n",
       "    <tr>\n",
       "      <th>1</th>\n",
       "      <td>0.791133</td>\n",
       "      <td>-0.052625</td>\n",
       "    </tr>\n",
       "    <tr>\n",
       "      <th>2</th>\n",
       "      <td>0.742931</td>\n",
       "      <td>0.056409</td>\n",
       "    </tr>\n",
       "    <tr>\n",
       "      <th>3</th>\n",
       "      <td>1.267063</td>\n",
       "      <td>-1.302330</td>\n",
       "    </tr>\n",
       "    <tr>\n",
       "      <th>4</th>\n",
       "      <td>0.479518</td>\n",
       "      <td>-0.549572</td>\n",
       "    </tr>\n",
       "  </tbody>\n",
       "</table>\n",
       "</div>"
      ],
      "text/plain": [
       "      Pu239     Pu240\n",
       "0  0.832106 -0.138176\n",
       "1  0.791133 -0.052625\n",
       "2  0.742931  0.056409\n",
       "3  1.267063 -1.302330\n",
       "4  0.479518 -0.549572"
      ]
     },
     "execution_count": 212,
     "metadata": {},
     "output_type": "execute_result"
    }
   ],
   "source": [
    "# Turn it back into a dataframe.\n",
    "df_scaled = pd.DataFrame(scaled_data,columns=features)\n",
    "df_scaled.head()"
   ]
  },
  {
   "cell_type": "code",
   "execution_count": 213,
   "metadata": {},
   "outputs": [
    {
     "data": {
      "text/plain": [
       "Pu239    3.898116e-16\n",
       "Pu240    1.231114e-15\n",
       "dtype: float64"
      ]
     },
     "execution_count": 213,
     "metadata": {},
     "output_type": "execute_result"
    }
   ],
   "source": [
    "# So did that work? the mean should be zero\n",
    "df_scaled.mean()"
   ]
  },
  {
   "cell_type": "code",
   "execution_count": 214,
   "metadata": {},
   "outputs": [
    {
     "data": {
      "text/plain": [
       "Pu239    1.0113\n",
       "Pu240    1.0113\n",
       "dtype: float64"
      ]
     },
     "execution_count": 214,
     "metadata": {},
     "output_type": "execute_result"
    }
   ],
   "source": [
    "# and the std should be one.\n",
    "df_scaled[features].std()"
   ]
  },
  {
   "cell_type": "markdown",
   "metadata": {},
   "source": [
    "**Now that we've scaled we can apply PCA**"
   ]
  },
  {
   "cell_type": "code",
   "execution_count": 243,
   "metadata": {
    "colab": {},
    "colab_type": "code",
    "id": "m0Y5qJAs-1Q6"
   },
   "outputs": [],
   "source": [
    "# import and instantiate the PCA class\n",
    "from sklearn.decomposition import PCA\n",
    "pca = PCA(n_components=2)"
   ]
  },
  {
   "cell_type": "code",
   "execution_count": 247,
   "metadata": {},
   "outputs": [
    {
     "data": {
      "text/plain": [
       "array([[-0.57827837, -1.06042233],\n",
       "       [-0.48880549, -1.0641217 ],\n",
       "       [-0.37754382, -1.07033377],\n",
       "       [-1.93012953,  0.83772106],\n",
       "       [-0.62920013, -0.83777655]])"
      ]
     },
     "execution_count": 247,
     "metadata": {},
     "output_type": "execute_result"
    }
   ],
   "source": [
    "# Apply PCA to the data\n",
    "pca_features = pca.fit_transform(df_scaled)\n",
    "pca_features[:5]"
   ]
  },
  {
   "cell_type": "code",
   "execution_count": 248,
   "metadata": {},
   "outputs": [
    {
     "data": {
      "text/plain": [
       "array([0.68885231, 0.28612534])"
      ]
     },
     "execution_count": 248,
     "metadata": {},
     "output_type": "execute_result"
    }
   ],
   "source": [
    "#  how much variation did each principal component explain?\n",
    "pca.explained_variance_ratio_"
   ]
  },
  {
   "cell_type": "code",
   "execution_count": 249,
   "metadata": {},
   "outputs": [
    {
     "data": {
      "text/plain": [
       "0.974977653576111"
      ]
     },
     "execution_count": 249,
     "metadata": {},
     "output_type": "execute_result"
    }
   ],
   "source": [
    "# How much total variance did we explain?\n",
    "sum(pca.explained_variance_ratio_)"
   ]
  },
  {
   "cell_type": "code",
   "execution_count": 250,
   "metadata": {},
   "outputs": [
    {
     "data": {
      "text/plain": [
       "0.025022346423889008"
      ]
     },
     "execution_count": 250,
     "metadata": {},
     "output_type": "execute_result"
    }
   ],
   "source": [
    "# How much information did we lose?\n",
    "1-sum(pca.explained_variance_ratio_)"
   ]
  },
  {
   "cell_type": "code",
   "execution_count": 255,
   "metadata": {
    "scrolled": true
   },
   "outputs": [
    {
     "data": {
      "text/html": [
       "<div>\n",
       "<style scoped>\n",
       "    .dataframe tbody tr th:only-of-type {\n",
       "        vertical-align: middle;\n",
       "    }\n",
       "\n",
       "    .dataframe tbody tr th {\n",
       "        vertical-align: top;\n",
       "    }\n",
       "\n",
       "    .dataframe thead th {\n",
       "        text-align: right;\n",
       "    }\n",
       "</style>\n",
       "<table border=\"1\" class=\"dataframe\">\n",
       "  <thead>\n",
       "    <tr style=\"text-align: right;\">\n",
       "      <th></th>\n",
       "      <th>comp_1</th>\n",
       "      <th>comp_2</th>\n",
       "    </tr>\n",
       "  </thead>\n",
       "  <tbody>\n",
       "    <tr>\n",
       "      <th>0</th>\n",
       "      <td>-0.578278</td>\n",
       "      <td>-1.060422</td>\n",
       "    </tr>\n",
       "    <tr>\n",
       "      <th>1</th>\n",
       "      <td>-0.488805</td>\n",
       "      <td>-1.064122</td>\n",
       "    </tr>\n",
       "    <tr>\n",
       "      <th>2</th>\n",
       "      <td>-0.377544</td>\n",
       "      <td>-1.070334</td>\n",
       "    </tr>\n",
       "    <tr>\n",
       "      <th>3</th>\n",
       "      <td>-1.930130</td>\n",
       "      <td>0.837721</td>\n",
       "    </tr>\n",
       "    <tr>\n",
       "      <th>4</th>\n",
       "      <td>-0.629200</td>\n",
       "      <td>-0.837777</td>\n",
       "    </tr>\n",
       "  </tbody>\n",
       "</table>\n",
       "</div>"
      ],
      "text/plain": [
       "     comp_1    comp_2\n",
       "0 -0.578278 -1.060422\n",
       "1 -0.488805 -1.064122\n",
       "2 -0.377544 -1.070334\n",
       "3 -1.930130  0.837721\n",
       "4 -0.629200 -0.837777"
      ]
     },
     "execution_count": 255,
     "metadata": {},
     "output_type": "execute_result"
    }
   ],
   "source": [
    "# Turn that into a dataframe.\n",
    "df_pca=pd.DataFrame(pca_features, columns=['comp_1', 'comp_2'])\n",
    "df_pca.head()"
   ]
  },
  {
   "cell_type": "markdown",
   "metadata": {},
   "source": [
    "**now apply clustering**"
   ]
  },
  {
   "cell_type": "code",
   "execution_count": 256,
   "metadata": {},
   "outputs": [],
   "source": [
    "# Initialize an instance of the KMeans class from sklearn.\n",
    "k = 3\n",
    "model = KMeans(n_clusters=k, max_iter=1)"
   ]
  },
  {
   "cell_type": "code",
   "execution_count": 257,
   "metadata": {},
   "outputs": [
    {
     "data": {
      "text/plain": [
       "KMeans(algorithm='auto', copy_x=True, init='k-means++', max_iter=1,\n",
       "       n_clusters=3, n_init=10, n_jobs=None, precompute_distances='auto',\n",
       "       random_state=None, tol=0.0001, verbose=0)"
      ]
     },
     "execution_count": 257,
     "metadata": {},
     "output_type": "execute_result"
    }
   ],
   "source": [
    "# Fit the instantiated model to our sliced dataframe\n",
    "model.fit(df_pca.values)"
   ]
  },
  {
   "cell_type": "code",
   "execution_count": 258,
   "metadata": {},
   "outputs": [],
   "source": [
    "# Assign predicted clusters back to our dataframe\n",
    "df_pca['cluster'] = model.labels_"
   ]
  },
  {
   "cell_type": "code",
   "execution_count": 259,
   "metadata": {},
   "outputs": [],
   "source": [
    "# Get our centroids\n",
    "centroids    =  model.cluster_centers_"
   ]
  },
  {
   "cell_type": "code",
   "execution_count": 260,
   "metadata": {},
   "outputs": [
    {
     "data": {
      "text/html": [
       "<div>\n",
       "<style scoped>\n",
       "    .dataframe tbody tr th:only-of-type {\n",
       "        vertical-align: middle;\n",
       "    }\n",
       "\n",
       "    .dataframe tbody tr th {\n",
       "        vertical-align: top;\n",
       "    }\n",
       "\n",
       "    .dataframe thead th {\n",
       "        text-align: right;\n",
       "    }\n",
       "</style>\n",
       "<table border=\"1\" class=\"dataframe\">\n",
       "  <thead>\n",
       "    <tr style=\"text-align: right;\">\n",
       "      <th></th>\n",
       "      <th>0</th>\n",
       "      <th>1</th>\n",
       "    </tr>\n",
       "  </thead>\n",
       "  <tbody>\n",
       "    <tr>\n",
       "      <th>0</th>\n",
       "      <td>-0.480169</td>\n",
       "      <td>-0.997906</td>\n",
       "    </tr>\n",
       "    <tr>\n",
       "      <th>1</th>\n",
       "      <td>1.751613</td>\n",
       "      <td>0.346205</td>\n",
       "    </tr>\n",
       "    <tr>\n",
       "      <th>2</th>\n",
       "      <td>-1.469263</td>\n",
       "      <td>1.064103</td>\n",
       "    </tr>\n",
       "  </tbody>\n",
       "</table>\n",
       "</div>"
      ],
      "text/plain": [
       "          0         1\n",
       "0 -0.480169 -0.997906\n",
       "1  1.751613  0.346205\n",
       "2 -1.469263  1.064103"
      ]
     },
     "execution_count": 260,
     "metadata": {},
     "output_type": "execute_result"
    }
   ],
   "source": [
    "# turn them into a dataframe\n",
    "cc  =  pd.DataFrame(centroids)\n",
    "cc.head()"
   ]
  },
  {
   "cell_type": "code",
   "execution_count": 261,
   "metadata": {},
   "outputs": [],
   "source": [
    "# Setup some colors for plotting\n",
    "base_colors  =  ['r', 'g', 'b']\n",
    "colors       =  [base_colors[centroid] for centroid in model.labels_]"
   ]
  },
  {
   "cell_type": "code",
   "execution_count": 263,
   "metadata": {},
   "outputs": [
    {
     "data": {
      "image/png": "[encoded data removed]",
      "text/plain": [
       "<Figure size 504x432 with 1 Axes>"
      ]
     },
     "metadata": {
      "needs_background": "light"
     },
     "output_type": "display_data"
    }
   ],
   "source": [
    "# Plot the scatter of our points with calculated centroids\n",
    "fig, ax      =  plt.subplots(figsize=(7,6))\n",
    "ax.scatter(df_pca['comp_1'], df_pca['comp_2'], c=colors)\n",
    "ax.scatter(cc[0], cc[1], c=base_colors, s=100);"
   ]
  },
  {
   "cell_type": "code",
   "execution_count": 264,
   "metadata": {},
   "outputs": [
    {
     "data": {
      "text/plain": [
       "0.5360319202358241"
      ]
     },
     "execution_count": 264,
     "metadata": {},
     "output_type": "execute_result"
    }
   ],
   "source": [
    "# what's our silhouette score?\n",
    "metrics.silhouette_score(df, model.labels_, metric='euclidean')"
   ]
  },
  {
   "cell_type": "code",
   "execution_count": 265,
   "metadata": {},
   "outputs": [
    {
     "data": {
      "text/plain": [
       "array([0, 0, 0, 2, 0, 2, 0, 0, 1, 1, 1, 1, 1, 1, 1, 1, 2, 2, 0, 2, 1, 2,\n",
       "       0, 0, 0, 0, 0, 0, 2, 2, 2, 2, 2, 0, 0, 2, 1, 1, 1, 1, 1, 0, 0, 0,\n",
       "       1], dtype=int32)"
      ]
     },
     "execution_count": 265,
     "metadata": {},
     "output_type": "execute_result"
    }
   ],
   "source": [
    "# What is the predicted centroid for each data point?  \n",
    "model.labels_"
   ]
  },
  {
   "cell_type": "markdown",
   "metadata": {},
   "source": [
    "**K-Means tradeoffs**\n",
    "- Unsupervised clustering model\n",
    "- Iteratively finds labels given K\n",
    "- Easy to implement in sklearn\n",
    "- Sensitive to shape, scale of data\n",
    "- Optimal K hard to evaluate"
   ]
  },
  {
   "cell_type": "markdown",
   "metadata": {},
   "source": [
    "| strengths | weaknesses |\n",
    "|---|---|\n",
    "| K-Means is popular because it's simple and computationally efficient. | However, K-Means is highly scale dependent and isn't suitable for data of varying shapes and densities. |\n",
    "| Easy to see results / intuitive. | Evaluating results is more subjective, requiring much more human evaluation than trusted metrics. |"
   ]
  },
  {
   "cell_type": "markdown",
   "metadata": {},
   "source": [
    "**Additional Resources**  \n",
    "- Andrew Moore's CS class at Carnegie Mellon contains good static visualization, step-by-step. His slide deck is online here: http://www.cs.cmu.edu/~cga/ai-course/kmeans.pdf. He also links to more of his tutorials on the first page.\n",
    "\n",
    "Some helpful stackexchange questions:\n",
    "\n",
    "- http://stats.stackexchange.com/questions/40613/why-dont-dummy-variables-have-the-continuous-adjacent-category-problem-in-clust\n",
    "- http://stats.stackexchange.com/questions/174556/k-means-clustering-with-dummy-variables\n",
    "- http://datascience.stackexchange.com/questions/22/k-means-clustering-for-mixed-numeric-and-categorical-data"
   ]
  },
  {
   "cell_type": "code",
   "execution_count": null,
   "metadata": {},
   "outputs": [],
   "source": []
  }
 ],
 "metadata": {
  "accelerator": "GPU",
  "colab": {
   "collapsed_sections": [],
   "machine_shape": "hm",
   "name": "LS_DS_134_Clustering_and_NFL.ipynb",
   "provenance": []
  },
  "kernelspec": {
   "display_name": "Python 3",
   "language": "python",
   "name": "python3"
  },
  "language_info": {
   "codemirror_mode": {
    "name": "ipython",
    "version": 3
   },
   "file_extension": ".py",
   "mimetype": "text/x-python",
   "name": "python",
   "nbconvert_exporter": "python",
   "pygments_lexer": "ipython3",
   "version": "3.7.3"
  }
 },
 "nbformat": 4,
 "nbformat_minor": 1
}
